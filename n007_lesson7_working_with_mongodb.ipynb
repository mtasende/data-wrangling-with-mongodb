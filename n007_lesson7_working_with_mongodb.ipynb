{
 "cells": [
  {
   "cell_type": "markdown",
   "metadata": {},
   "source": [
    "# Quiz 1"
   ]
  },
  {
   "cell_type": "code",
   "execution_count": 1,
   "metadata": {},
   "outputs": [],
   "source": [
    "\"\"\"\n",
    "Your task is to sucessfully run the exercise to see how pymongo works\n",
    "and how easy it is to start using it.\n",
    "You don't actually have to change anything in this exercise,\n",
    "but you can change the city name in the add_city function if you like.\n",
    "\n",
    "Your code will be run against a MongoDB instance that we have provided.\n",
    "If you want to run this code on MongoDB outside of our classroom,\n",
    "please see the Instructor comments at the bottom of this page for link.\n",
    "\"\"\"\n",
    "\n",
    "def add_city(db):\n",
    "    # Changes to this function will be reflected in the output. \n",
    "    # All other functions are for local use only.\n",
    "    # Try changing the name of the city to be inserted\n",
    "    db.cities.insert_one({\"name\" : \"Antwerp\"})"
   ]
  },
  {
   "cell_type": "code",
   "execution_count": 3,
   "metadata": {},
   "outputs": [
    {
     "name": "stdout",
     "output_type": "stream",
     "text": [
      "{u'_id': ObjectId('5ca51c76873d810a620ed751'), u'name': u'Chicago'}\n"
     ]
    }
   ],
   "source": [
    "def get_city(db):\n",
    "    return db.cities.find_one()\n",
    "\n",
    "def get_db():\n",
    "    # For local use\n",
    "    from pymongo import MongoClient\n",
    "    client = MongoClient('localhost:27017')\n",
    "    # 'examples' here is the database name. It will be created if it does not exist.\n",
    "    db = client.examples\n",
    "    return db\n",
    "\n",
    "\n",
    "# For local use\n",
    "db = get_db() # uncomment this line if you want to run this locally\n",
    "add_city(db)\n",
    "print(get_city(db))"
   ]
  },
  {
   "cell_type": "markdown",
   "metadata": {},
   "source": [
    "# Quiz 2"
   ]
  },
  {
   "cell_type": "code",
   "execution_count": 4,
   "metadata": {},
   "outputs": [],
   "source": [
    "\"\"\"\n",
    "Your task is to complete the 'porsche_query' function and in particular the query\n",
    "to find all autos where the manufacturer field matches \"Porsche\".\n",
    "Please modify only 'porsche_query' function, as only that will be taken into account.\n",
    "\n",
    "Your code will be run against a MongoDB instance that we have provided.\n",
    "If you want to run this code locally on your machine,\n",
    "you have to install MongoDB and download and insert the dataset.\n",
    "\"\"\"\n",
    "\n",
    "def porsche_query():\n",
    "    # Please fill in the query to find all autos manuafactured by Porsche.\n",
    "    query = {'manufacturer': 'Porsche'}\n",
    "    return query"
   ]
  },
  {
   "cell_type": "code",
   "execution_count": 5,
   "metadata": {},
   "outputs": [
    {
     "name": "stdout",
     "output_type": "stream",
     "text": [
      "Printing first 3 results\n",
      "\n"
     ]
    }
   ],
   "source": [
    "# Do not edit code below this line in the online code editor.\n",
    "# Code here is for local use on your own computer.\n",
    "def get_db(db_name):\n",
    "    # For local use\n",
    "    from pymongo import MongoClient\n",
    "    client = MongoClient('localhost:27017')\n",
    "    db = client[db_name]\n",
    "    return db\n",
    "\n",
    "def find_porsche(db, query):\n",
    "    # For local use\n",
    "    return db.autos.find(query)\n",
    "\n",
    "\n",
    "# For local use\n",
    "db = get_db('examples')\n",
    "query = porsche_query()\n",
    "results = find_porsche(db, query)\n",
    "print(\"Printing first 3 results\\n\")\n",
    "import pprint\n",
    "for car in results[:3]:\n",
    "    pprint.pprint(car)"
   ]
  },
  {
   "cell_type": "markdown",
   "metadata": {},
   "source": [
    "I don't have the data, so this doesn't display anything (it works in the student's workspace)."
   ]
  },
  {
   "cell_type": "markdown",
   "metadata": {},
   "source": [
    "# Quiz 2"
   ]
  },
  {
   "cell_type": "code",
   "execution_count": 8,
   "metadata": {},
   "outputs": [
    {
     "name": "stdout",
     "output_type": "stream",
     "text": [
      "{u'assembly': [u'Hiroshima', u'Japan'], u'name': [u'Eunos Roadster', u'Mazda MX-5', u'Mazda MX-5 Miata', u'Mazda Miata', u'Mazda Roadster'], u'modelYears': [], u'productionYears': [], u'layout': u'front-engine rear-wheel-drive layout', u'_id': ObjectId('5ca63874873d810351d148c1'), u'class': u'roadster', u'manufacturer': u'Mazda'}\n"
     ]
    }
   ],
   "source": [
    "\"\"\" \n",
    "Add a single line of code to the insert_autos function that will insert the\n",
    "automobile data into the 'autos' collection. The data variable that is\n",
    "returned from the process_file function is a list of dictionaries, as in the\n",
    "example in the previous video.\n",
    "\"\"\"\n",
    "\n",
    "from autos import process_file\n",
    "\n",
    "\n",
    "def insert_autos(infile, db):\n",
    "    data = process_file(infile)\n",
    "    db.autos.insert_many(data)\n",
    "    \n",
    "\n",
    "# Code here is for local use on your own computer.\n",
    "from pymongo import MongoClient\n",
    "\n",
    "client = MongoClient(\"mongodb://localhost:27017\")\n",
    "db = client.examples\n",
    "\n",
    "insert_autos('autos-small.csv', db)\n",
    "print(db.autos.find_one())"
   ]
  },
  {
   "cell_type": "markdown",
   "metadata": {},
   "source": [
    "To \"bulk import\" a json file:\n",
    "\n",
    "\n",
    "$ mongoimport -d examples -c myautos2 --file autos.json"
   ]
  },
  {
   "cell_type": "markdown",
   "metadata": {},
   "source": [
    "### Operators\n",
    " - Same idea as in programming languages\n",
    " - Same syntax as field names\n",
    " - Distinguished using $"
   ]
  },
  {
   "cell_type": "markdown",
   "metadata": {},
   "source": [
    "**Range queries:**\n",
    "\n",
    " - \\$gt\n",
    " - \\$lt\n",
    " - \\$gte\n",
    " - \\$lte\n",
    " - \\$ne\n",
    "\n",
    "```\n",
    "query = {\"population\": {\"$gt\": 250000, \"$lte\": 500000}}\n",
    "query = {\"name\": {\"$gt\": \"X\", \"$lte\": \"Y\"}}\n",
    "query = {\"foundingDate\": {\"$gte\": datetime(1870, 3, 1), \"$lte\": datetime(1900, 1, 2)}}\n",
    "```"
   ]
  },
  {
   "cell_type": "markdown",
   "metadata": {},
   "source": [
    "# Quiz 3"
   ]
  },
  {
   "cell_type": "code",
   "execution_count": 14,
   "metadata": {},
   "outputs": [
    {
     "name": "stdout",
     "output_type": "stream",
     "text": [
      "Found cities: 0\n"
     ]
    },
    {
     "name": "stderr",
     "output_type": "stream",
     "text": [
      "/Users/antelinvestigacionydesarrollo/anaconda3/envs/python2/lib/python2.7/site-packages/ipykernel_launcher.py:34: DeprecationWarning: count is deprecated. Use Collection.count_documents instead.\n"
     ]
    }
   ],
   "source": [
    "\"\"\"\n",
    "Your task is to write a query that will return all cities\n",
    "that are founded in 21st century.\n",
    "Please modify only 'range_query' function, as only that will be taken into account.\n",
    "\n",
    "Your code will be run against a MongoDB instance that we have provided.\n",
    "If you want to run this code locally on your machine,\n",
    "you have to install MongoDB, download and insert the dataset.\n",
    "For instructions related to MongoDB setup and datasets please see Course Materials.\n",
    "\"\"\"\n",
    "\n",
    "from datetime import datetime\n",
    "    \n",
    "def range_query():\n",
    "    # Modify the below line with your query.\n",
    "    # You can use datetime(year, month, day) to specify date in the query\n",
    "    query = {'foundingDate': {'$gte': datetime(2000,1,1)}}\n",
    "    return query\n",
    "\n",
    "# Do not edit code below this line in the online code editor.\n",
    "# Code here is for local use on your own computer.\n",
    "def get_db():\n",
    "    from pymongo import MongoClient\n",
    "    client = MongoClient('localhost:27017')\n",
    "    db = client.examples\n",
    "    return db\n",
    "\n",
    "\n",
    "# For local use\n",
    "db = get_db()\n",
    "query = range_query()\n",
    "cities = db.cities.find(query)\n",
    "\n",
    "print \"Found cities:\", cities.count()\n",
    "import pprint\n",
    "# pprint.pprint(cities[0])"
   ]
  },
  {
   "cell_type": "markdown",
   "metadata": {},
   "source": [
    "```\n",
    "db.cities.find({\"governmentType\": {\"$exists\": 1}})\n",
    "db.cities.find({\"motto\": {\"$regex\": \"[Ff]riendship|[Pp]ride\"}}).pretty()\n",
    "db.autos.find({\"modelYears\": 1980})  # Matches one element in the array\n",
    "db.autos.find({\"modelYears\": {\"$in\": [1980, 1982, 1995]}})  # Matches if there is one element that is in the list\n",
    "```"
   ]
  },
  {
   "cell_type": "markdown",
   "metadata": {},
   "source": [
    "# Quiz 4"
   ]
  },
  {
   "cell_type": "code",
   "execution_count": 15,
   "metadata": {},
   "outputs": [
    {
     "name": "stdout",
     "output_type": "stream",
     "text": [
      "Found autos: 0\n"
     ]
    },
    {
     "name": "stderr",
     "output_type": "stream",
     "text": [
      "/Users/antelinvestigacionydesarrollo/anaconda3/envs/python2/lib/python2.7/site-packages/ipykernel_launcher.py:39: DeprecationWarning: count is deprecated. Use Collection.count_documents instead.\n"
     ]
    }
   ],
   "source": [
    "#!/usr/bin/env python\n",
    "\"\"\"\n",
    "Your task is to write a query that will return all cars manufactured by\n",
    "\"Ford Motor Company\" that are assembled in Germany, United Kingdom, or Japan.\n",
    "Please modify only 'in_query' function, as only that will be taken into account.\n",
    "\n",
    "Your code will be run against a MongoDB instance that we have provided.\n",
    "If you want to run this code locally on your machine,\n",
    "you have to install MongoDB, download and insert the dataset.\n",
    "For instructions related to MongoDB setup and datasets please see Course Materials.\n",
    "\"\"\"\n",
    "\n",
    "\n",
    "def in_query():\n",
    "    # Modify the below line with your query; try to use the $in operator.\n",
    "    query = {\n",
    "        \"manufacturer\": \"Ford Motor Company\",\n",
    "        \"assembly\": {\"$in\": [\"Germany\", \"United Kingdom\", \"Japan\"]}\n",
    "    }\n",
    "    \n",
    "    return query\n",
    "\n",
    "\n",
    "# Do not edit code below this line in the online code editor.\n",
    "# Code here is for local use on your own computer.\n",
    "def get_db():\n",
    "    from pymongo import MongoClient\n",
    "    client = MongoClient('localhost:27017')\n",
    "    db = client.examples\n",
    "    return db\n",
    "\n",
    "\n",
    "if __name__ == \"__main__\":\n",
    "\n",
    "    db = get_db()\n",
    "    query = in_query()\n",
    "    autos = db.autos.find(query, {\"name\":1, \"manufacturer\":1, \"assembly\": 1, \"_id\":0})\n",
    "\n",
    "    print \"Found autos:\", autos.count()\n",
    "    import pprint\n",
    "    for a in autos:\n",
    "        pprint.pprint(a)"
   ]
  },
  {
   "cell_type": "markdown",
   "metadata": {},
   "source": [
    "### all operator\n",
    "\n",
    "```\n",
    "db.autos.find({\"modelYears\": {\"$all\": [1999, 1994, 1993]}})\n",
    "```"
   ]
  },
  {
   "cell_type": "markdown",
   "metadata": {},
   "source": [
    "```\n",
    "db.autos.find({\"dimensions.weight\": {\"$gt\": 5000}}).count()\n",
    "```"
   ]
  },
  {
   "cell_type": "markdown",
   "metadata": {},
   "source": [
    "# Quiz 5"
   ]
  },
  {
   "cell_type": "code",
   "execution_count": 18,
   "metadata": {},
   "outputs": [
    {
     "name": "stdout",
     "output_type": "stream",
     "text": [
      "Printing first 3 results\n",
      "\n"
     ]
    }
   ],
   "source": [
    "\"\"\"\n",
    "Your task is to write a query that will return all cars with width dimension\n",
    "greater than 2.5. Please modify only the 'dot_query' function, as only that\n",
    "will be taken into account.\n",
    "\n",
    "Your code will be run against a MongoDB instance that we have provided.\n",
    "If you want to run this code locally on your machine, you will need to install\n",
    "MongoDB, download and insert the dataset. For instructions related to MongoDB\n",
    "setup and datasets, please see the Course Materials.\n",
    "\"\"\"\n",
    "\n",
    "\n",
    "def dot_query():\n",
    "    # Edit the line below with your query - try to use dot notation.\n",
    "    # You can check out example_auto.txt for an example of the document\n",
    "    # structure in the collection.\n",
    "    query = {\"dimensions.width\": {\"$gt\": 2.5}}\n",
    "    return query\n",
    "\n",
    "\n",
    "# Do not edit code below this line in the online code editor.\n",
    "# Code here is for local use on your own computer.\n",
    "def get_db():\n",
    "    from pymongo import MongoClient\n",
    "    client = MongoClient('localhost:27017')\n",
    "    db = client.examples\n",
    "    return db\n",
    "\n",
    "\n",
    "if __name__ == \"__main__\":\n",
    "    db = get_db()\n",
    "    query = dot_query()\n",
    "    cars = db.cars.find(query)\n",
    "\n",
    "    print \"Printing first 3 results\\n\"\n",
    "    import pprint\n",
    "    for car in cars[:3]:\n",
    "        pprint.pprint(car)\n"
   ]
  },
  {
   "cell_type": "markdown",
   "metadata": {},
   "source": [
    "```\n",
    "db.cities.save(city)  # Modifies or creates if it doesn't exist\n",
    "\n",
    "db.cities.update(\n",
    "    {\"name\": \"München\", \"country\": \"Germany\"},\n",
    "    {\"$set\": {\"isoCountryCode\": \"DEU\"}}\n",
    ")  # Finds document and modifies or creates fields.\n",
    "\n",
    "db.cities.update(\n",
    "    {\"name\": \"München\", \"country\": \"Germany\"},\n",
    "    {\"$unset\": {\"isoCountryCode\": \"DEU\"}}\n",
    ")  # Finds document and if it has the field specified it removes it\n",
    "```"
   ]
  },
  {
   "cell_type": "markdown",
   "metadata": {},
   "source": [
    "### Multi-update\n",
    "\n",
    "```\n",
    "db.cities.update(\n",
    "    {\"country\": \"Germany\"},\n",
    "    {\"$set\": {\"isoCountryCode\": \"DEU\"}},\n",
    "    multi=True\n",
    ")  # Modifies all the documents that match country = Germany\n",
    "```"
   ]
  },
  {
   "cell_type": "markdown",
   "metadata": {},
   "source": [
    "### Removing documents\n",
    "\n",
    "```\n",
    "db.cities.drop()\n",
    "db.cities.remove({\"name\": \"Chicago\"})\n",
    "db.cities.remove({\"name\": {\"$exists\": 0}})\n",
    "```"
   ]
  },
  {
   "cell_type": "code",
   "execution_count": null,
   "metadata": {},
   "outputs": [],
   "source": []
  }
 ],
 "metadata": {
  "kernelspec": {
   "display_name": "python2",
   "language": "python",
   "name": "python2"
  },
  "language_info": {
   "codemirror_mode": {
    "name": "ipython",
    "version": 2
   },
   "file_extension": ".py",
   "mimetype": "text/x-python",
   "name": "python",
   "nbconvert_exporter": "python",
   "pygments_lexer": "ipython2",
   "version": "2.7.14"
  }
 },
 "nbformat": 4,
 "nbformat_minor": 2
}
