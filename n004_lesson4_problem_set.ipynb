{
 "cells": [
  {
   "cell_type": "markdown",
   "metadata": {},
   "source": [
    "# Quiz 1"
   ]
  },
  {
   "cell_type": "code",
   "execution_count": 7,
   "metadata": {},
   "outputs": [],
   "source": [
    "\"\"\"\n",
    "Your task in this exercise is to modify 'extract_carrier()` to get a list of\n",
    "all airlines. Exclude all of the combination values like \"All U.S. Carriers\"\n",
    "from the data that you return. You should return a list of codes for the\n",
    "carriers.\n",
    "\n",
    "All your changes should be in the 'extract_carrier()' function. The\n",
    "'options.html' file in the tab above is a stripped down version of what is\n",
    "actually on the website, but should provide an example of what you should get\n",
    "from the full file.\n",
    "\n",
    "Please note that the function 'make_request()' is provided for your reference\n",
    "only. You will not be able to to actually use it from within the Udacity web UI.\n",
    "\"\"\"\n",
    "\n",
    "from bs4 import BeautifulSoup\n",
    "html_page = \"data/options.html\""
   ]
  },
  {
   "cell_type": "code",
   "execution_count": 21,
   "metadata": {},
   "outputs": [],
   "source": [
    "page = \"data/options.html\"\n",
    "with open(page, \"r\") as html:\n",
    "        soup = BeautifulSoup(html, \"lxml\")"
   ]
  },
  {
   "cell_type": "code",
   "execution_count": 27,
   "metadata": {},
   "outputs": [
    {
     "name": "stdout",
     "output_type": "stream",
     "text": [
      "All \t\t\t-\t All U.S. and Foreign Carriers\n",
      "AllUS \t\t\t-\t All U.S. Carriers\n",
      "AllForeign \t\t\t-\t All Foreign Carriers\n",
      "FL \t\t\t-\t AirTran Airways\n",
      "AS \t\t\t-\t Alaska Airlines \n",
      "AA \t\t\t-\t American Airlines \n",
      "MQ \t\t\t-\t American Eagle Airlines \n",
      "5Y \t\t\t-\t Atlas Air \n",
      "DL \t\t\t-\t Delta Air Lines \n",
      "EV \t\t\t-\t ExpressJet Airlines \n",
      "F9 \t\t\t-\t Frontier Airlines \n",
      "HA \t\t\t-\t Hawaiian Airlines \n",
      "B6 \t\t\t-\t JetBlue Airways\n",
      "OO \t\t\t-\t SkyWest Airlines \n",
      "WN \t\t\t-\t Southwest Airlines \n",
      "NK \t\t\t-\t Spirit Air Lines\n",
      "US \t\t\t-\t US Airways \n",
      "UA \t\t\t-\t United Air Lines \n",
      "VX \t\t\t-\t Virgin America\n"
     ]
    }
   ],
   "source": [
    "carrier_list = soup.find('select', id='CarrierList')\n",
    "for carrier in carrier_list.find_all('option'):\n",
    "    print('{} \\t\\t\\t-\\t {}'.format(carrier.get('value'), carrier.string))"
   ]
  },
  {
   "cell_type": "code",
   "execution_count": 31,
   "metadata": {},
   "outputs": [],
   "source": [
    "def extract_carriers(page):\n",
    "\n",
    "    with open(page, \"r\") as html:\n",
    "        soup = BeautifulSoup(html, \"lxml\")\n",
    "    carrier_list = soup.find('select', id='CarrierList')\n",
    "    data = [c.get('value') \n",
    "        for c in carrier_list.find_all('option') \n",
    "        if not c.get('value').startswith('All')]\n",
    "\n",
    "    return data"
   ]
  },
  {
   "cell_type": "code",
   "execution_count": 32,
   "metadata": {},
   "outputs": [],
   "source": [
    "def make_request(data):\n",
    "    eventvalidation = data[\"eventvalidation\"]\n",
    "    viewstate = data[\"viewstate\"]\n",
    "    airport = data[\"airport\"]\n",
    "    carrier = data[\"carrier\"]\n",
    "\n",
    "    r = s.post(\"https://www.transtats.bts.gov/Data_Elements.aspx?Data=2\",\n",
    "               data = ((\"__EVENTTARGET\", \"\"),\n",
    "                       (\"__EVENTARGUMENT\", \"\"),\n",
    "                       (\"__VIEWSTATE\", viewstate),\n",
    "                       (\"__VIEWSTATEGENERATOR\",viewstategenerator),\n",
    "                       (\"__EVENTVALIDATION\", eventvalidation),\n",
    "                       (\"CarrierList\", carrier),\n",
    "                       (\"AirportList\", airport),\n",
    "                       (\"Submit\", \"Submit\")))\n",
    "\n",
    "    return r.text\n",
    "\n",
    "\n",
    "def test():\n",
    "    data = extract_carriers(html_page)\n",
    "    assert len(data) == 16\n",
    "    assert \"FL\" in data\n",
    "    assert \"NK\" in data\n",
    "\n",
    "test()"
   ]
  },
  {
   "cell_type": "markdown",
   "metadata": {},
   "source": [
    "# Quiz 2"
   ]
  },
  {
   "cell_type": "code",
   "execution_count": 36,
   "metadata": {},
   "outputs": [],
   "source": [
    "\"\"\"\n",
    "Complete the 'extract_airports()' function so that it returns a list of airport\n",
    "codes, excluding any combinations like \"All\".\n",
    "\n",
    "Refer to the 'options.html' file in the tab above for a stripped down version\n",
    "of what is actually on the website. The test() assertions are based on the\n",
    "given file.\n",
    "\"\"\"\n",
    "\n",
    "from bs4 import BeautifulSoup\n",
    "html_page = \"data/options.html\""
   ]
  },
  {
   "cell_type": "code",
   "execution_count": 43,
   "metadata": {},
   "outputs": [],
   "source": [
    "def extract_airports(page):\n",
    "    with open(page, \"r\") as html:\n",
    "        soup = BeautifulSoup(html, \"lxml\")\n",
    "        airport_list = soup.find('select', id='AirportList')\n",
    "        data = [c.get('value') \n",
    "                for c in airport_list.find_all('option') \n",
    "                if not c.get('value').startswith('All')]\n",
    "\n",
    "    return data"
   ]
  },
  {
   "cell_type": "code",
   "execution_count": 44,
   "metadata": {},
   "outputs": [
    {
     "data": {
      "text/plain": [
       "['ATL',\n",
       " 'BWI',\n",
       " 'BOS',\n",
       " 'CLT',\n",
       " 'MDW',\n",
       " 'ORD',\n",
       " 'DFW',\n",
       " 'DEN',\n",
       " 'DTW',\n",
       " 'FLL',\n",
       " 'IAH',\n",
       " 'LAS',\n",
       " 'LAX',\n",
       " 'ABR',\n",
       " 'ABI']"
      ]
     },
     "execution_count": 44,
     "metadata": {},
     "output_type": "execute_result"
    }
   ],
   "source": [
    "extract_airports(html_page)"
   ]
  },
  {
   "cell_type": "code",
   "execution_count": 45,
   "metadata": {},
   "outputs": [],
   "source": [
    "def test():\n",
    "    data = extract_airports(html_page)\n",
    "    assert len(data) == 15\n",
    "    assert \"ATL\" in data\n",
    "    assert \"ABR\" in data\n",
    "\n",
    "test()"
   ]
  },
  {
   "cell_type": "markdown",
   "metadata": {},
   "source": [
    "# Quiz 3"
   ]
  },
  {
   "cell_type": "code",
   "execution_count": 110,
   "metadata": {},
   "outputs": [],
   "source": [
    "\"\"\"\n",
    "Let's assume that you combined the code from the previous 2 exercises with code\n",
    "from the lesson on how to build requests, and downloaded all the data locally.\n",
    "The files are in a directory \"data\", named after the carrier and airport:\n",
    "\"{}-{}.html\".format(carrier, airport), for example \"FL-ATL.html\".\n",
    "\n",
    "The table with flight info has a table class=\"dataTDRight\". Your task is to\n",
    "use 'process_file()' to extract the flight data from that table as a list of\n",
    "dictionaries, each dictionary containing relevant data from the file and table\n",
    "row. This is an example of the data structure you should return:\n",
    "\n",
    "data = [{\"courier\": \"FL\",\n",
    "         \"airport\": \"ATL\",\n",
    "         \"year\": 2012,\n",
    "         \"month\": 12,\n",
    "         \"flights\": {\"domestic\": 100,\n",
    "                     \"international\": 100}\n",
    "        },\n",
    "         {\"courier\": \"...\"}\n",
    "]\n",
    "\n",
    "Note - year, month, and the flight data should be integers.\n",
    "You should skip the rows that contain the TOTAL data for a year.\n",
    "\n",
    "There are couple of helper functions to deal with the data files.\n",
    "Please do not change them for grading purposes.\n",
    "All your changes should be in the 'process_file()' function.\n",
    "\n",
    "The 'data/FL-ATL.html' file in the tab above is only a part of the full data,\n",
    "covering data through 2003. The test() code will be run on the full table, but\n",
    "the given file should provide an example of what you will get.\n",
    "\"\"\"\n",
    "from bs4 import BeautifulSoup\n",
    "from zipfile import ZipFile\n",
    "import os\n",
    "\n",
    "datadir = \"data/response\"\n",
    "\n",
    "\n",
    "def open_zip(datadir):\n",
    "    with ZipFile('{0}.zip'.format(datadir), 'r') as myzip:\n",
    "        myzip.extractall()\n",
    "\n",
    "        \n",
    "def process_all(datadir):\n",
    "    files = os.listdir(datadir)\n",
    "    return files"
   ]
  },
  {
   "cell_type": "code",
   "execution_count": 111,
   "metadata": {},
   "outputs": [],
   "source": [
    "f = 'FL-ATL.html'\n",
    "data = []\n",
    "info = {}\n",
    "info[\"courier\"], info[\"airport\"] = f[:6].split(\"-\")\n",
    "# Note: create a new dictionary for each entry in the output data list.\n",
    "# If you use the info dictionary defined here each element in the list \n",
    "# will be a reference to the same info dictionary.\n",
    "with open(\"{}/{}\".format(datadir, f), \"r\") as html:\n",
    "    soup = BeautifulSoup(html, 'lxml')\n"
   ]
  },
  {
   "cell_type": "code",
   "execution_count": 112,
   "metadata": {},
   "outputs": [],
   "source": [
    "table = soup.find('table', id='DataGrid1')"
   ]
  },
  {
   "cell_type": "code",
   "execution_count": 113,
   "metadata": {},
   "outputs": [],
   "source": [
    "def extract_row(row, info):\n",
    "    values = [int(v.string.replace(',', '')) if v.string != 'TOTAL' else v.string\n",
    "              for v in row.find_all('td')]\n",
    "    if values[1] == 'TOTAL':\n",
    "        return None\n",
    "    info['year'] = values[0]\n",
    "    info['month'] = values[1]\n",
    "    info['flights'] = {'domestic': values[2],\n",
    "                       'international': values[3]}\n",
    "    return info"
   ]
  },
  {
   "cell_type": "code",
   "execution_count": 114,
   "metadata": {},
   "outputs": [
    {
     "data": {
      "text/plain": [
       "{'courier': 'FL', 'airport': 'ATL'}"
      ]
     },
     "execution_count": 114,
     "metadata": {},
     "output_type": "execute_result"
    }
   ],
   "source": [
    "info"
   ]
  },
  {
   "cell_type": "code",
   "execution_count": 115,
   "metadata": {},
   "outputs": [
    {
     "name": "stdout",
     "output_type": "stream",
     "text": [
      "{'courier': 'FL', 'airport': 'ATL', 'year': 2002, 'month': 10, 'flights': {'domestic': 815489, 'international': 92565}}\n",
      "{'courier': 'FL', 'airport': 'ATL', 'year': 2002, 'month': 11, 'flights': {'domestic': 766775, 'international': 91342}}\n",
      "{'courier': 'FL', 'airport': 'ATL', 'year': 2002, 'month': 12, 'flights': {'domestic': 782175, 'international': 96881}}\n",
      "None\n",
      "{'courier': 'FL', 'airport': 'ATL', 'year': 2003, 'month': 1, 'flights': {'domestic': 785651, 'international': 98053}}\n",
      "{'courier': 'FL', 'airport': 'ATL', 'year': 2003, 'month': 2, 'flights': {'domestic': 690750, 'international': 85965}}\n",
      "{'courier': 'FL', 'airport': 'ATL', 'year': 2003, 'month': 3, 'flights': {'domestic': 797634, 'international': 97929}}\n",
      "{'courier': 'FL', 'airport': 'ATL', 'year': 2003, 'month': 4, 'flights': {'domestic': 766639, 'international': 89398}}\n",
      "{'courier': 'FL', 'airport': 'ATL', 'year': 2003, 'month': 5, 'flights': {'domestic': 789857, 'international': 87671}}\n",
      "{'courier': 'FL', 'airport': 'ATL', 'year': 2003, 'month': 6, 'flights': {'domestic': 798841, 'international': 95435}}\n",
      "{'courier': 'FL', 'airport': 'ATL', 'year': 2003, 'month': 7, 'flights': {'domestic': 832075, 'international': 102795}}\n",
      "{'courier': 'FL', 'airport': 'ATL', 'year': 2003, 'month': 8, 'flights': {'domestic': 831185, 'international': 102145}}\n",
      "{'courier': 'FL', 'airport': 'ATL', 'year': 2003, 'month': 9, 'flights': {'domestic': 782264, 'international': 90681}}\n",
      "{'courier': 'FL', 'airport': 'ATL', 'year': 2003, 'month': 10, 'flights': {'domestic': 818777, 'international': 91820}}\n",
      "{'courier': 'FL', 'airport': 'ATL', 'year': 2003, 'month': 11, 'flights': {'domestic': 766266, 'international': 91004}}\n",
      "{'courier': 'FL', 'airport': 'ATL', 'year': 2003, 'month': 12, 'flights': {'domestic': 798879, 'international': 97094}}\n",
      "None\n"
     ]
    }
   ],
   "source": [
    "for row in table.find_all('tr', {'class':'dataTDRight'}):\n",
    "    print(extract_row(row, info))"
   ]
  },
  {
   "cell_type": "code",
   "execution_count": 120,
   "metadata": {},
   "outputs": [],
   "source": [
    "def process_file(f):\n",
    "    \"\"\"\n",
    "    This function extracts data from the file given as the function argument in\n",
    "    a list of dictionaries. This is example of the data structure you should\n",
    "    return:\n",
    "\n",
    "    data = [{\"courier\": \"FL\",\n",
    "             \"airport\": \"ATL\",\n",
    "             \"year\": 2012,\n",
    "             \"month\": 12,\n",
    "             \"flights\": {\"domestic\": 100,\n",
    "                         \"international\": 100}\n",
    "            },\n",
    "            {\"courier\": \"...\"}\n",
    "    ]\n",
    "\n",
    "\n",
    "    Note - year, month, and the flight data should be integers.\n",
    "    You should skip the rows that contain the TOTAL data for a year.\n",
    "    \"\"\"\n",
    "    def extract_row(row, info):\n",
    "        values = [int(v.string.replace(',', '')) \n",
    "                  if v.string != 'TOTAL' else v.string\n",
    "                  for v in row.find_all('td')]\n",
    "        if values[1] == 'TOTAL':\n",
    "            return None\n",
    "        info['year'] = values[0]\n",
    "        info['month'] = values[1]\n",
    "        info['flights'] = {'domestic': values[2],\n",
    "                           'international': values[3]}\n",
    "        return info\n",
    "    \n",
    "    info = {}\n",
    "    info[\"courier\"], info[\"airport\"] = f[:6].split(\"-\")\n",
    "    # Note: create a new dictionary for each entry in the output data list.\n",
    "    # If you use the info dictionary defined here each element in the list \n",
    "    # will be a reference to the same info dictionary.\n",
    "    with open(\"{}/{}\".format(datadir, f), \"r\") as html:\n",
    "        soup = BeautifulSoup(html, 'lxml')\n",
    "    table = soup.find('table', id='DataGrid1')\n",
    "    \n",
    "    data = [extract_row(row, info)\n",
    "            for row in table.find_all('tr', {'class':'dataTDRight'})\n",
    "            if extract_row(row, info)]\n",
    "    \n",
    "    return data"
   ]
  },
  {
   "cell_type": "code",
   "execution_count": 121,
   "metadata": {},
   "outputs": [
    {
     "data": {
      "text/plain": [
       "[{'courier': 'FL',\n",
       "  'airport': 'ATL',\n",
       "  'year': 2003,\n",
       "  'month': 12,\n",
       "  'flights': {'domestic': 798879, 'international': 97094}},\n",
       " {'courier': 'FL',\n",
       "  'airport': 'ATL',\n",
       "  'year': 2003,\n",
       "  'month': 12,\n",
       "  'flights': {'domestic': 798879, 'international': 97094}},\n",
       " {'courier': 'FL',\n",
       "  'airport': 'ATL',\n",
       "  'year': 2003,\n",
       "  'month': 12,\n",
       "  'flights': {'domestic': 798879, 'international': 97094}},\n",
       " {'courier': 'FL',\n",
       "  'airport': 'ATL',\n",
       "  'year': 2003,\n",
       "  'month': 12,\n",
       "  'flights': {'domestic': 798879, 'international': 97094}},\n",
       " {'courier': 'FL',\n",
       "  'airport': 'ATL',\n",
       "  'year': 2003,\n",
       "  'month': 12,\n",
       "  'flights': {'domestic': 798879, 'international': 97094}},\n",
       " {'courier': 'FL',\n",
       "  'airport': 'ATL',\n",
       "  'year': 2003,\n",
       "  'month': 12,\n",
       "  'flights': {'domestic': 798879, 'international': 97094}},\n",
       " {'courier': 'FL',\n",
       "  'airport': 'ATL',\n",
       "  'year': 2003,\n",
       "  'month': 12,\n",
       "  'flights': {'domestic': 798879, 'international': 97094}},\n",
       " {'courier': 'FL',\n",
       "  'airport': 'ATL',\n",
       "  'year': 2003,\n",
       "  'month': 12,\n",
       "  'flights': {'domestic': 798879, 'international': 97094}},\n",
       " {'courier': 'FL',\n",
       "  'airport': 'ATL',\n",
       "  'year': 2003,\n",
       "  'month': 12,\n",
       "  'flights': {'domestic': 798879, 'international': 97094}},\n",
       " {'courier': 'FL',\n",
       "  'airport': 'ATL',\n",
       "  'year': 2003,\n",
       "  'month': 12,\n",
       "  'flights': {'domestic': 798879, 'international': 97094}},\n",
       " {'courier': 'FL',\n",
       "  'airport': 'ATL',\n",
       "  'year': 2003,\n",
       "  'month': 12,\n",
       "  'flights': {'domestic': 798879, 'international': 97094}},\n",
       " {'courier': 'FL',\n",
       "  'airport': 'ATL',\n",
       "  'year': 2003,\n",
       "  'month': 12,\n",
       "  'flights': {'domestic': 798879, 'international': 97094}},\n",
       " {'courier': 'FL',\n",
       "  'airport': 'ATL',\n",
       "  'year': 2003,\n",
       "  'month': 12,\n",
       "  'flights': {'domestic': 798879, 'international': 97094}},\n",
       " {'courier': 'FL',\n",
       "  'airport': 'ATL',\n",
       "  'year': 2003,\n",
       "  'month': 12,\n",
       "  'flights': {'domestic': 798879, 'international': 97094}},\n",
       " {'courier': 'FL',\n",
       "  'airport': 'ATL',\n",
       "  'year': 2003,\n",
       "  'month': 12,\n",
       "  'flights': {'domestic': 798879, 'international': 97094}}]"
      ]
     },
     "execution_count": 121,
     "metadata": {},
     "output_type": "execute_result"
    }
   ],
   "source": [
    "process_file('FL-ATL.html')"
   ]
  },
  {
   "cell_type": "markdown",
   "metadata": {},
   "source": [
    "# Quiz 4"
   ]
  },
  {
   "cell_type": "code",
   "execution_count": 125,
   "metadata": {},
   "outputs": [
    {
     "ename": "ParseError",
     "evalue": "junk after document element: line 657, column 0 (<string>)",
     "output_type": "error",
     "traceback": [
      "Traceback \u001b[0;36m(most recent call last)\u001b[0m:\n",
      "  File \u001b[1;32m\"/Users/antelinvestigacionydesarrollo/anaconda3/envs/data/lib/python3.6/site-packages/IPython/core/interactiveshell.py\"\u001b[0m, line \u001b[1;32m2963\u001b[0m, in \u001b[1;35mrun_code\u001b[0m\n    exec(code_obj, self.user_global_ns, self.user_ns)\n",
      "  File \u001b[1;32m\"<ipython-input-125-e334930f1904>\"\u001b[0m, line \u001b[1;32m28\u001b[0m, in \u001b[1;35m<module>\u001b[0m\n    get_root(PATENTS)\n",
      "  File \u001b[1;32m\"<ipython-input-125-e334930f1904>\"\u001b[0m, line \u001b[1;32m24\u001b[0m, in \u001b[1;35mget_root\u001b[0m\n    tree = ET.parse(fname)\n",
      "  File \u001b[1;32m\"/Users/antelinvestigacionydesarrollo/anaconda3/envs/data/lib/python3.6/xml/etree/ElementTree.py\"\u001b[0m, line \u001b[1;32m1196\u001b[0m, in \u001b[1;35mparse\u001b[0m\n    tree.parse(source, parser)\n",
      "\u001b[0;36m  File \u001b[0;32m\"/Users/antelinvestigacionydesarrollo/anaconda3/envs/data/lib/python3.6/xml/etree/ElementTree.py\"\u001b[0;36m, line \u001b[0;32m597\u001b[0;36m, in \u001b[0;35mparse\u001b[0;36m\u001b[0m\n\u001b[0;31m    self._root = parser._parse_whole(source)\u001b[0m\n",
      "\u001b[0;36m  File \u001b[0;32m\"<string>\"\u001b[0;36m, line \u001b[0;32munknown\u001b[0m\n\u001b[0;31mParseError\u001b[0m\u001b[0;31m:\u001b[0m junk after document element: line 657, column 0\n"
     ]
    }
   ],
   "source": [
    "\"\"\"\n",
    "This and the following exercise are using US Patent database. The patent.data\n",
    "file is a small excerpt of much larger datafiles that are available for\n",
    "download from US Patent website. These files are pretty large ( >100 MB each).\n",
    "The original file is ~600MB large, you might not be able to open it in a text\n",
    "editor.\n",
    "\n",
    "The data itself is in XML, however there is a problem with how it's formatted.\n",
    "Please run this script and observe the error. Then find the line that is\n",
    "causing the error. You can do that by just looking at the datafile in the web\n",
    "UI, or programmatically. For quiz purposes it does not matter, but as an\n",
    "exercise we suggest that you try to do it programmatically.\n",
    "\n",
    "NOTE: You do not need to correct the error - for now, just find where the error\n",
    "is occurring.\n",
    "\"\"\"\n",
    "\n",
    "import xml.etree.ElementTree as ET\n",
    "\n",
    "PATENTS = 'data/patent.data'\n",
    "\n",
    "def get_root(fname):\n",
    "\n",
    "    tree = ET.parse(fname)\n",
    "    return tree.getroot()\n",
    "\n",
    "\n",
    "get_root(PATENTS)"
   ]
  },
  {
   "cell_type": "code",
   "execution_count": 129,
   "metadata": {},
   "outputs": [
    {
     "name": "stdout",
     "output_type": "stream",
     "text": [
      "L0: </us-patent-grant>\n",
      "\n",
      "L1: <?xml version=\"1.0\" encoding=\"UTF-8\"?>\n",
      "\n",
      "L2: <!DOCTYPE us-patent-grant SYSTEM \"us-patent-grant-v44-2013-05-16.dtd\" [ ]>\n",
      "\n"
     ]
    }
   ],
   "source": [
    "with open(PATENTS) as file:\n",
    "    for i in range(655):\n",
    "        file.readline()\n",
    "    for i in range(3):\n",
    "        print('L{}: {}'.format(i, file.readline()))"
   ]
  },
  {
   "cell_type": "markdown",
   "metadata": {},
   "source": [
    "# Quiz 6"
   ]
  },
  {
   "cell_type": "code",
   "execution_count": 137,
   "metadata": {},
   "outputs": [],
   "source": [
    "# So, the problem is that the gigantic file is actually not a valid XML, because\n",
    "# it has several root elements, and XML declarations.\n",
    "# It is, a matter of fact, a collection of a lot of concatenated XML documents.\n",
    "# So, one solution would be to split the file into separate documents,\n",
    "# so that you can process the resulting files as valid XML documents.\n",
    "\n",
    "import xml.etree.ElementTree as ET\n",
    "PATENTS = 'data/patent.data'\n",
    "\n",
    "def get_root(fname):\n",
    "    tree = ET.parse(fname)\n",
    "    return tree.getroot()"
   ]
  },
  {
   "cell_type": "code",
   "execution_count": 150,
   "metadata": {},
   "outputs": [],
   "source": [
    "def split_file(filename):\n",
    "    \"\"\"\n",
    "    Split the input file into separate files, each containing a single patent.\n",
    "    As a hint - each patent declaration starts with the same line that was\n",
    "    causing the error found in the previous exercises.\n",
    "    \n",
    "    The new files should be saved with filename in the following format:\n",
    "    \"{}-{}\".format(filename, n) where n is a counter, starting from 0.\n",
    "    \"\"\"\n",
    "    fname = filename.split('/')[-1]\n",
    "    with open(filename, 'r') as file:\n",
    "        line = file.readline()\n",
    "        file_content = ''\n",
    "        header = line\n",
    "        file_idx = 0\n",
    "        while line:\n",
    "            file_content += line\n",
    "            line = file.readline()\n",
    "            if line == header:\n",
    "                with open('{}-{}'.format(fname, file_idx), 'w') as output:\n",
    "                    output.write(file_content)\n",
    "                file_idx +=1\n",
    "                file_content = ''\n",
    "\n",
    "        # Write the last one\n",
    "        with open('{}-{}'.format(fname, file_idx), 'w') as output:\n",
    "            output.write(file_content)"
   ]
  },
  {
   "cell_type": "code",
   "execution_count": 151,
   "metadata": {},
   "outputs": [],
   "source": [
    "def test():\n",
    "    split_file(PATENTS)\n",
    "    for n in range(4):\n",
    "        try:\n",
    "            fname = \"{}-{}\".format(PATENTS, n)\n",
    "            f = open(fname, \"r\")\n",
    "            if not f.readline().startswith(\"<?xml\"):\n",
    "                print(\"You have not split the file {} in the correct boundary!\".format(fname))\n",
    "            f.close()\n",
    "        except:\n",
    "            print(\"Could not find file {}. Check if the filename is correct!\".format(fname))\n",
    "\n",
    "test()"
   ]
  },
  {
   "cell_type": "code",
   "execution_count": null,
   "metadata": {},
   "outputs": [],
   "source": []
  }
 ],
 "metadata": {
  "kernelspec": {
   "display_name": "data",
   "language": "python",
   "name": "data"
  },
  "language_info": {
   "codemirror_mode": {
    "name": "ipython",
    "version": 3
   },
   "file_extension": ".py",
   "mimetype": "text/x-python",
   "name": "python",
   "nbconvert_exporter": "python",
   "pygments_lexer": "ipython3",
   "version": "3.6.5"
  }
 },
 "nbformat": 4,
 "nbformat_minor": 2
}
