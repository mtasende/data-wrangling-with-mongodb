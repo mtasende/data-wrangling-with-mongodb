{
 "cells": [
  {
   "cell_type": "markdown",
   "metadata": {},
   "source": [
    "# Quiz 1"
   ]
  },
  {
   "cell_type": "code",
   "execution_count": 5,
   "metadata": {},
   "outputs": [],
   "source": [
    "\"\"\"\n",
    "The tweets in our twitter collection have a field called \"source\". This field describes the application\n",
    "that was used to create the tweet. Following the examples for using the $group operator, your task is \n",
    "to modify the 'make-pipeline' function to identify most used applications for creating tweets. \n",
    "As a check on your query, 'web' is listed as the most frequently used application.\n",
    "'Ubertwitter' is the second most used. The number of counts should be stored in a field named 'count'\n",
    "(see the assertion at the end of the script).\n",
    "\n",
    "Please modify only the 'make_pipeline' function so that it creates and returns an aggregation pipeline\n",
    "that can be passed to the MongoDB aggregate function. As in our examples in this lesson, the aggregation \n",
    "pipeline should be a list of one or more dictionary objects. \n",
    "Please review the lesson examples if you are unsure of the syntax.\n",
    "\n",
    "Your code will be run against a MongoDB instance that we have provided. \n",
    "If you want to run this code locally on your machine, you have to install MongoDB, \n",
    "download and insert the dataset.\n",
    "For instructions related to MongoDB setup and datasets please see Course Materials.\n",
    "\n",
    "Please note that the dataset you are using here is a smaller version of the twitter dataset \n",
    "used in examples in this lesson. \n",
    "If you attempt some of the same queries that we looked at in the lesson examples,\n",
    "your results will be different.\n",
    "\"\"\"\n",
    "\n",
    "\n",
    "def get_db(db_name):\n",
    "    from pymongo import MongoClient\n",
    "    client = MongoClient('localhost:27017')\n",
    "    db = client[db_name]\n",
    "    return db"
   ]
  },
  {
   "cell_type": "markdown",
   "metadata": {},
   "source": [
    "### Previous step: insert the data into the database"
   ]
  },
  {
   "cell_type": "code",
   "execution_count": 25,
   "metadata": {},
   "outputs": [],
   "source": [
    "import json\n",
    "import sys\n",
    "from pymongo import MongoClient"
   ]
  },
  {
   "cell_type": "code",
   "execution_count": 36,
   "metadata": {},
   "outputs": [
    {
     "name": "stdout",
     "output_type": "stream",
     "text": [
      "Reading 51428 lines.\n",
      "Read line 51428 of 51428\r"
     ]
    },
    {
     "data": {
      "text/plain": [
       "<pymongo.results.InsertManyResult at 0x13a10e128>"
      ]
     },
     "execution_count": 36,
     "metadata": {},
     "output_type": "execute_result"
    }
   ],
   "source": [
    "with open('data/twitter.json', 'r') as f:\n",
    "    num_lines = sum(1 for line in f)\n",
    "print('Reading {} lines.'.format(num_lines))\n",
    "\n",
    "with open('data/twitter.json', 'r') as f:\n",
    "    data = list()\n",
    "    line = f.readline()\n",
    "    count = 0\n",
    "    while line:\n",
    "        data.append(json.loads(line))\n",
    "        line = f.readline()\n",
    "        count += 1\n",
    "        if (count % 100 == 0) or count == num_lines:\n",
    "            sys.stdout.write('Read line {} of {}\\r'.format(count, num_lines))\n",
    "\n",
    "client = MongoClient(\"mongodb://localhost:27017\")\n",
    "db = client.twitter\n",
    "db.tweets.insert_many(data)"
   ]
  },
  {
   "cell_type": "code",
   "execution_count": 37,
   "metadata": {},
   "outputs": [
    {
     "data": {
      "text/plain": [
       "{u'_id': ObjectId('5ca75a57873d8102a8126532'),\n",
       " u'contributors': None,\n",
       " u'coordinates': None,\n",
       " u'created_at': u'Thu Sep 02 18:11:23 +0000 2010',\n",
       " u'entities': {u'hashtags': [], u'urls': [], u'user_mentions': []},\n",
       " u'favorited': False,\n",
       " u'geo': None,\n",
       " u'id': 22819396900L,\n",
       " u'in_reply_to_screen_name': None,\n",
       " u'in_reply_to_status_id': None,\n",
       " u'in_reply_to_user_id': None,\n",
       " u'place': None,\n",
       " u'retweet_count': None,\n",
       " u'retweeted': False,\n",
       " u'source': u'web',\n",
       " u'text': u'eu preciso de terminar de fazer a minha tabela, est\\xe1 muito foda **',\n",
       " u'truncated': False,\n",
       " u'user': {u'contributors_enabled': False,\n",
       "  u'created_at': u'Fri Jul 03 21:44:05 +0000 2009',\n",
       "  u'description': u's\\xf3 os loucos sabem (:',\n",
       "  u'favourites_count': 1,\n",
       "  u'follow_request_sent': None,\n",
       "  u'followers_count': 102,\n",
       "  u'following': None,\n",
       "  u'friends_count': 73,\n",
       "  u'geo_enabled': False,\n",
       "  u'id': 53507833,\n",
       "  u'lang': u'en',\n",
       "  u'listed_count': 0,\n",
       "  u'location': u'',\n",
       "  u'name': u'Beatriz Helena Cunha',\n",
       "  u'notifications': None,\n",
       "  u'profile_background_color': u'081114',\n",
       "  u'profile_background_image_url': u'http://a1.twimg.com/profile_background_images/133178546/biatwitter.jpg',\n",
       "  u'profile_background_tile': True,\n",
       "  u'profile_image_url': u'http://a2.twimg.com/profile_images/1036412454/OgAAADXK9q6kaxrvfwQTINH66RVLAH9YHb-veRTA4FaWb9KtbGGV_yKTGzmvzTfJidqAb5gK_mpspIE-MIvAASGH2CwAm1T1UIPQk0-HS8x_TV5kdnW30nch7ODk-1_normal.jpg',\n",
       "  u'profile_link_color': u'eb55b6',\n",
       "  u'profile_sidebar_border_color': u'1c9dbd',\n",
       "  u'profile_sidebar_fill_color': u'768575',\n",
       "  u'profile_text_color': u'25b8c2',\n",
       "  u'profile_use_background_image': True,\n",
       "  u'protected': False,\n",
       "  u'screen_name': u'Bia_cunha1',\n",
       "  u'show_all_inline_media': False,\n",
       "  u'statuses_count': 3504,\n",
       "  u'time_zone': u'Brasilia',\n",
       "  u'url': u'http://http://www.orkut.com.br/Main#Profile?uid=1433295880233078770',\n",
       "  u'utc_offset': -10800,\n",
       "  u'verified': False}}"
      ]
     },
     "execution_count": 37,
     "metadata": {},
     "output_type": "execute_result"
    }
   ],
   "source": [
    "next(db.tweets.find())"
   ]
  },
  {
   "cell_type": "code",
   "execution_count": 38,
   "metadata": {},
   "outputs": [],
   "source": [
    "client.close()"
   ]
  },
  {
   "cell_type": "markdown",
   "metadata": {},
   "source": [
    "### Now the exercises"
   ]
  },
  {
   "cell_type": "code",
   "execution_count": 39,
   "metadata": {},
   "outputs": [],
   "source": [
    "def make_pipeline():\n",
    "    pipeline = [{\"$group\": {\"_id\": \"$source\", \"count\": {\"$sum\": 1}}},\n",
    "                {\"$sort\": {\"count\": -1}}\n",
    "               ]\n",
    "    return pipeline"
   ]
  },
  {
   "cell_type": "code",
   "execution_count": 42,
   "metadata": {},
   "outputs": [
    {
     "name": "stdout",
     "output_type": "stream",
     "text": [
      "{u'_id': u'web', u'count': 23136}\n"
     ]
    }
   ],
   "source": [
    "def tweet_sources(db, pipeline):\n",
    "    return [doc for doc in db.tweets.aggregate(pipeline)]\n",
    "\n",
    "db = get_db('twitter')\n",
    "pipeline = make_pipeline()\n",
    "result = tweet_sources(db, pipeline)\n",
    "import pprint\n",
    "pprint.pprint(result[0])\n",
    "#assert result[0] == {u'count': 868, u'_id': u'web'}"
   ]
  },
  {
   "cell_type": "code",
   "execution_count": 44,
   "metadata": {},
   "outputs": [
    {
     "data": {
      "text/plain": [
       "[{u'_id': u'web', u'count': 23136},\n",
       " {u'_id': u'<a href=\"http://www.ubertwitter.com/bb/download.php\" rel=\"nofollow\">\\xdcberTwitter</a>',\n",
       "  u'count': 3393},\n",
       " {u'_id': u'<a href=\"http://www.tweetdeck.com\" rel=\"nofollow\">TweetDeck</a>',\n",
       "  u'count': 3370},\n",
       " {u'_id': u'<a href=\"http://blackberry.com/twitter\" rel=\"nofollow\">Twitter for BlackBerry\\xae</a>',\n",
       "  u'count': 2249},\n",
       " {u'_id': u'<a href=\"http://twitter.com/\" rel=\"nofollow\">Twitter for iPhone</a>',\n",
       "  u'count': 2009},\n",
       " {u'_id': u'<a href=\"http://www.echofon.com/\" rel=\"nofollow\">Echofon</a>',\n",
       "  u'count': 1774},\n",
       " {u'_id': u'<a href=\"http://twitterfeed.com\" rel=\"nofollow\">twitterfeed</a>',\n",
       "  u'count': 1652},\n",
       " {u'_id': u'<a href=\"http://mobile.twitter.com\" rel=\"nofollow\">mobile web</a>',\n",
       "  u'count': 1374},\n",
       " {u'_id': u'<a href=\"/devices\" rel=\"nofollow\">txt</a>', u'count': 1085},\n",
       " {u'_id': u'<a href=\"http://www.hootsuite.com\" rel=\"nofollow\">HootSuite</a>',\n",
       "  u'count': 706}]"
      ]
     },
     "execution_count": 44,
     "metadata": {},
     "output_type": "execute_result"
    }
   ],
   "source": [
    "result[:10]"
   ]
  },
  {
   "cell_type": "markdown",
   "metadata": {},
   "source": [
    "### Operators\n",
    "[link to docs](https://docs.mongodb.com/manual/reference/operator/aggregation/)\n",
    "\n",
    " - $group\n",
    " \n",
    " - $sum\n",
    " \n",
    " - $project\n",
    " \n",
    " - $match\n",
    " \n",
    " - $sort\n",
    " \n",
    " - $skip\n",
    " \n",
    " - $limit\n",
    " \n",
    " - $unwind"
   ]
  },
  {
   "cell_type": "markdown",
   "metadata": {},
   "source": [
    "$project can be used to:\n",
    " - Include fields from the original document\n",
    " - Insert computed fields\n",
    " - Rename fields\n",
    " - Create fields that hold subdocuments"
   ]
  },
  {
   "cell_type": "markdown",
   "metadata": {},
   "source": [
    "# Quiz 2"
   ]
  },
  {
   "cell_type": "code",
   "execution_count": 88,
   "metadata": {},
   "outputs": [],
   "source": [
    "\"\"\"\n",
    "Write an aggregation query to answer this question:\n",
    "\n",
    "Of the users in the \"Brasilia\" timezone who have tweeted 100 times or more,\n",
    "who has the largest number of followers?\n",
    "\n",
    "The following hints will help you solve this problem:\n",
    "- Time zone is found in the \"time_zone\" field of the user object in each tweet.\n",
    "- The number of tweets for each user is found in the \"statuses_count\" field.\n",
    "  To access these fields you will need to use dot notation (from Lesson 4)\n",
    "- Your aggregation query should return something like the following:\n",
    "{u'ok': 1.0,\n",
    " u'result': [{u'_id': ObjectId('52fd2490bac3fa1975477702'),\n",
    "                  u'followers': 2597,\n",
    "                  u'screen_name': u'marbles',\n",
    "                  u'tweets': 12334}]}\n",
    "Note that you will need to create the fields 'followers', 'screen_name' and 'tweets'.\n",
    "\n",
    "Please modify only the 'make_pipeline' function so that it creates and returns an aggregation \n",
    "pipeline that can be passed to the MongoDB aggregate function. As in our examples in this lesson,\n",
    "the aggregation pipeline should be a list of one or more dictionary objects. \n",
    "Please review the lesson examples if you are unsure of the syntax.\n",
    "\n",
    "Your code will be run against a MongoDB instance that we have provided. If you want to run this code\n",
    "locally on your machine, you have to install MongoDB, download and insert the dataset.\n",
    "For instructions related to MongoDB setup and datasets please see Course Materials.\n",
    "\n",
    "Please note that the dataset you are using here is a smaller version of the twitter dataset used \n",
    "in examples in this lesson. If you attempt some of the same queries that we looked at in the lesson \n",
    "examples, your results will be different.\n",
    "\"\"\"\n",
    "\n",
    "def get_db(db_name):\n",
    "    from pymongo import MongoClient\n",
    "    client = MongoClient('localhost:27017')\n",
    "    db = client[db_name]\n",
    "    return db"
   ]
  },
  {
   "cell_type": "code",
   "execution_count": 89,
   "metadata": {},
   "outputs": [],
   "source": [
    "def make_pipeline():\n",
    "    # complete the aggregation pipeline\n",
    "    pipeline = [\n",
    "        {\"$match\": {\"user.time_zone\": {\"$eq\": u\"Brasilia\"},\n",
    "                    \"user.statuses_count\": {\"$gte\": 100}\n",
    "                   }},\n",
    "        {\"$project\": {\"followers\": \"$user.followers_count\", \n",
    "                      \"screen_name\": \"$user.screen_name\",\n",
    "                      \"tweets\": \"$user.statuses_count\"\n",
    "                     }},\n",
    "        {\"$sort\": {\"followers\": -1}},\n",
    "        {\"$limit\": 1}\n",
    "    ]\n",
    "    return pipeline"
   ]
  },
  {
   "cell_type": "code",
   "execution_count": 93,
   "metadata": {},
   "outputs": [
    {
     "name": "stdout",
     "output_type": "stream",
     "text": [
      "[{u'_id': ObjectId('5ca75a57873d8102a812926c'),\n",
      "  u'followers': 259760,\n",
      "  u'screen_name': u'otaviomesquita',\n",
      "  u'tweets': 10997}]\n"
     ]
    }
   ],
   "source": [
    "# Playing around cell \n",
    "import pprint\n",
    "def aggregate(db, pipeline):\n",
    "    return [doc for doc in db.tweets.aggregate(pipeline)]\n",
    "\n",
    "    \n",
    "db = get_db('twitter')\n",
    "result = aggregate(db, [\n",
    "    {\"$match\": {\"user.time_zone\": {\"$eq\": u\"Brasilia\"},\n",
    "                \"user.statuses_count\": {\"$gte\": 100}\n",
    "               }},\n",
    "    {\"$project\": {\"followers\": \"$user.followers_count\", \n",
    "                  \"screen_name\": \"$user.screen_name\",\n",
    "                  \"tweets\": \"$user.statuses_count\"\n",
    "                 }},\n",
    "    {\"$sort\": {\"followers\": -1}},\n",
    "    {\"$limit\": 1}\n",
    "])\n",
    "\n",
    "pprint.pprint(result)"
   ]
  },
  {
   "cell_type": "code",
   "execution_count": 92,
   "metadata": {},
   "outputs": [
    {
     "name": "stdout",
     "output_type": "stream",
     "text": [
      "[{u'_id': ObjectId('5ca75a57873d8102a812926c'),\n",
      "  u'followers': 259760,\n",
      "  u'screen_name': u'otaviomesquita',\n",
      "  u'tweets': 10997}]\n"
     ]
    }
   ],
   "source": [
    "def aggregate(db, pipeline):\n",
    "    return [doc for doc in db.tweets.aggregate(pipeline)]\n",
    "\n",
    "    \n",
    "db = get_db('twitter')\n",
    "pipeline = make_pipeline()\n",
    "result = aggregate(db, pipeline)\n",
    "import pprint\n",
    "pprint.pprint(result)\n",
    "assert len(result) == 1\n",
    "# assert result[0][\"followers\"] == 17209   # The classroom dataset is different"
   ]
  },
  {
   "cell_type": "markdown",
   "metadata": {},
   "source": [
    "# Quiz 3"
   ]
  },
  {
   "cell_type": "code",
   "execution_count": 105,
   "metadata": {},
   "outputs": [],
   "source": [
    "\"\"\"\n",
    "For this exercise, let's return to our cities infobox dataset. The question we would like you to answer\n",
    "is as follows:  Which region or district in India contains the most cities? (Make sure that the count of\n",
    "cities is stored in a field named 'count'; see the assertions at the end of the script.)\n",
    "\n",
    "As a starting point, use the solution for the example question we looked at -- \"Who includes the most\n",
    "user mentions in their tweets?\"\n",
    "\n",
    "One thing to note about the cities data is that the \"isPartOf\" field contains an array of regions or \n",
    "districts in which a given city is found. See the example document in Instructor Comments below.\n",
    "\n",
    "Please modify only the 'make_pipeline' function so that it creates and returns an aggregation pipeline \n",
    "that can be passed to the MongoDB aggregate function. As in our examples in this lesson, the aggregation \n",
    "pipeline should be a list of one or more dictionary objects. Please review the lesson examples if you \n",
    "are unsure of the syntax.\n",
    "\n",
    "Your code will be run against a MongoDB instance that we have provided. If you want to run this code \n",
    "locally on your machine, you have to install MongoDB, download and insert the dataset.\n",
    "For instructions related to MongoDB setup and datasets please see Course Materials.\n",
    "\n",
    "Please note that the dataset you are using here is a smaller version of the cities collection used in \n",
    "examples in this lesson. If you attempt some of the same queries that we looked at in the lesson \n",
    "examples, your results may be different.\n",
    "\"\"\"\n",
    "\n",
    "def get_db(db_name):\n",
    "    from pymongo import MongoClient\n",
    "    client = MongoClient('localhost:27017')\n",
    "    db = client[db_name]\n",
    "    return db"
   ]
  },
  {
   "cell_type": "markdown",
   "metadata": {},
   "source": [
    "### Fill the database with the cities data"
   ]
  },
  {
   "cell_type": "code",
   "execution_count": 149,
   "metadata": {},
   "outputs": [
    {
     "data": {
      "text/plain": [
       "<pymongo.results.InsertManyResult at 0x127858dd0>"
      ]
     },
     "execution_count": 149,
     "metadata": {},
     "output_type": "execute_result"
    }
   ],
   "source": [
    "import csv\n",
    "db = get_db('examples')\n",
    "\n",
    "with open('data/cities/cities.csv', 'r') as f:\n",
    "    reader = csv.DictReader(f)\n",
    "    for i in range(3):\n",
    "        _ = next(reader)\n",
    "    data = list()\n",
    "    for doc in reader:\n",
    "        if doc['isPartOf'] != \"NULL\":\n",
    "            doc['isPartOf'] = map(str.strip, doc['isPartOf_label'].strip('{}').split(\"|\"))\n",
    "        else:\n",
    "            doc['isPartOf'] = None\n",
    "        doc['country'] = doc['country_label']\n",
    "        data.append(doc)\n",
    "\n",
    "db.cities.drop()\n",
    "db.cities.insert_many(data)"
   ]
  },
  {
   "cell_type": "code",
   "execution_count": 150,
   "metadata": {},
   "outputs": [
    {
     "data": {
      "text/plain": [
       "[{u'22-rdf-syntax-ns#type': u'{http://dbpedia.org/ontology/City|http://dbpedia.org/ontology/Place|http://dbpedia.org/ontology/PopulatedPlace|http://dbpedia.org/ontology/Settlement|http://schema.org/City|http://schema.org/Place|http://www.opengis.net/gml/_Feature|http://www.w3.org/2002/07/owl#Thing}',\n",
       "  u'22-rdf-syntax-ns#type_label': u'{city|place|populated place|municipality|City|Place|_Feature|owl#Thing}',\n",
       "  u'URI': u'http://dbpedia.org/resource/Kud',\n",
       "  u'_id': ObjectId('5ca78b8c873d8102a8150875'),\n",
       "  u'administrativeDistrict': u'NULL',\n",
       "  u'administrativeDistrict_label': u'NULL',\n",
       "  u'anthem': u'NULL',\n",
       "  u'anthem_label': u'NULL',\n",
       "  u'area': u'NULL',\n",
       "  u'areaCode': u'NULL',\n",
       "  u'areaLand': u'NULL',\n",
       "  u'areaMetro': u'NULL',\n",
       "  u'areaRural': u'NULL',\n",
       "  u'areaTotal': u'NULL',\n",
       "  u'areaUrban': u'NULL',\n",
       "  u'areaWater': u'NULL',\n",
       "  u'city': u'NULL',\n",
       "  u'city_label': u'NULL',\n",
       "  u'code': u'NULL',\n",
       "  u'country': u'India',\n",
       "  u'country_label': u'India',\n",
       "  u'daylightSavingTimeZone': u'NULL',\n",
       "  u'daylightSavingTimeZone_label': u'NULL',\n",
       "  u'depiction': u'NULL',\n",
       "  u'depiction_label': u'NULL',\n",
       "  u'district': u'NULL',\n",
       "  u'district_label': u'NULL',\n",
       "  u'division': u'NULL',\n",
       "  u'division_label': u'NULL',\n",
       "  u'elevation': u'1855.0',\n",
       "  u'federalState': u'NULL',\n",
       "  u'federalState_label': u'NULL',\n",
       "  u'foundingDate': u'NULL',\n",
       "  u'foundingPerson': u'NULL',\n",
       "  u'foundingPerson_label': u'NULL',\n",
       "  u'foundingYear': u'NULL',\n",
       "  u'governingBody': u'NULL',\n",
       "  u'governingBody_label': u'NULL',\n",
       "  u'government': u'NULL',\n",
       "  u'governmentType': u'NULL',\n",
       "  u'governmentType_label': u'NULL',\n",
       "  u'government_label': u'NULL',\n",
       "  u'homepage': u'NULL',\n",
       "  u'homepage_label': u'NULL',\n",
       "  u'isPartOf': [u'Jammu and Kashmir', u'Udhampur district'],\n",
       "  u'isPartOf_label': u'{Jammu and Kashmir|Udhampur district}',\n",
       "  u'isoCodeRegion': u'NULL',\n",
       "  u'isoCodeRegion_label': u'NULL',\n",
       "  u'leader': u'NULL',\n",
       "  u'leaderName': u'NULL',\n",
       "  u'leaderName_label': u'NULL',\n",
       "  u'leaderParty': u'NULL',\n",
       "  u'leaderParty_label': u'NULL',\n",
       "  u'leaderTitle': u'NULL',\n",
       "  u'leader_label': u'NULL',\n",
       "  u'location': u'NULL',\n",
       "  u'location_label': u'NULL',\n",
       "  u'maximumElevation': u'NULL',\n",
       "  u'mayor': u'NULL',\n",
       "  u'mayor_label': u'NULL',\n",
       "  u'minimumElevation': u'NULL',\n",
       "  u'motto': u'NULL',\n",
       "  u'municipality': u'NULL',\n",
       "  u'municipality_label': u'NULL',\n",
       "  u'name': u'Kud',\n",
       "  u'nick': u'NULL',\n",
       "  u'part': u'NULL',\n",
       "  u'part_label': u'NULL',\n",
       "  u'percentageOfAreaWater': u'NULL',\n",
       "  u'point': u'33.08 75.28',\n",
       "  u'populationAsOf': u'NULL',\n",
       "  u'populationDensity': u'NULL',\n",
       "  u'populationMetro': u'NULL',\n",
       "  u'populationMetroDensity': u'NULL',\n",
       "  u'populationRural': u'NULL',\n",
       "  u'populationTotal': u'1140',\n",
       "  u'populationTotalRanking': u'NULL',\n",
       "  u'populationUrban': u'NULL',\n",
       "  u'populationUrbanDensity': u'NULL',\n",
       "  u'postalCode': u'NULL',\n",
       "  u'rdf-schema#comment': u'Kud is a town and a notified area committee in Udhampur District in the Indian state of Jammu and Kashmir.',\n",
       "  u'rdf-schema#label': u'Kud',\n",
       "  u'region': u'NULL',\n",
       "  u'region_label': u'NULL',\n",
       "  u'state': u'NULL',\n",
       "  u'state_label': u'NULL',\n",
       "  u'synonym': u'NULL',\n",
       "  u'thumbnail': u'NULL',\n",
       "  u'thumbnail_label': u'NULL',\n",
       "  u'timeZone': u'http://dbpedia.org/resource/Indian_Standard_Time',\n",
       "  u'timeZone_label': u'Indian Standard Time',\n",
       "  u'twinCity': u'NULL',\n",
       "  u'twinCity_label': u'NULL',\n",
       "  u'twinCountry': u'NULL',\n",
       "  u'twinCountry_label': u'NULL',\n",
       "  u'type': u'NULL',\n",
       "  u'type_label': u'NULL',\n",
       "  u'utcOffset': u'+5:30',\n",
       "  u'wgs84_pos#lat': u'33.08',\n",
       "  u'wgs84_pos#long': u'75.28'},\n",
       " {u'22-rdf-syntax-ns#type': u'{http://dbpedia.org/ontology/City|http://dbpedia.org/ontology/Place|http://dbpedia.org/ontology/PopulatedPlace|http://dbpedia.org/ontology/Settlement|http://schema.org/City|http://schema.org/Place|http://www.opengis.net/gml/_Feature|http://www.w3.org/2002/07/owl#Thing}',\n",
       "  u'22-rdf-syntax-ns#type_label': u'{city|place|populated place|municipality|City|Place|_Feature|owl#Thing}',\n",
       "  u'URI': u'http://dbpedia.org/resource/Kuju,_Hazaribag',\n",
       "  u'_id': ObjectId('5ca78b8c873d8102a8150876'),\n",
       "  u'administrativeDistrict': u'NULL',\n",
       "  u'administrativeDistrict_label': u'NULL',\n",
       "  u'anthem': u'NULL',\n",
       "  u'anthem_label': u'NULL',\n",
       "  u'area': u'NULL',\n",
       "  u'areaCode': u'NULL',\n",
       "  u'areaLand': u'NULL',\n",
       "  u'areaMetro': u'NULL',\n",
       "  u'areaRural': u'NULL',\n",
       "  u'areaTotal': u'NULL',\n",
       "  u'areaUrban': u'NULL',\n",
       "  u'areaWater': u'NULL',\n",
       "  u'city': u'NULL',\n",
       "  u'city_label': u'NULL',\n",
       "  u'code': u'NULL',\n",
       "  u'country': u'India',\n",
       "  u'country_label': u'India',\n",
       "  u'daylightSavingTimeZone': u'NULL',\n",
       "  u'daylightSavingTimeZone_label': u'NULL',\n",
       "  u'depiction': u'NULL',\n",
       "  u'depiction_label': u'NULL',\n",
       "  u'district': u'NULL',\n",
       "  u'district_label': u'NULL',\n",
       "  u'division': u'NULL',\n",
       "  u'division_label': u'NULL',\n",
       "  u'elevation': u'426.0',\n",
       "  u'federalState': u'NULL',\n",
       "  u'federalState_label': u'NULL',\n",
       "  u'foundingDate': u'NULL',\n",
       "  u'foundingPerson': u'NULL',\n",
       "  u'foundingPerson_label': u'NULL',\n",
       "  u'foundingYear': u'NULL',\n",
       "  u'governingBody': u'NULL',\n",
       "  u'governingBody_label': u'NULL',\n",
       "  u'government': u'NULL',\n",
       "  u'governmentType': u'NULL',\n",
       "  u'governmentType_label': u'NULL',\n",
       "  u'government_label': u'NULL',\n",
       "  u'homepage': u'NULL',\n",
       "  u'homepage_label': u'NULL',\n",
       "  u'isPartOf': [u'Jharkhand', u'Ramgarh district'],\n",
       "  u'isPartOf_label': u'{Jharkhand|Ramgarh district}',\n",
       "  u'isoCodeRegion': u'NULL',\n",
       "  u'isoCodeRegion_label': u'NULL',\n",
       "  u'leader': u'NULL',\n",
       "  u'leaderName': u'NULL',\n",
       "  u'leaderName_label': u'NULL',\n",
       "  u'leaderParty': u'NULL',\n",
       "  u'leaderParty_label': u'NULL',\n",
       "  u'leaderTitle': u'NULL',\n",
       "  u'leader_label': u'NULL',\n",
       "  u'location': u'NULL',\n",
       "  u'location_label': u'NULL',\n",
       "  u'maximumElevation': u'NULL',\n",
       "  u'mayor': u'NULL',\n",
       "  u'mayor_label': u'NULL',\n",
       "  u'minimumElevation': u'NULL',\n",
       "  u'motto': u'NULL',\n",
       "  u'municipality': u'NULL',\n",
       "  u'municipality_label': u'NULL',\n",
       "  u'name': u'Kuju',\n",
       "  u'nick': u'NULL',\n",
       "  u'part': u'NULL',\n",
       "  u'part_label': u'NULL',\n",
       "  u'percentageOfAreaWater': u'NULL',\n",
       "  u'point': u'23.72 85.5',\n",
       "  u'populationAsOf': u'NULL',\n",
       "  u'populationDensity': u'NULL',\n",
       "  u'populationMetro': u'NULL',\n",
       "  u'populationMetroDensity': u'NULL',\n",
       "  u'populationRural': u'NULL',\n",
       "  u'populationTotal': u'18049',\n",
       "  u'populationTotalRanking': u'NULL',\n",
       "  u'populationUrban': u'NULL',\n",
       "  u'populationUrbanDensity': u'NULL',\n",
       "  u'postalCode': u'NULL',\n",
       "  u'rdf-schema#comment': u'Kuju is a census town in Ramgarh district in the Indian state of Jharkhand.',\n",
       "  u'rdf-schema#label': u'Kuju Hazaribag',\n",
       "  u'region': u'NULL',\n",
       "  u'region_label': u'NULL',\n",
       "  u'state': u'NULL',\n",
       "  u'state_label': u'NULL',\n",
       "  u'synonym': u'NULL',\n",
       "  u'thumbnail': u'NULL',\n",
       "  u'thumbnail_label': u'NULL',\n",
       "  u'timeZone': u'http://dbpedia.org/resource/Indian_Standard_Time',\n",
       "  u'timeZone_label': u'Indian Standard Time',\n",
       "  u'twinCity': u'NULL',\n",
       "  u'twinCity_label': u'NULL',\n",
       "  u'twinCountry': u'NULL',\n",
       "  u'twinCountry_label': u'NULL',\n",
       "  u'type': u'NULL',\n",
       "  u'type_label': u'NULL',\n",
       "  u'utcOffset': u'+5:30',\n",
       "  u'wgs84_pos#lat': u'23.72',\n",
       "  u'wgs84_pos#long': u'85.5'},\n",
       " {u'22-rdf-syntax-ns#type': u'{http://dbpedia.org/ontology/City|http://dbpedia.org/ontology/Place|http://dbpedia.org/ontology/PopulatedPlace|http://dbpedia.org/ontology/Settlement|http://schema.org/City|http://schema.org/Place|http://www.opengis.net/gml/_Feature|http://www.w3.org/2002/07/owl#Thing}',\n",
       "  u'22-rdf-syntax-ns#type_label': u'{city|place|populated place|municipality|City|Place|_Feature|owl#Thing}',\n",
       "  u'URI': u'http://dbpedia.org/resource/Kumbhraj',\n",
       "  u'_id': ObjectId('5ca78b8c873d8102a8150877'),\n",
       "  u'administrativeDistrict': u'NULL',\n",
       "  u'administrativeDistrict_label': u'NULL',\n",
       "  u'anthem': u'NULL',\n",
       "  u'anthem_label': u'NULL',\n",
       "  u'area': u'NULL',\n",
       "  u'areaCode': u'NULL',\n",
       "  u'areaLand': u'NULL',\n",
       "  u'areaMetro': u'NULL',\n",
       "  u'areaRural': u'NULL',\n",
       "  u'areaTotal': u'NULL',\n",
       "  u'areaUrban': u'NULL',\n",
       "  u'areaWater': u'NULL',\n",
       "  u'city': u'NULL',\n",
       "  u'city_label': u'NULL',\n",
       "  u'code': u'NULL',\n",
       "  u'country': u'India',\n",
       "  u'country_label': u'India',\n",
       "  u'daylightSavingTimeZone': u'NULL',\n",
       "  u'daylightSavingTimeZone_label': u'NULL',\n",
       "  u'depiction': u'NULL',\n",
       "  u'depiction_label': u'NULL',\n",
       "  u'district': u'NULL',\n",
       "  u'district_label': u'NULL',\n",
       "  u'division': u'NULL',\n",
       "  u'division_label': u'NULL',\n",
       "  u'elevation': u'419.0',\n",
       "  u'federalState': u'NULL',\n",
       "  u'federalState_label': u'NULL',\n",
       "  u'foundingDate': u'NULL',\n",
       "  u'foundingPerson': u'NULL',\n",
       "  u'foundingPerson_label': u'NULL',\n",
       "  u'foundingYear': u'NULL',\n",
       "  u'governingBody': u'NULL',\n",
       "  u'governingBody_label': u'NULL',\n",
       "  u'government': u'NULL',\n",
       "  u'governmentType': u'NULL',\n",
       "  u'governmentType_label': u'NULL',\n",
       "  u'government_label': u'NULL',\n",
       "  u'homepage': u'NULL',\n",
       "  u'homepage_label': u'NULL',\n",
       "  u'isPartOf': [u'Guna district', u'Madhya Pradesh'],\n",
       "  u'isPartOf_label': u'{Guna district|Madhya Pradesh}',\n",
       "  u'isoCodeRegion': u'NULL',\n",
       "  u'isoCodeRegion_label': u'NULL',\n",
       "  u'leader': u'NULL',\n",
       "  u'leaderName': u'NULL',\n",
       "  u'leaderName_label': u'NULL',\n",
       "  u'leaderParty': u'NULL',\n",
       "  u'leaderParty_label': u'NULL',\n",
       "  u'leaderTitle': u'NULL',\n",
       "  u'leader_label': u'NULL',\n",
       "  u'location': u'NULL',\n",
       "  u'location_label': u'NULL',\n",
       "  u'maximumElevation': u'NULL',\n",
       "  u'mayor': u'NULL',\n",
       "  u'mayor_label': u'NULL',\n",
       "  u'minimumElevation': u'NULL',\n",
       "  u'motto': u'NULL',\n",
       "  u'municipality': u'NULL',\n",
       "  u'municipality_label': u'NULL',\n",
       "  u'name': u'Kumbhraj',\n",
       "  u'nick': u'NULL',\n",
       "  u'part': u'NULL',\n",
       "  u'part_label': u'NULL',\n",
       "  u'percentageOfAreaWater': u'NULL',\n",
       "  u'point': u'24.37 77.05',\n",
       "  u'populationAsOf': u'NULL',\n",
       "  u'populationDensity': u'NULL',\n",
       "  u'populationMetro': u'NULL',\n",
       "  u'populationMetroDensity': u'NULL',\n",
       "  u'populationRural': u'NULL',\n",
       "  u'populationTotal': u'13999',\n",
       "  u'populationTotalRanking': u'NULL',\n",
       "  u'populationUrban': u'NULL',\n",
       "  u'populationUrbanDensity': u'NULL',\n",
       "  u'postalCode': u'NULL',\n",
       "  u'rdf-schema#comment': u'Kumbhraj is a town and a nagar panchayat in Guna district in the Indian state of Madhya Pradesh.',\n",
       "  u'rdf-schema#label': u'Kumbhraj',\n",
       "  u'region': u'NULL',\n",
       "  u'region_label': u'NULL',\n",
       "  u'state': u'NULL',\n",
       "  u'state_label': u'NULL',\n",
       "  u'synonym': u'NULL',\n",
       "  u'thumbnail': u'NULL',\n",
       "  u'thumbnail_label': u'NULL',\n",
       "  u'timeZone': u'http://dbpedia.org/resource/Indian_Standard_Time',\n",
       "  u'timeZone_label': u'Indian Standard Time',\n",
       "  u'twinCity': u'NULL',\n",
       "  u'twinCity_label': u'NULL',\n",
       "  u'twinCountry': u'NULL',\n",
       "  u'twinCountry_label': u'NULL',\n",
       "  u'type': u'NULL',\n",
       "  u'type_label': u'NULL',\n",
       "  u'utcOffset': u'+5:30',\n",
       "  u'wgs84_pos#lat': u'24.37',\n",
       "  u'wgs84_pos#long': u'77.05'}]"
      ]
     },
     "execution_count": 150,
     "metadata": {},
     "output_type": "execute_result"
    }
   ],
   "source": [
    "[doc for doc in db.cities.find().limit(3)]"
   ]
  },
  {
   "cell_type": "code",
   "execution_count": 156,
   "metadata": {},
   "outputs": [
    {
     "data": {
      "text/plain": [
       "[{u'_id': u'Uttar Pradesh', u'count': 623},\n",
       " {u'_id': u'Tamil Nadu', u'count': 450},\n",
       " {u'_id': u'Madhya Pradesh', u'count': 359},\n",
       " {u'_id': u'Maharashtra', u'count': 337},\n",
       " {u'_id': u'Gujarat', u'count': 229},\n",
       " {u'_id': u'Rajasthan', u'count': 213},\n",
       " {u'_id': u'Karnataka', u'count': 169},\n",
       " {u'_id': u'Andhra Pradesh', u'count': 150},\n",
       " {u'_id': u'Punjab India', u'count': 141},\n",
       " {u'_id': u'Jharkhand', u'count': 129}]"
      ]
     },
     "execution_count": 156,
     "metadata": {},
     "output_type": "execute_result"
    }
   ],
   "source": [
    "def aggregate(db, pipeline):\n",
    "    return [doc for doc in db.cities.aggregate(pipeline)]\n",
    "\n",
    "db = get_db('examples')\n",
    "\n",
    "aggregate(db, [\n",
    "    {\"$match\": {\"country\": {\"$eq\": u\"India\"}}},\n",
    "    {\"$project\": {\"isPartOf\": 1, \"name\": 1}},\n",
    "    {\"$unwind\": \"$isPartOf\"},\n",
    "    {\"$group\": {\"_id\": \"$isPartOf\", \"count\": {\"$sum\": 1}}},\n",
    "    {\"$sort\": {\"count\": -1}},\n",
    "    {\"$limit\": 10}\n",
    "])"
   ]
  },
  {
   "cell_type": "code",
   "execution_count": 161,
   "metadata": {},
   "outputs": [],
   "source": [
    "def make_pipeline():\n",
    "    pipeline = [\n",
    "        {\"$match\": {\"country\": {\"$eq\": u\"India\"}}},\n",
    "        {\"$project\": {\"isPartOf\": 1, \"name\": 1}},\n",
    "        {\"$unwind\": \"$isPartOf\"},\n",
    "        {\"$group\": {\"_id\": \"$isPartOf\", \"count\": {\"$sum\": 1}}},\n",
    "        {\"$sort\": {\"count\": -1}},\n",
    "        {\"$limit\": 10}\n",
    "    ]\n",
    "    return pipeline"
   ]
  },
  {
   "cell_type": "code",
   "execution_count": 162,
   "metadata": {},
   "outputs": [
    {
     "name": "stdout",
     "output_type": "stream",
     "text": [
      "Printing the first result:\n",
      "{u'_id': u'Uttar Pradesh', u'count': 623}\n"
     ]
    }
   ],
   "source": [
    "def aggregate(db, pipeline):\n",
    "    return [doc for doc in db.cities.aggregate(pipeline)]\n",
    "\n",
    "if __name__ == '__main__':\n",
    "    db = get_db('examples')\n",
    "    pipeline = make_pipeline()\n",
    "    result = aggregate(db, pipeline)\n",
    "    print \"Printing the first result:\"\n",
    "    import pprint\n",
    "    pprint.pprint(result[0])\n",
    "    assert result[0][\"_id\"] == \"Uttar Pradesh\"\n",
    "    assert result[0][\"count\"] == 623"
   ]
  },
  {
   "cell_type": "code",
   "execution_count": 163,
   "metadata": {},
   "outputs": [
    {
     "data": {
      "text/plain": [
       "[{u'_id': u'Uttar Pradesh', u'count': 623},\n",
       " {u'_id': u'Tamil Nadu', u'count': 450},\n",
       " {u'_id': u'Madhya Pradesh', u'count': 359},\n",
       " {u'_id': u'Maharashtra', u'count': 337},\n",
       " {u'_id': u'Gujarat', u'count': 229}]"
      ]
     },
     "execution_count": 163,
     "metadata": {},
     "output_type": "execute_result"
    }
   ],
   "source": [
    "result[:5]"
   ]
  },
  {
   "cell_type": "markdown",
   "metadata": {},
   "source": [
    "### \\$group operators\n",
    "\n",
    " - \\$sum\n",
    " - \\$first\n",
    " - \\$last\n",
    " - \\$max\n",
    " - \\$min\n",
    " - \\$avg\n",
    " \n",
    " \n",
    " _Arrays_\n",
    " \n",
    " - \\$push\n",
    " - \\$addToSet  # Adds values to an array as if it was a set (uniquely)."
   ]
  },
  {
   "cell_type": "markdown",
   "metadata": {},
   "source": [
    "# Quiz 4"
   ]
  },
  {
   "cell_type": "code",
   "execution_count": 167,
   "metadata": {},
   "outputs": [],
   "source": [
    "\"\"\"\n",
    "$push is similar to $addToSet. The difference is that rather than accumulating only unique values \n",
    "it aggregates all values into an array.\n",
    "\n",
    "Using an aggregation query, count the number of tweets for each user. In the same $group stage, \n",
    "use $push to accumulate all the tweet texts for each user. Limit your output to the 5 users\n",
    "with the most tweets. \n",
    "Your result documents should include only the fields:\n",
    "\"_id\" (screen name of user), \n",
    "\"count\" (number of tweets found for the user),\n",
    "\"tweet_texts\" (a list of the tweet texts found for the user).  \n",
    "\n",
    "Please modify only the 'make_pipeline' function so that it creates and returns an aggregation \n",
    "pipeline that can be passed to the MongoDB aggregate function. As in our examples in this lesson, \n",
    "the aggregation pipeline should be a list of one or more dictionary objects. \n",
    "Please review the lesson examples if you are unsure of the syntax.\n",
    "\n",
    "Your code will be run against a MongoDB instance that we have provided. If you want to run this code \n",
    "locally on your machine, you have to install MongoDB, download and insert the dataset.\n",
    "For instructions related to MongoDB setup and datasets please see Course Materials.\n",
    "\n",
    "Please note that the dataset you are using here is a smaller version of the twitter dataset used in \n",
    "examples in this lesson. If you attempt some of the same queries that we looked at in the lesson \n",
    "examples, your results will be different.\n",
    "\"\"\"\n",
    "\n",
    "def get_db(db_name):\n",
    "    from pymongo import MongoClient\n",
    "    client = MongoClient('localhost:27017')\n",
    "    db = client[db_name]\n",
    "    return db"
   ]
  },
  {
   "cell_type": "code",
   "execution_count": 174,
   "metadata": {},
   "outputs": [
    {
     "name": "stdout",
     "output_type": "stream",
     "text": [
      "{u'_id': ObjectId('5ca75a57873d8102a8126532'),\n",
      " u'contributors': None,\n",
      " u'coordinates': None,\n",
      " u'created_at': u'Thu Sep 02 18:11:23 +0000 2010',\n",
      " u'entities': {u'hashtags': [], u'urls': [], u'user_mentions': []},\n",
      " u'favorited': False,\n",
      " u'geo': None,\n",
      " u'id': 22819396900L,\n",
      " u'in_reply_to_screen_name': None,\n",
      " u'in_reply_to_status_id': None,\n",
      " u'in_reply_to_user_id': None,\n",
      " u'place': None,\n",
      " u'retweet_count': None,\n",
      " u'retweeted': False,\n",
      " u'source': u'web',\n",
      " u'text': u'eu preciso de terminar de fazer a minha tabela, est\\xe1 muito foda **',\n",
      " u'truncated': False,\n",
      " u'user': {u'contributors_enabled': False,\n",
      "           u'created_at': u'Fri Jul 03 21:44:05 +0000 2009',\n",
      "           u'description': u's\\xf3 os loucos sabem (:',\n",
      "           u'favourites_count': 1,\n",
      "           u'follow_request_sent': None,\n",
      "           u'followers_count': 102,\n",
      "           u'following': None,\n",
      "           u'friends_count': 73,\n",
      "           u'geo_enabled': False,\n",
      "           u'id': 53507833,\n",
      "           u'lang': u'en',\n",
      "           u'listed_count': 0,\n",
      "           u'location': u'',\n",
      "           u'name': u'Beatriz Helena Cunha',\n",
      "           u'notifications': None,\n",
      "           u'profile_background_color': u'081114',\n",
      "           u'profile_background_image_url': u'http://a1.twimg.com/profile_background_images/133178546/biatwitter.jpg',\n",
      "           u'profile_background_tile': True,\n",
      "           u'profile_image_url': u'http://a2.twimg.com/profile_images/1036412454/OgAAADXK9q6kaxrvfwQTINH66RVLAH9YHb-veRTA4FaWb9KtbGGV_yKTGzmvzTfJidqAb5gK_mpspIE-MIvAASGH2CwAm1T1UIPQk0-HS8x_TV5kdnW30nch7ODk-1_normal.jpg',\n",
      "           u'profile_link_color': u'eb55b6',\n",
      "           u'profile_sidebar_border_color': u'1c9dbd',\n",
      "           u'profile_sidebar_fill_color': u'768575',\n",
      "           u'profile_text_color': u'25b8c2',\n",
      "           u'profile_use_background_image': True,\n",
      "           u'protected': False,\n",
      "           u'screen_name': u'Bia_cunha1',\n",
      "           u'show_all_inline_media': False,\n",
      "           u'statuses_count': 3504,\n",
      "           u'time_zone': u'Brasilia',\n",
      "           u'url': u'http://http://www.orkut.com.br/Main#Profile?uid=1433295880233078770',\n",
      "           u'utc_offset': -10800,\n",
      "           u'verified': False}}\n",
      "----------------------------------------------------------------------------------------------------\n",
      "\n",
      "\n",
      "{u'contributors_enabled': False,\n",
      " u'created_at': u'Fri Jul 03 21:44:05 +0000 2009',\n",
      " u'description': u's\\xf3 os loucos sabem (:',\n",
      " u'favourites_count': 1,\n",
      " u'follow_request_sent': None,\n",
      " u'followers_count': 102,\n",
      " u'following': None,\n",
      " u'friends_count': 73,\n",
      " u'geo_enabled': False,\n",
      " u'id': 53507833,\n",
      " u'lang': u'en',\n",
      " u'listed_count': 0,\n",
      " u'location': u'',\n",
      " u'name': u'Beatriz Helena Cunha',\n",
      " u'notifications': None,\n",
      " u'profile_background_color': u'081114',\n",
      " u'profile_background_image_url': u'http://a1.twimg.com/profile_background_images/133178546/biatwitter.jpg',\n",
      " u'profile_background_tile': True,\n",
      " u'profile_image_url': u'http://a2.twimg.com/profile_images/1036412454/OgAAADXK9q6kaxrvfwQTINH66RVLAH9YHb-veRTA4FaWb9KtbGGV_yKTGzmvzTfJidqAb5gK_mpspIE-MIvAASGH2CwAm1T1UIPQk0-HS8x_TV5kdnW30nch7ODk-1_normal.jpg',\n",
      " u'profile_link_color': u'eb55b6',\n",
      " u'profile_sidebar_border_color': u'1c9dbd',\n",
      " u'profile_sidebar_fill_color': u'768575',\n",
      " u'profile_text_color': u'25b8c2',\n",
      " u'profile_use_background_image': True,\n",
      " u'protected': False,\n",
      " u'screen_name': u'Bia_cunha1',\n",
      " u'show_all_inline_media': False,\n",
      " u'statuses_count': 3504,\n",
      " u'time_zone': u'Brasilia',\n",
      " u'url': u'http://http://www.orkut.com.br/Main#Profile?uid=1433295880233078770',\n",
      " u'utc_offset': -10800,\n",
      " u'verified': False}\n"
     ]
    }
   ],
   "source": [
    "# Let's look at one record\n",
    "db = get_db('twitter')\n",
    "record = next(db.tweets.find().limit(1))\n",
    "import pprint\n",
    "pprint.pprint(record)\n",
    "print('-'*100)\n",
    "print('\\n')\n",
    "pprint.pprint(record['user'])"
   ]
  },
  {
   "cell_type": "code",
   "execution_count": 184,
   "metadata": {},
   "outputs": [
    {
     "data": {
      "text/plain": [
       "[{u'_id': u'behcolin',\n",
       "  u'count': 8,\n",
       "  u'tweet_texts': [u'RT @VouConfessarQue: #VouConfessarQue j\\xe1 aprendi uma mat\\xe9ria inteira poucos minutos antes de uma prova.',\n",
       "   u'RT @TweetGargalhada: Geisy Arruda nos TT? Achei que tinha finalmente sumido, mas pelo jeito a mar\\xe9 trouxe ela de volta!',\n",
       "   u'RT @TweetGargalhada: Geisy Arruda nos TT? Achei que tinha finalmente sumido, mas pelo jeito a mar\\xe9 trouxe ela de volta!',\n",
       "   u'RT @TweetGargalhada: Geisy Arruda nos TT? Achei que tinha finalmente sumido, mas pelo jeito a mar\\xe9 trouxe ela de volta!',\n",
       "   u'RT @TweetGargalhada: Geisy Arruda nos TT? Achei que tinha finalmente sumido, mas pelo jeito a mar\\xe9 trouxe ela de volta!',\n",
       "   u'RT @TweetGargalhada: Geisy Arruda nos TT? Achei que tinha finalmente sumido, mas pelo jeito a mar\\xe9 trouxe ela de volta!',\n",
       "   u'RT @TweetGargalhada: Geisy Arruda nos TT? Achei que tinha finalmente sumido, mas pelo jeito a mar\\xe9 trouxe ela de volta!',\n",
       "   u'volto jah']},\n",
       " {u'_id': u'mysterytrick',\n",
       "  u'count': 7,\n",
       "  u'tweet_texts': [u'\\u6614\\u30ab\\u30f3\\u30cb\\u30f3Goo\\uff1f\\u3063\\u3066\\u6f2b\\u753b\\u306a\\u304b\\u3063\\u305f\\uff1f',\n",
       "   u'\\u6614\\u30ab\\u30f3\\u30cb\\u30f3Goo\\uff1f\\u3063\\u3066\\u6f2b\\u753b\\u306a\\u304b\\u3063\\u305f\\uff1f',\n",
       "   u'\\u6614\\u30ab\\u30f3\\u30cb\\u30f3Goo\\uff1f\\u3063\\u3066\\u6f2b\\u753b\\u306a\\u304b\\u3063\\u305f\\uff1f',\n",
       "   u'\\u6614\\u30ab\\u30f3\\u30cb\\u30f3Goo\\uff1f\\u3063\\u3066\\u6f2b\\u753b\\u306a\\u304b\\u3063\\u305f\\uff1f',\n",
       "   u'\\u6614\\u30ab\\u30f3\\u30cb\\u30f3Goo\\uff1f\\u3063\\u3066\\u6f2b\\u753b\\u306a\\u304b\\u3063\\u305f\\uff1f',\n",
       "   u'\\u6614\\u30ab\\u30f3\\u30cb\\u30f3Goo\\uff1f\\u3063\\u3066\\u6f2b\\u753b\\u306a\\u304b\\u3063\\u305f\\uff1f',\n",
       "   u'5\\u6642\\u3092\\u5f85\\u305f\\u305a\\u3057\\u3066\\u8749\\u304c\\u9cf4\\u304d\\u51fa\\u3057\\u305f']},\n",
       " {u'_id': u'JBTeenageDream',\n",
       "  u'count': 7,\n",
       "  u'tweet_texts': [u'I \\u2665 @BieberSubject',\n",
       "   u\"@proudofjbiebs sure ill be at '39 wbu? &lt;3\",\n",
       "   u'IMMA CRY, WHY IS NO1 FOLLOWING @proudofjbiebs THEY FOLLOW BACK & TELL ME FOR A MAJOR SHOUTOUT :( ...',\n",
       "   u'I recently lost 24 followers, and I know who they are thanks to http://who.unfollowed.me #whounfollowedme',\n",
       "   u'@BieberPlane im doing it with someone first wait okay? &lt;3',\n",
       "   u'IMMA CRY :( WHY WONT YOU FOLLOW @cutelucy_bieber THEY FOLLOW BACK & TELL ME FOR A MAJOR SHOUTOUT + DM TO GREYSON, LIL TWIST & CORBIN BLEU',\n",
       "   u'WHY WONT 1 MORE FOLLOW @cutelucy_bieber THEY FOLLOW BACK & TELL ME FOR A MAJOR SHOUTOUT + DM TO GREYSON, LIL TWIST & CORBIN BLEU IMMA CRY']},\n",
       " {u'_id': u'Jobs_SanAntonio',\n",
       "  u'count': 6,\n",
       "  u'tweet_texts': [u'Account Executive: TX-San Antonio,  LivingSocial is rapidly expanding and we want\\xa0you\\xa0to be part of this exciting,... http://bit.ly/akvIl6',\n",
       "   u'Account Executive: TX-San Antonio,  LivingSocial is rapidly expanding and we want\\xa0you\\xa0to be part of this exciting,... http://bit.ly/akvIl6',\n",
       "   u'Account Executive: TX-San Antonio,  LivingSocial is rapidly expanding and we want\\xa0you\\xa0to be part of this exciting,... http://bit.ly/akvIl6',\n",
       "   u'Account Executive: TX-San Antonio,  LivingSocial is rapidly expanding and we want\\xa0you\\xa0to be part of this exciting,... http://bit.ly/akvIl6',\n",
       "   u'Account Executive: TX-San Antonio,  LivingSocial is rapidly expanding and we want\\xa0you\\xa0to be part of this exciting,... http://bit.ly/akvIl6',\n",
       "   u'Account Executive: TX-San Antonio,  LivingSocial is rapidly expanding and we want\\xa0you\\xa0to be part of this exciting,... http://bit.ly/akvIl6']},\n",
       " {u'_id': u'vslxo',\n",
       "  u'count': 6,\n",
       "  u'tweet_texts': [u'Photo: (via lovedbythesun) http://tumblr.com/xqrhfp90o',\n",
       "   u'Photo: (via lovedbythesun) http://tumblr.com/xqrhfp90o',\n",
       "   u'Photo: (via lovedbythesun) http://tumblr.com/xqrhfp90o',\n",
       "   u'Photo: (via lovedbythesun) http://tumblr.com/xqrhfp90o',\n",
       "   u'Photo: (via lovedbythesun) http://tumblr.com/xqrhfp90o',\n",
       "   u'Photo: (via lovedbythesun) http://tumblr.com/xqrhfp90o']}]"
      ]
     },
     "execution_count": 184,
     "metadata": {},
     "output_type": "execute_result"
    }
   ],
   "source": [
    "db = get_db('twitter')\n",
    "\n",
    "def aggregate(db, pipeline):\n",
    "    return [doc for doc in db.tweets.aggregate(pipeline)]\n",
    "\n",
    "aggregate(db, [ \n",
    "        {\"$group\": {\"_id\": \"$user.screen_name\",\n",
    "                    \"count\": {\"$sum\": 1},\n",
    "                    \"tweet_texts\": {\"$push\": \"$text\"}\n",
    "                   }},\n",
    "        {\"$sort\": {\"count\": -1}},\n",
    "        {\"$limit\": 5}\n",
    "    ])"
   ]
  },
  {
   "cell_type": "code",
   "execution_count": 185,
   "metadata": {},
   "outputs": [],
   "source": [
    "def make_pipeline():\n",
    "    pipeline = [ \n",
    "        {\"$group\": {\"_id\": \"$user.screen_name\",\n",
    "                    \"count\": {\"$sum\": 1},\n",
    "                    \"tweet_texts\": {\"$push\": \"$text\"}\n",
    "                   }},\n",
    "        {\"$sort\": {\"count\": -1}},\n",
    "        {\"$limit\": 5}\n",
    "    ]\n",
    "    return pipeline"
   ]
  },
  {
   "cell_type": "code",
   "execution_count": 191,
   "metadata": {},
   "outputs": [
    {
     "name": "stdout",
     "output_type": "stream",
     "text": [
      "[{u'_id': u'behcolin',\n",
      "  u'count': 8,\n",
      "  u'tweet_texts': [u'RT @VouConfessarQue: #VouConfessarQue j\\xe1 aprendi uma mat\\xe9ria inteira poucos minutos antes de uma prova.',\n",
      "                   u'RT @TweetGargalhada: Geisy Arruda nos TT? Achei que tinha finalmente sumido, mas pelo jeito a mar\\xe9 trouxe ela de volta!',\n",
      "                   u'RT @TweetGargalhada: Geisy Arruda nos TT? Achei que tinha finalmente sumido, mas pelo jeito a mar\\xe9 trouxe ela de volta!',\n",
      "                   u'RT @TweetGargalhada: Geisy Arruda nos TT? Achei que tinha finalmente sumido, mas pelo jeito a mar\\xe9 trouxe ela de volta!',\n",
      "                   u'RT @TweetGargalhada: Geisy Arruda nos TT? Achei que tinha finalmente sumido, mas pelo jeito a mar\\xe9 trouxe ela de volta!',\n",
      "                   u'RT @TweetGargalhada: Geisy Arruda nos TT? Achei que tinha finalmente sumido, mas pelo jeito a mar\\xe9 trouxe ela de volta!',\n",
      "                   u'RT @TweetGargalhada: Geisy Arruda nos TT? Achei que tinha finalmente sumido, mas pelo jeito a mar\\xe9 trouxe ela de volta!',\n",
      "                   u'volto jah']},\n",
      " {u'_id': u'mysterytrick',\n",
      "  u'count': 7,\n",
      "  u'tweet_texts': [u'\\u6614\\u30ab\\u30f3\\u30cb\\u30f3Goo\\uff1f\\u3063\\u3066\\u6f2b\\u753b\\u306a\\u304b\\u3063\\u305f\\uff1f',\n",
      "                   u'\\u6614\\u30ab\\u30f3\\u30cb\\u30f3Goo\\uff1f\\u3063\\u3066\\u6f2b\\u753b\\u306a\\u304b\\u3063\\u305f\\uff1f',\n",
      "                   u'\\u6614\\u30ab\\u30f3\\u30cb\\u30f3Goo\\uff1f\\u3063\\u3066\\u6f2b\\u753b\\u306a\\u304b\\u3063\\u305f\\uff1f',\n",
      "                   u'\\u6614\\u30ab\\u30f3\\u30cb\\u30f3Goo\\uff1f\\u3063\\u3066\\u6f2b\\u753b\\u306a\\u304b\\u3063\\u305f\\uff1f',\n",
      "                   u'\\u6614\\u30ab\\u30f3\\u30cb\\u30f3Goo\\uff1f\\u3063\\u3066\\u6f2b\\u753b\\u306a\\u304b\\u3063\\u305f\\uff1f',\n",
      "                   u'\\u6614\\u30ab\\u30f3\\u30cb\\u30f3Goo\\uff1f\\u3063\\u3066\\u6f2b\\u753b\\u306a\\u304b\\u3063\\u305f\\uff1f',\n",
      "                   u'5\\u6642\\u3092\\u5f85\\u305f\\u305a\\u3057\\u3066\\u8749\\u304c\\u9cf4\\u304d\\u51fa\\u3057\\u305f']},\n",
      " {u'_id': u'JBTeenageDream',\n",
      "  u'count': 7,\n",
      "  u'tweet_texts': [u'I \\u2665 @BieberSubject',\n",
      "                   u\"@proudofjbiebs sure ill be at '39 wbu? &lt;3\",\n",
      "                   u'IMMA CRY, WHY IS NO1 FOLLOWING @proudofjbiebs THEY FOLLOW BACK & TELL ME FOR A MAJOR SHOUTOUT :( ...',\n",
      "                   u'I recently lost 24 followers, and I know who they are thanks to http://who.unfollowed.me #whounfollowedme',\n",
      "                   u'@BieberPlane im doing it with someone first wait okay? &lt;3',\n",
      "                   u'IMMA CRY :( WHY WONT YOU FOLLOW @cutelucy_bieber THEY FOLLOW BACK & TELL ME FOR A MAJOR SHOUTOUT + DM TO GREYSON, LIL TWIST & CORBIN BLEU',\n",
      "                   u'WHY WONT 1 MORE FOLLOW @cutelucy_bieber THEY FOLLOW BACK & TELL ME FOR A MAJOR SHOUTOUT + DM TO GREYSON, LIL TWIST & CORBIN BLEU IMMA CRY']},\n",
      " {u'_id': u'Jobs_SanAntonio',\n",
      "  u'count': 6,\n",
      "  u'tweet_texts': [u'Account Executive: TX-San Antonio,  LivingSocial is rapidly expanding and we want\\xa0you\\xa0to be part of this exciting,... http://bit.ly/akvIl6',\n",
      "                   u'Account Executive: TX-San Antonio,  LivingSocial is rapidly expanding and we want\\xa0you\\xa0to be part of this exciting,... http://bit.ly/akvIl6',\n",
      "                   u'Account Executive: TX-San Antonio,  LivingSocial is rapidly expanding and we want\\xa0you\\xa0to be part of this exciting,... http://bit.ly/akvIl6',\n",
      "                   u'Account Executive: TX-San Antonio,  LivingSocial is rapidly expanding and we want\\xa0you\\xa0to be part of this exciting,... http://bit.ly/akvIl6',\n",
      "                   u'Account Executive: TX-San Antonio,  LivingSocial is rapidly expanding and we want\\xa0you\\xa0to be part of this exciting,... http://bit.ly/akvIl6',\n",
      "                   u'Account Executive: TX-San Antonio,  LivingSocial is rapidly expanding and we want\\xa0you\\xa0to be part of this exciting,... http://bit.ly/akvIl6']},\n",
      " {u'_id': u'vslxo',\n",
      "  u'count': 6,\n",
      "  u'tweet_texts': [u'Photo: (via lovedbythesun) http://tumblr.com/xqrhfp90o',\n",
      "                   u'Photo: (via lovedbythesun) http://tumblr.com/xqrhfp90o',\n",
      "                   u'Photo: (via lovedbythesun) http://tumblr.com/xqrhfp90o',\n",
      "                   u'Photo: (via lovedbythesun) http://tumblr.com/xqrhfp90o',\n",
      "                   u'Photo: (via lovedbythesun) http://tumblr.com/xqrhfp90o',\n",
      "                   u'Photo: (via lovedbythesun) http://tumblr.com/xqrhfp90o']}]\n"
     ]
    }
   ],
   "source": [
    "def aggregate(db, pipeline):\n",
    "    return [doc for doc in db.tweets.aggregate(pipeline)]\n",
    "\n",
    "db = get_db('twitter')\n",
    "pipeline = make_pipeline()\n",
    "result = aggregate(db, pipeline)\n",
    "import pprint\n",
    "pprint.pprint(result)\n",
    "assert len(result) == 5\n",
    "assert result[0][\"count\"] > result[4][\"count\"]\n",
    "sample_tweet_text = u'Take my money! #liesguystell http://movie.sras2.ayorganes.com'\n",
    "# assert result[4][\"tweet_texts\"][0] == sample_tweet_text"
   ]
  },
  {
   "cell_type": "code",
   "execution_count": 194,
   "metadata": {},
   "outputs": [
    {
     "data": {
      "text/plain": [
       "u'Photo: (via lovedbythesun) http://tumblr.com/xqrhfp90o'"
      ]
     },
     "execution_count": 194,
     "metadata": {},
     "output_type": "execute_result"
    }
   ],
   "source": [
    "result[4][\"tweet_texts\"][0]"
   ]
  },
  {
   "cell_type": "code",
   "execution_count": 193,
   "metadata": {},
   "outputs": [
    {
     "data": {
      "text/plain": [
       "u'Take my money! #liesguystell http://movie.sras2.ayorganes.com'"
      ]
     },
     "execution_count": 193,
     "metadata": {},
     "output_type": "execute_result"
    }
   ],
   "source": [
    "sample_tweet_text"
   ]
  },
  {
   "cell_type": "markdown",
   "metadata": {},
   "source": [
    "# Quiz 5"
   ]
  },
  {
   "cell_type": "code",
   "execution_count": 202,
   "metadata": {},
   "outputs": [],
   "source": [
    "\"\"\"\n",
    "In an earlier exercise we looked at the cities dataset and asked which region in India contains \n",
    "the most cities. In this exercise, we'd like you to answer a related question regarding regions in \n",
    "India. What is the average city population for a region in India? Calculate your answer by first \n",
    "finding the average population of cities in each region and then by calculating the average of the \n",
    "regional averages.\n",
    "\n",
    "Hint: If you want to accumulate using values from all input documents to a group stage, you may use \n",
    "a constant as the value of the \"_id\" field. For example, \n",
    "    { \"$group\" : {\"_id\" : \"India Regional City Population Average\",\n",
    "      ... }\n",
    "\n",
    "Please modify only the 'make_pipeline' function so that it creates and returns an aggregation \n",
    "pipeline that can be passed to the MongoDB aggregate function. As in our examples in this lesson, \n",
    "the aggregation pipeline should be a list of one or more dictionary objects. \n",
    "Please review the lesson examples if you are unsure of the syntax.\n",
    "\n",
    "Your code will be run against a MongoDB instance that we have provided. If you want to run this code \n",
    "locally on your machine, you have to install MongoDB, download and insert the dataset.\n",
    "For instructions related to MongoDB setup and datasets please see Course Materials.\n",
    "\n",
    "Please note that the dataset you are using here is a smaller version of the twitter dataset used \n",
    "in examples in this lesson. If you attempt some of the same queries that we looked at in the lesson \n",
    "examples, your results will be different.\n",
    "\"\"\"\n",
    "\n",
    "def get_db(db_name):\n",
    "    from pymongo import MongoClient\n",
    "    client = MongoClient('localhost:27017')\n",
    "    db = client[db_name]\n",
    "    return db"
   ]
  },
  {
   "cell_type": "markdown",
   "metadata": {},
   "source": [
    "### Let's fill the db with all the fields"
   ]
  },
  {
   "cell_type": "code",
   "execution_count": 217,
   "metadata": {},
   "outputs": [],
   "source": [
    "def most_significant(text, converter=float):\n",
    "    options = text.strip(\"{}\").split(\"|\")\n",
    "    num_significant = map(lambda x: len(\n",
    "        x.replace('.', '').replace(',', '').rstrip('0')), options)\n",
    "    return converter(options[num_significant.index(max(num_significant))])"
   ]
  },
  {
   "cell_type": "code",
   "execution_count": 220,
   "metadata": {},
   "outputs": [
    {
     "data": {
      "text/plain": [
       "123123.4523"
      ]
     },
     "execution_count": 220,
     "metadata": {},
     "output_type": "execute_result"
    }
   ],
   "source": [
    "most_significant(\"{123123.4523|14|123445}\")"
   ]
  },
  {
   "cell_type": "code",
   "execution_count": 232,
   "metadata": {},
   "outputs": [
    {
     "data": {
      "text/plain": [
       "<pymongo.results.InsertManyResult at 0x1233fc290>"
      ]
     },
     "execution_count": 232,
     "metadata": {},
     "output_type": "execute_result"
    }
   ],
   "source": [
    "import csv\n",
    "FIELDS = [\"elevation\", \"name\", \"country\", \"lon\", \"lat\", \"isPartOf\", \n",
    "          \"timeZone\", \"population\"]\n",
    "\n",
    "db = get_db('examples')\n",
    "\n",
    "with open('data/cities/cities.csv', 'r') as f:\n",
    "    reader = csv.DictReader(f)\n",
    "    for i in range(3):\n",
    "        _ = next(reader)\n",
    "    data = list()\n",
    "    for doc in reader:\n",
    "        if doc['isPartOf'] != \"NULL\":\n",
    "            doc['isPartOf'] = map(str.strip, doc['isPartOf_label'].strip('{}').split(\"|\"))\n",
    "        else:\n",
    "            doc['isPartOf'] = None\n",
    "        doc['country'] = doc['country_label']\n",
    "        if doc['point'] != \"NULL\":\n",
    "            point = doc['point'].strip('{}').split('|')[0].split()\n",
    "            doc['lon'] = float(point[0])\n",
    "            doc['lat'] = float(point[1])\n",
    "        else:\n",
    "            doc['lon'] = None\n",
    "            doc['lat'] = None\n",
    "        if doc['populationTotal'] != \"NULL\":\n",
    "            doc['population'] = int(doc['populationTotal'].strip('{}').split('|')[0])\n",
    "        else:\n",
    "            doc['population'] = None\n",
    "        doc['timeZone'] = doc['timeZone_label']\n",
    "        for f in FIELDS:\n",
    "            if doc[f] == 'NULL':\n",
    "                doc[f] = None\n",
    "        if doc['elevation'] is not None:\n",
    "            doc['elevation'] = most_significant(doc['elevation'])\n",
    "        data.append({f: doc[f] for f in FIELDS})\n",
    "\n",
    "db.cities.drop()\n",
    "db.cities.insert_many(data)"
   ]
  },
  {
   "cell_type": "code",
   "execution_count": 234,
   "metadata": {},
   "outputs": [
    {
     "data": {
      "text/plain": [
       "{u'_id': ObjectId('5ca79c02873d8102a816e2ca'),\n",
       " u'country': u'India',\n",
       " u'elevation': 1855.0,\n",
       " u'isPartOf': [u'Jammu and Kashmir', u'Udhampur district'],\n",
       " u'lat': 75.28,\n",
       " u'lon': 33.08,\n",
       " u'name': u'Kud',\n",
       " u'population': 1140,\n",
       " u'timeZone': u'Indian Standard Time'}"
      ]
     },
     "execution_count": 234,
     "metadata": {},
     "output_type": "execute_result"
    }
   ],
   "source": [
    "# Let's look at one record\n",
    "db = get_db('examples')\n",
    "next(db.cities.find().limit(1))"
   ]
  },
  {
   "cell_type": "markdown",
   "metadata": {},
   "source": [
    "### Now, let's solve it"
   ]
  },
  {
   "cell_type": "code",
   "execution_count": 248,
   "metadata": {},
   "outputs": [
    {
     "data": {
      "text/plain": [
       "[{u'_id': u'Etaeh_district', u'avg_pop': 35662.0},\n",
       " {u'_id': u'Haveri', u'avg_pop': 15874.0},\n",
       " {u'_id': u'Pratapgarh district Uttar Pradesh', u'avg_pop': 24608.6},\n",
       " {u'_id': u'Dindigul district', u'avg_pop': 28940.391304347828},\n",
       " {u'_id': u'Are-Malenadu', u'avg_pop': 18517.0},\n",
       " {u'_id': u'Bhopal district', u'avg_pop': 24289.0},\n",
       " {u'_id': u'Balod_district', u'avg_pop': 35829.5},\n",
       " {u'_id': u'Hapur district', u'avg_pop': 262801.0},\n",
       " {u'_id': u'Panchsheel_nagar_India', u'avg_pop': 5938.0},\n",
       " {u'_id': u'Debagarh district', u'avg_pop': 20085.0}]"
      ]
     },
     "execution_count": 248,
     "metadata": {},
     "output_type": "execute_result"
    }
   ],
   "source": [
    "aggregate(db, [\n",
    "    {\"$match\": {\"country\": \"India\"}},\n",
    "    {\"$group\": {\"_id\": {\"$arrayElemAt\": [\"$isPartOf\", 0]}, \n",
    "                \"avg_pop\": {\"$avg\": \"$population\"}\n",
    "               }},\n",
    "    {\"$limit\": 10}\n",
    "])"
   ]
  },
  {
   "cell_type": "code",
   "execution_count": 251,
   "metadata": {},
   "outputs": [
    {
     "data": {
      "text/plain": [
       "[{u'_id': u'India Regional City Population Average',\n",
       "  u'avg_pop_tot': 127518.0195506342}]"
      ]
     },
     "execution_count": 251,
     "metadata": {},
     "output_type": "execute_result"
    }
   ],
   "source": [
    "aggregate(db, [\n",
    "    {\"$match\": {\"country\": \"India\"}},\n",
    "    {\"$group\": {\"_id\": {\"$arrayElemAt\": [\"$isPartOf\", 0]}, \n",
    "                \"avg_pop\": {\"$avg\": \"$population\"}\n",
    "               }},\n",
    "    {\"$group\": {\"_id\": \"India Regional City Population Average\", \n",
    "                \"avg_pop_tot\": {\"$avg\": \"$avg_pop\"}}},\n",
    "    {\"$limit\": 10}\n",
    "])"
   ]
  },
  {
   "cell_type": "code",
   "execution_count": 253,
   "metadata": {},
   "outputs": [
    {
     "data": {
      "text/plain": [
       "[{u'_id': u'India Regional City Population Average',\n",
       "  u'avg_pop_tot': 201128.02415469187}]"
      ]
     },
     "execution_count": 253,
     "metadata": {},
     "output_type": "execute_result"
    }
   ],
   "source": [
    "aggregate(db, [\n",
    "    {\"$match\": {\"country\": \"India\"}},\n",
    "    {\"$unwind\": \"$isPartOf\"},\n",
    "    {\"$group\": {\"_id\": \"$isPartOf\", \n",
    "                \"avg_pop\": {\"$avg\": \"$population\"}\n",
    "               }},\n",
    "    {\"$group\": {\"_id\": \"India Regional City Population Average\", \n",
    "                \"avg_pop_tot\": {\"$avg\": \"$avg_pop\"}}},\n",
    "    {\"$limit\": 10}\n",
    "])"
   ]
  },
  {
   "cell_type": "code",
   "execution_count": 256,
   "metadata": {},
   "outputs": [],
   "source": [
    "def make_pipeline():\n",
    "    # complete the aggregation pipeline\n",
    "    pipeline = [\n",
    "    {\"$match\": {\"country\": \"India\"}},\n",
    "    {\"$unwind\": \"$isPartOf\"},\n",
    "    {\"$group\": {\"_id\": \"$isPartOf\", \n",
    "                \"avg_pop\": {\"$avg\": \"$population\"}\n",
    "               }},\n",
    "    {\"$group\": {\"_id\": \"India Regional City Population Average\", \n",
    "                \"avg\": {\"$avg\": \"$avg_pop\"}}},\n",
    "        {\"$limit\": 10}\n",
    "    ]\n",
    "    return pipeline"
   ]
  },
  {
   "cell_type": "code",
   "execution_count": 257,
   "metadata": {},
   "outputs": [
    {
     "name": "stdout",
     "output_type": "stream",
     "text": [
      "[{u'_id': u'India Regional City Population Average',\n",
      "  u'avg': 201128.02415469187}]\n"
     ]
    }
   ],
   "source": [
    "def aggregate(db, pipeline):\n",
    "    return [doc for doc in db.cities.aggregate(pipeline)]\n",
    "\n",
    "\n",
    "db = get_db('examples')\n",
    "pipeline = make_pipeline()\n",
    "result = aggregate(db, pipeline)\n",
    "assert len(result) == 1\n",
    "# Your result should be close to the value after the minus sign.\n",
    "assert abs(result[0][\"avg\"] - 201128.0241546919) < 10 ** -8\n",
    "import pprint\n",
    "pprint.pprint(result)"
   ]
  },
  {
   "cell_type": "markdown",
   "metadata": {},
   "source": [
    "# Indexes"
   ]
  },
  {
   "cell_type": "markdown",
   "metadata": {},
   "source": [
    "For example: (hashtag, date, username)"
   ]
  },
  {
   "cell_type": "markdown",
   "metadata": {},
   "source": [
    "```\n",
    "db.nodes.ensure_index({\"tg\": 1})\n",
    "```"
   ]
  },
  {
   "cell_type": "markdown",
   "metadata": {},
   "source": [
    "### Geospatial indexes\n",
    "\n",
    "```\n",
    "db.nodes.ensure_index({\"loc\": pymongo.GEO2D})\n",
    "db.nodes.find({\"loc\": {\"\\$near\": [41.94, -87.65]}})\n",
    "```"
   ]
  },
  {
   "cell_type": "code",
   "execution_count": null,
   "metadata": {},
   "outputs": [],
   "source": []
  }
 ],
 "metadata": {
  "kernelspec": {
   "display_name": "python2",
   "language": "python",
   "name": "python2"
  },
  "language_info": {
   "codemirror_mode": {
    "name": "ipython",
    "version": 2
   },
   "file_extension": ".py",
   "mimetype": "text/x-python",
   "name": "python",
   "nbconvert_exporter": "python",
   "pygments_lexer": "ipython2",
   "version": "2.7.14"
  }
 },
 "nbformat": 4,
 "nbformat_minor": 2
}
