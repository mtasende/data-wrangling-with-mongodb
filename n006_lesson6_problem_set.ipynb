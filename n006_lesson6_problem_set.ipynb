{
 "cells": [
  {
   "cell_type": "markdown",
   "metadata": {},
   "source": [
    "# Quiz 1"
   ]
  },
  {
   "cell_type": "code",
   "execution_count": 15,
   "metadata": {},
   "outputs": [],
   "source": [
    "\"\"\"\n",
    "In this problem set you work with cities infobox data, audit it, come up with a\n",
    "cleaning idea and then clean it up. In the first exercise we want you to audit\n",
    "the datatypes that can be found in some particular fields in the dataset.\n",
    "The possible types of values can be:\n",
    "- NoneType if the value is a string \"NULL\" or an empty string \"\"\n",
    "- list, if the value starts with \"{\"\n",
    "- int, if the value can be cast to int\n",
    "- float, if the value can be cast to float, but CANNOT be cast to int.\n",
    "   For example, '3.23e+07' should be considered a float because it can be cast\n",
    "   as float but int('3.23e+07') will throw a ValueError\n",
    "- 'str', for all other values\n",
    "\n",
    "The audit_file function should return a dictionary containing fieldnames and a \n",
    "SET of the types that can be found in the field. e.g.\n",
    "{\"field1\": set([type(float()), type(int()), type(str())]),\n",
    " \"field2\": set([type(str())]),\n",
    "  ....\n",
    "}\n",
    "The type() function returns a type object describing the argument given to the \n",
    "function. You can also use examples of objects to create type objects, e.g.\n",
    "type(1.1) for a float: see the test function below for examples.\n",
    "\n",
    "Note that the first three rows (after the header row) in the cities.csv file\n",
    "are not actual data points. The contents of these rows should note be included\n",
    "when processing data types. Be sure to include functionality in your code to\n",
    "skip over or detect these rows.\n",
    "\"\"\"\n",
    "import codecs\n",
    "import csv\n",
    "import json\n",
    "import pprint\n",
    "from collections import defaultdict\n",
    "\n",
    "CITIES = 'data/cities.csv'\n",
    "\n",
    "FIELDS = [\"name\", \"timeZone_label\", \"utcOffset\", \"homepage\", \"governmentType_label\",\n",
    "          \"isPartOf_label\", \"areaCode\", \"populationTotal\", \"elevation\",\n",
    "          \"maximumElevation\", \"minimumElevation\", \"populationDensity\",\n",
    "          \"wgs84_pos#lat\", \"wgs84_pos#long\", \"areaLand\", \"areaMetro\", \"areaUrban\"]"
   ]
  },
  {
   "cell_type": "code",
   "execution_count": 33,
   "metadata": {},
   "outputs": [
    {
     "name": "stdout",
     "output_type": "stream",
     "text": [
      "['URI', 'rdf-schema#label', 'rdf-schema#comment', 'administrativeDistrict_label', 'administrativeDistrict', 'anthem_label', 'anthem', 'area', 'areaCode', 'areaLand', 'areaMetro', 'areaRural', 'areaTotal', 'areaUrban', 'areaWater', 'city_label', 'city', 'code', 'country_label', 'country', 'daylightSavingTimeZone_label', 'daylightSavingTimeZone', 'district_label', 'district', 'division_label', 'division', 'elevation', 'federalState_label', 'federalState', 'foundingDate', 'foundingPerson_label', 'foundingPerson', 'foundingYear', 'governingBody_label', 'governingBody', 'government_label', 'government', 'governmentType_label', 'governmentType', 'isPartOf_label', 'isPartOf', 'isoCodeRegion_label', 'isoCodeRegion', 'leader_label', 'leader', 'leaderName_label', 'leaderName', 'leaderParty_label', 'leaderParty', 'leaderTitle', 'location_label', 'location', 'maximumElevation', 'mayor_label', 'mayor', 'minimumElevation', 'motto', 'municipality_label', 'municipality', 'part_label', 'part', 'percentageOfAreaWater', 'populationAsOf', 'populationDensity', 'populationMetro', 'populationMetroDensity', 'populationRural', 'populationTotal', 'populationTotalRanking', 'populationUrban', 'populationUrbanDensity', 'postalCode', 'region_label', 'region', 'state_label', 'state', 'synonym', 'thumbnail_label', 'thumbnail', 'timeZone_label', 'timeZone', 'twinCity_label', 'twinCity', 'twinCountry_label', 'twinCountry', 'type_label', 'type', 'utcOffset', 'point', '22-rdf-syntax-ns#type_label', '22-rdf-syntax-ns#type', 'wgs84_pos#lat', 'wgs84_pos#long', 'depiction_label', 'depiction', 'homepage_label', 'homepage', 'name', 'nick']\n",
      "----------------------------------------------------------------------------------------------------\n",
      "\n",
      "['URI', 'http://www.w3.org/2000/01/rdf-schema#label', 'http://www.w3.org/2000/01/rdf-schema#comment', 'http://dbpedia.org/ontology/administrativeDistrict', 'http://dbpedia.org/ontology/administrativeDistrict', 'http://dbpedia.org/ontology/anthem', 'http://dbpedia.org/ontology/anthem', 'http://dbpedia.org/ontology/area', 'http://dbpedia.org/ontology/areaCode', 'http://dbpedia.org/ontology/areaLand', 'http://dbpedia.org/ontology/areaMetro', 'http://dbpedia.org/ontology/areaRural', 'http://dbpedia.org/ontology/areaTotal', 'http://dbpedia.org/ontology/areaUrban', 'http://dbpedia.org/ontology/areaWater', 'http://dbpedia.org/ontology/city', 'http://dbpedia.org/ontology/city', 'http://dbpedia.org/ontology/code', 'http://dbpedia.org/ontology/country', 'http://dbpedia.org/ontology/country', 'http://dbpedia.org/ontology/daylightSavingTimeZone', 'http://dbpedia.org/ontology/daylightSavingTimeZone', 'http://dbpedia.org/ontology/district', 'http://dbpedia.org/ontology/district', 'http://dbpedia.org/ontology/division', 'http://dbpedia.org/ontology/division', 'http://dbpedia.org/ontology/elevation', 'http://dbpedia.org/ontology/federalState', 'http://dbpedia.org/ontology/federalState', 'http://dbpedia.org/ontology/foundingDate', 'http://dbpedia.org/ontology/foundingPerson', 'http://dbpedia.org/ontology/foundingPerson', 'http://dbpedia.org/ontology/foundingYear', 'http://dbpedia.org/ontology/governingBody', 'http://dbpedia.org/ontology/governingBody', 'http://dbpedia.org/ontology/government', 'http://dbpedia.org/ontology/government', 'http://dbpedia.org/ontology/governmentType', 'http://dbpedia.org/ontology/governmentType', 'http://dbpedia.org/ontology/isPartOf', 'http://dbpedia.org/ontology/isPartOf', 'http://dbpedia.org/ontology/isoCodeRegion', 'http://dbpedia.org/ontology/isoCodeRegion', 'http://dbpedia.org/ontology/leader', 'http://dbpedia.org/ontology/leader', 'http://dbpedia.org/ontology/leaderName', 'http://dbpedia.org/ontology/leaderName', 'http://dbpedia.org/ontology/leaderParty', 'http://dbpedia.org/ontology/leaderParty', 'http://dbpedia.org/ontology/leaderTitle', 'http://dbpedia.org/ontology/location', 'http://dbpedia.org/ontology/location', 'http://dbpedia.org/ontology/maximumElevation', 'http://dbpedia.org/ontology/mayor', 'http://dbpedia.org/ontology/mayor', 'http://dbpedia.org/ontology/minimumElevation', 'http://dbpedia.org/ontology/motto', 'http://dbpedia.org/ontology/municipality', 'http://dbpedia.org/ontology/municipality', 'http://dbpedia.org/ontology/part', 'http://dbpedia.org/ontology/part', 'http://dbpedia.org/ontology/percentageOfAreaWater', 'http://dbpedia.org/ontology/populationAsOf', 'http://dbpedia.org/ontology/populationDensity', 'http://dbpedia.org/ontology/populationMetro', 'http://dbpedia.org/ontology/populationMetroDensity', 'http://dbpedia.org/ontology/populationRural', 'http://dbpedia.org/ontology/populationTotal', 'http://dbpedia.org/ontology/populationTotalRanking', 'http://dbpedia.org/ontology/populationUrban', 'http://dbpedia.org/ontology/populationUrbanDensity', 'http://dbpedia.org/ontology/postalCode', 'http://dbpedia.org/ontology/region', 'http://dbpedia.org/ontology/region', 'http://dbpedia.org/ontology/state', 'http://dbpedia.org/ontology/state', 'http://dbpedia.org/ontology/synonym', 'http://dbpedia.org/ontology/thumbnail', 'http://dbpedia.org/ontology/thumbnail', 'http://dbpedia.org/ontology/timeZone', 'http://dbpedia.org/ontology/timeZone', 'http://dbpedia.org/ontology/twinCity', 'http://dbpedia.org/ontology/twinCity', 'http://dbpedia.org/ontology/twinCountry', 'http://dbpedia.org/ontology/twinCountry', 'http://dbpedia.org/ontology/type', 'http://dbpedia.org/ontology/type', 'http://dbpedia.org/ontology/utcOffset', 'http://www.georss.org/georss/point', 'http://www.w3.org/1999/02/22-rdf-syntax-ns#type', 'http://www.w3.org/1999/02/22-rdf-syntax-ns#type', 'http://www.w3.org/2003/01/geo/wgs84_pos#lat', 'http://www.w3.org/2003/01/geo/wgs84_pos#long', 'http://xmlns.com/foaf/0.1/depiction', 'http://xmlns.com/foaf/0.1/depiction', 'http://xmlns.com/foaf/0.1/homepage', 'http://xmlns.com/foaf/0.1/homepage', 'http://xmlns.com/foaf/0.1/name', 'http://xmlns.com/foaf/0.1/nick']\n",
      "----------------------------------------------------------------------------------------------------\n",
      "\n",
      "['URI', 'XMLSchema#string', 'XMLSchema#string', 'XMLSchema#string', 'PopulatedPlace', 'XMLSchema#string', 'Work', 'XMLSchema#double', 'XMLSchema#string', 'XMLSchema#double', 'XMLSchema#double', 'XMLSchema#double', 'XMLSchema#double', 'XMLSchema#double', 'XMLSchema#double', 'XMLSchema#string', 'City', 'XMLSchema#string', 'XMLSchema#string', 'Country', 'XMLSchema#string', 'owl#Thing', 'XMLSchema#string', 'PopulatedPlace', 'XMLSchema#string', 'owl#Thing', 'XMLSchema#double', 'XMLSchema#string', 'PopulatedPlace', 'XMLSchema#date', 'XMLSchema#string', 'Person', 'XMLSchema#gYear', 'XMLSchema#string', 'Organisation', 'XMLSchema#string', 'owl#Thing', 'XMLSchema#string', 'GovernmentType', 'XMLSchema#string', 'owl#Thing', 'XMLSchema#string', 'owl#Thing', 'XMLSchema#string', 'Person', 'XMLSchema#string', 'Person', 'XMLSchema#string', 'owl#Thing', 'XMLSchema#string', 'XMLSchema#string', 'Place', 'XMLSchema#double', 'XMLSchema#string', 'Mayor', 'XMLSchema#double', 'XMLSchema#string', 'XMLSchema#string', 'PopulatedPlace', 'XMLSchema#string', 'Place', 'XMLSchema#float', 'XMLSchema#date', 'XMLSchema#double', 'XMLSchema#nonNegativeInteger', 'XMLSchema#double', 'XMLSchema#nonNegativeInteger', 'XMLSchema#nonNegativeInteger', 'XMLSchema#positiveInteger', 'XMLSchema#nonNegativeInteger', 'XMLSchema#double', 'XMLSchema#string', 'XMLSchema#string', 'Place', 'XMLSchema#string', 'PopulatedPlace', 'XMLSchema#string', 'XMLSchema#string', 'owl#Thing', 'XMLSchema#string', 'owl#Thing', 'XMLSchema#string', 'Settlement', 'XMLSchema#string', 'Country', 'XMLSchema#string', 'owl#Thing', 'XMLSchema#string', 'XMLSchema#string', 'XMLSchema#string', 'owl#Class', 'XMLSchema#float', 'XMLSchema#float', 'XMLSchema#string', 'owl#Thing', 'XMLSchema#string', 'owl#Thing', 'XMLSchema#string', 'XMLSchema#string']\n",
      "----------------------------------------------------------------------------------------------------\n",
      "\n",
      "['http://www.w3.org/2002/07/owl#Thing', 'http://www.w3.org/2001/XMLSchema#string', 'http://www.w3.org/2001/XMLSchema#string', 'http://www.w3.org/2001/XMLSchema#string', 'http://dbpedia.org/ontology/PopulatedPlace', 'http://www.w3.org/2001/XMLSchema#string', 'http://dbpedia.org/ontology/Work', 'http://www.w3.org/2001/XMLSchema#double', 'http://www.w3.org/2001/XMLSchema#string', 'http://www.w3.org/2001/XMLSchema#double', 'http://www.w3.org/2001/XMLSchema#double', 'http://www.w3.org/2001/XMLSchema#double', 'http://www.w3.org/2001/XMLSchema#double', 'http://www.w3.org/2001/XMLSchema#double', 'http://www.w3.org/2001/XMLSchema#double', 'http://www.w3.org/2001/XMLSchema#string', 'http://dbpedia.org/ontology/City', 'http://www.w3.org/2001/XMLSchema#string', 'http://www.w3.org/2001/XMLSchema#string', 'http://dbpedia.org/ontology/Country', 'http://www.w3.org/2001/XMLSchema#string', 'http://www.w3.org/2002/07/owl#Thing', 'http://www.w3.org/2001/XMLSchema#string', 'http://dbpedia.org/ontology/PopulatedPlace', 'http://www.w3.org/2001/XMLSchema#string', 'http://www.w3.org/2002/07/owl#Thing', 'http://www.w3.org/2001/XMLSchema#double', 'http://www.w3.org/2001/XMLSchema#string', 'http://dbpedia.org/ontology/PopulatedPlace', 'http://www.w3.org/2001/XMLSchema#date', 'http://www.w3.org/2001/XMLSchema#string', 'http://dbpedia.org/ontology/Person', 'http://www.w3.org/2001/XMLSchema#gYear', 'http://www.w3.org/2001/XMLSchema#string', 'http://dbpedia.org/ontology/Organisation', 'http://www.w3.org/2001/XMLSchema#string', 'http://www.w3.org/2002/07/owl#Thing', 'http://www.w3.org/2001/XMLSchema#string', 'http://dbpedia.org/ontology/GovernmentType', 'http://www.w3.org/2001/XMLSchema#string', 'http://www.w3.org/2002/07/owl#Thing', 'http://www.w3.org/2001/XMLSchema#string', 'http://www.w3.org/2002/07/owl#Thing', 'http://www.w3.org/2001/XMLSchema#string', 'http://dbpedia.org/ontology/Person', 'http://www.w3.org/2001/XMLSchema#string', 'http://dbpedia.org/ontology/Person', 'http://www.w3.org/2001/XMLSchema#string', 'http://www.w3.org/2002/07/owl#Thing', 'http://www.w3.org/2001/XMLSchema#string', 'http://www.w3.org/2001/XMLSchema#string', 'http://dbpedia.org/ontology/Place', 'http://www.w3.org/2001/XMLSchema#double', 'http://www.w3.org/2001/XMLSchema#string', 'http://dbpedia.org/ontology/Mayor', 'http://www.w3.org/2001/XMLSchema#double', 'http://www.w3.org/2001/XMLSchema#string', 'http://www.w3.org/2001/XMLSchema#string', 'http://dbpedia.org/ontology/PopulatedPlace', 'http://www.w3.org/2001/XMLSchema#string', 'http://dbpedia.org/ontology/Place', 'http://www.w3.org/2001/XMLSchema#float', 'http://www.w3.org/2001/XMLSchema#date', 'http://www.w3.org/2001/XMLSchema#double', 'http://www.w3.org/2001/XMLSchema#nonNegativeInteger', 'http://www.w3.org/2001/XMLSchema#double', 'http://www.w3.org/2001/XMLSchema#nonNegativeInteger', 'http://www.w3.org/2001/XMLSchema#nonNegativeInteger', 'http://www.w3.org/2001/XMLSchema#positiveInteger', 'http://www.w3.org/2001/XMLSchema#nonNegativeInteger', 'http://www.w3.org/2001/XMLSchema#double', 'http://www.w3.org/2001/XMLSchema#string', 'http://www.w3.org/2001/XMLSchema#string', 'http://dbpedia.org/ontology/Place', 'http://www.w3.org/2001/XMLSchema#string', 'http://dbpedia.org/ontology/PopulatedPlace', 'http://www.w3.org/2001/XMLSchema#string', 'http://www.w3.org/2001/XMLSchema#string', 'http://www.w3.org/2002/07/owl#Thing', 'http://www.w3.org/2001/XMLSchema#string', 'http://www.w3.org/2002/07/owl#Thing', 'http://www.w3.org/2001/XMLSchema#string', 'http://dbpedia.org/ontology/Settlement', 'http://www.w3.org/2001/XMLSchema#string', 'http://dbpedia.org/ontology/Country', 'http://www.w3.org/2001/XMLSchema#string', 'http://www.w3.org/2002/07/owl#Thing', 'http://www.w3.org/2001/XMLSchema#string', 'http://www.w3.org/2001/XMLSchema#string', 'http://www.w3.org/2001/XMLSchema#string', 'http://www.w3.org/2002/07/owl#Class', 'http://www.w3.org/2001/XMLSchema#float', 'http://www.w3.org/2001/XMLSchema#float', 'http://www.w3.org/2001/XMLSchema#string', 'http://www.w3.org/2002/07/owl#Thing', 'http://www.w3.org/2001/XMLSchema#string', 'http://www.w3.org/2002/07/owl#Thing', 'http://www.w3.org/2001/XMLSchema#string', 'http://www.w3.org/2001/XMLSchema#string']\n",
      "----------------------------------------------------------------------------------------------------\n",
      "\n",
      "['http://dbpedia.org/resource/Kud', 'Kud', 'Kud is a town and a notified area committee in Udhampur District in the Indian state of Jammu and Kashmir.', 'NULL', 'NULL', 'NULL', 'NULL', 'NULL', 'NULL', 'NULL', 'NULL', 'NULL', 'NULL', 'NULL', 'NULL', 'NULL', 'NULL', 'NULL', 'India', 'http://dbpedia.org/resource/India', 'NULL', 'NULL', 'NULL', 'NULL', 'NULL', 'NULL', '1855.0', 'NULL', 'NULL', 'NULL', 'NULL', 'NULL', 'NULL', 'NULL', 'NULL', 'NULL', 'NULL', 'NULL', 'NULL', '{Jammu and Kashmir|Udhampur district}', '{http://dbpedia.org/resource/Jammu_and_Kashmir|http://dbpedia.org/resource/Udhampur_district}', 'NULL', 'NULL', 'NULL', 'NULL', 'NULL', 'NULL', 'NULL', 'NULL', 'NULL', 'NULL', 'NULL', 'NULL', 'NULL', 'NULL', 'NULL', 'NULL', 'NULL', 'NULL', 'NULL', 'NULL', 'NULL', 'NULL', 'NULL', 'NULL', 'NULL', 'NULL', '1140', 'NULL', 'NULL', 'NULL', 'NULL', 'NULL', 'NULL', 'NULL', 'NULL', 'NULL', 'NULL', 'NULL', 'Indian Standard Time', 'http://dbpedia.org/resource/Indian_Standard_Time', 'NULL', 'NULL', 'NULL', 'NULL', 'NULL', 'NULL', '+5:30', '33.08 75.28', '{city|place|populated place|municipality|City|Place|_Feature|owl#Thing}', '{http://dbpedia.org/ontology/City|http://dbpedia.org/ontology/Place|http://dbpedia.org/ontology/PopulatedPlace|http://dbpedia.org/ontology/Settlement|http://schema.org/City|http://schema.org/Place|http://www.opengis.net/gml/_Feature|http://www.w3.org/2002/07/owl#Thing}', '33.08', '75.28', 'NULL', 'NULL', 'NULL', 'NULL', 'Kud', 'NULL']\n",
      "----------------------------------------------------------------------------------------------------\n",
      "\n",
      "['http://dbpedia.org/resource/Kuju,_Hazaribag', 'Kuju Hazaribag', 'Kuju is a census town in Ramgarh district in the Indian state of Jharkhand.', 'NULL', 'NULL', 'NULL', 'NULL', 'NULL', 'NULL', 'NULL', 'NULL', 'NULL', 'NULL', 'NULL', 'NULL', 'NULL', 'NULL', 'NULL', 'India', 'http://dbpedia.org/resource/India', 'NULL', 'NULL', 'NULL', 'NULL', 'NULL', 'NULL', '426.0', 'NULL', 'NULL', 'NULL', 'NULL', 'NULL', 'NULL', 'NULL', 'NULL', 'NULL', 'NULL', 'NULL', 'NULL', '{Jharkhand|Ramgarh district}', '{http://dbpedia.org/resource/Jharkhand|http://dbpedia.org/resource/Ramgarh_district}', 'NULL', 'NULL', 'NULL', 'NULL', 'NULL', 'NULL', 'NULL', 'NULL', 'NULL', 'NULL', 'NULL', 'NULL', 'NULL', 'NULL', 'NULL', 'NULL', 'NULL', 'NULL', 'NULL', 'NULL', 'NULL', 'NULL', 'NULL', 'NULL', 'NULL', 'NULL', '18049', 'NULL', 'NULL', 'NULL', 'NULL', 'NULL', 'NULL', 'NULL', 'NULL', 'NULL', 'NULL', 'NULL', 'Indian Standard Time', 'http://dbpedia.org/resource/Indian_Standard_Time', 'NULL', 'NULL', 'NULL', 'NULL', 'NULL', 'NULL', '+5:30', '23.72 85.5', '{city|place|populated place|municipality|City|Place|_Feature|owl#Thing}', '{http://dbpedia.org/ontology/City|http://dbpedia.org/ontology/Place|http://dbpedia.org/ontology/PopulatedPlace|http://dbpedia.org/ontology/Settlement|http://schema.org/City|http://schema.org/Place|http://www.opengis.net/gml/_Feature|http://www.w3.org/2002/07/owl#Thing}', '23.72', '85.5', 'NULL', 'NULL', 'NULL', 'NULL', 'Kuju', 'NULL']\n",
      "----------------------------------------------------------------------------------------------------\n",
      "\n",
      "['http://dbpedia.org/resource/Kumbhraj', 'Kumbhraj', 'Kumbhraj is a town and a nagar panchayat in Guna district in the Indian state of Madhya Pradesh.', 'NULL', 'NULL', 'NULL', 'NULL', 'NULL', 'NULL', 'NULL', 'NULL', 'NULL', 'NULL', 'NULL', 'NULL', 'NULL', 'NULL', 'NULL', 'India', 'http://dbpedia.org/resource/India', 'NULL', 'NULL', 'NULL', 'NULL', 'NULL', 'NULL', '419.0', 'NULL', 'NULL', 'NULL', 'NULL', 'NULL', 'NULL', 'NULL', 'NULL', 'NULL', 'NULL', 'NULL', 'NULL', '{Guna district|Madhya Pradesh}', '{http://dbpedia.org/resource/Guna_district|http://dbpedia.org/resource/Madhya_Pradesh}', 'NULL', 'NULL', 'NULL', 'NULL', 'NULL', 'NULL', 'NULL', 'NULL', 'NULL', 'NULL', 'NULL', 'NULL', 'NULL', 'NULL', 'NULL', 'NULL', 'NULL', 'NULL', 'NULL', 'NULL', 'NULL', 'NULL', 'NULL', 'NULL', 'NULL', 'NULL', '13999', 'NULL', 'NULL', 'NULL', 'NULL', 'NULL', 'NULL', 'NULL', 'NULL', 'NULL', 'NULL', 'NULL', 'Indian Standard Time', 'http://dbpedia.org/resource/Indian_Standard_Time', 'NULL', 'NULL', 'NULL', 'NULL', 'NULL', 'NULL', '+5:30', '24.37 77.05', '{city|place|populated place|municipality|City|Place|_Feature|owl#Thing}', '{http://dbpedia.org/ontology/City|http://dbpedia.org/ontology/Place|http://dbpedia.org/ontology/PopulatedPlace|http://dbpedia.org/ontology/Settlement|http://schema.org/City|http://schema.org/Place|http://www.opengis.net/gml/_Feature|http://www.w3.org/2002/07/owl#Thing}', '24.37', '77.05', 'NULL', 'NULL', 'NULL', 'NULL', 'Kumbhraj', 'NULL']\n",
      "----------------------------------------------------------------------------------------------------\n",
      "\n",
      "['http://dbpedia.org/resource/Kumhari', 'Kumhari', 'Kumhari is a town and a nagar panchayat in Durg district in the Indian state of Chhattisgarh.', 'NULL', 'NULL', 'NULL', 'NULL', 'NULL', 'NULL', 'NULL', 'NULL', 'NULL', 'NULL', 'NULL', 'NULL', 'NULL', 'NULL', 'NULL', 'India', 'http://dbpedia.org/resource/India', 'NULL', 'NULL', 'NULL', 'NULL', 'NULL', 'NULL', '285.0', 'NULL', 'NULL', 'NULL', 'NULL', 'NULL', 'NULL', 'NULL', 'NULL', 'NULL', 'NULL', 'NULL', 'NULL', '{Chhattisgarh|Durg district}', '{http://dbpedia.org/resource/Chhattisgarh|http://dbpedia.org/resource/Durg_district}', 'NULL', 'NULL', 'NULL', 'NULL', 'NULL', 'NULL', 'NULL', 'NULL', 'NULL', 'NULL', 'NULL', 'NULL', 'NULL', 'NULL', 'NULL', 'NULL', 'NULL', 'NULL', 'NULL', 'NULL', 'NULL', 'NULL', 'NULL', 'NULL', 'NULL', 'NULL', '29737', 'NULL', 'NULL', 'NULL', 'NULL', 'NULL', 'NULL', 'NULL', 'NULL', 'NULL', 'NULL', 'NULL', 'Indian Standard Time', 'http://dbpedia.org/resource/Indian_Standard_Time', 'NULL', 'NULL', 'NULL', 'NULL', 'NULL', 'NULL', '+5:30', '21.27 81.52', '{city|place|populated place|municipality|City|Place|_Feature|owl#Thing}', '{http://dbpedia.org/ontology/City|http://dbpedia.org/ontology/Place|http://dbpedia.org/ontology/PopulatedPlace|http://dbpedia.org/ontology/Settlement|http://schema.org/City|http://schema.org/Place|http://www.opengis.net/gml/_Feature|http://www.w3.org/2002/07/owl#Thing}', '21.27', '81.52', 'NULL', 'NULL', 'NULL', 'NULL', 'Kumhari', 'NULL']\n",
      "----------------------------------------------------------------------------------------------------\n",
      "\n",
      "['http://dbpedia.org/resource/Kunigal', 'Kunigal', 'Kunigal is a town in Tumkur district in the Indian state of Karnataka. It is the headquarters of Kunigal taluk. Kunigal is famous for stud farm owned by Vijay Mallya.', 'NULL', 'NULL', 'NULL', 'NULL', 'NULL', '91-8132', 'NULL', 'NULL', 'NULL', 'NULL', 'NULL', 'NULL', 'NULL', 'NULL', 'NULL', 'India', 'http://dbpedia.org/resource/India', 'NULL', 'NULL', 'NULL', 'NULL', 'NULL', 'NULL', '773.0', 'NULL', 'NULL', 'NULL', 'NULL', 'NULL', 'NULL', 'NULL', 'NULL', 'NULL', 'NULL', 'NULL', 'NULL', '{Karnataka|Tumkur district}', '{http://dbpedia.org/resource/Karnataka|http://dbpedia.org/resource/Tumkur_district}', 'NULL', 'NULL', 'NULL', 'NULL', 'NULL', 'NULL', 'NULL', 'NULL', 'NULL', 'NULL', 'NULL', 'NULL', 'NULL', 'NULL', 'NULL', 'NULL', 'NULL', 'NULL', 'NULL', 'NULL', 'NULL', 'NULL', 'NULL', 'NULL', 'NULL', 'NULL', '30291', 'NULL', 'NULL', 'NULL', '572130', 'NULL', 'NULL', 'NULL', 'NULL', 'NULL', 'NULL', 'NULL', 'Indian Standard Time', 'http://dbpedia.org/resource/Indian_Standard_Time', 'NULL', 'NULL', 'NULL', 'NULL', 'NULL', 'NULL', '+5:30', '13.02 77.03', '{city|place|populated place|municipality|City|Place|_Feature|owl#Thing}', '{http://dbpedia.org/ontology/City|http://dbpedia.org/ontology/Place|http://dbpedia.org/ontology/PopulatedPlace|http://dbpedia.org/ontology/Settlement|http://schema.org/City|http://schema.org/Place|http://www.opengis.net/gml/_Feature|http://www.w3.org/2002/07/owl#Thing}', '13.02', '77.03', 'NULL', 'NULL', 'NULL', 'NULL', 'Kunigal', 'NULL']\n",
      "----------------------------------------------------------------------------------------------------\n",
      "\n",
      "['http://dbpedia.org/resource/Kurgunta', 'Kurgunta', 'Kurgunta is a census town in Gulbarga district in the Indian state of Karnataka.', 'NULL', 'NULL', 'NULL', 'NULL', 'NULL', 'NULL', 'NULL', 'NULL', 'NULL', 'NULL', 'NULL', 'NULL', 'NULL', 'NULL', 'NULL', 'India', 'http://dbpedia.org/resource/India', 'NULL', 'NULL', 'NULL', 'NULL', 'NULL', 'NULL', '418.0', 'NULL', 'NULL', 'NULL', 'NULL', 'NULL', 'NULL', 'NULL', 'NULL', 'NULL', 'NULL', 'NULL', 'NULL', '{Gulbarga district|Karnataka}', '{http://dbpedia.org/resource/Gulbarga_district|http://dbpedia.org/resource/Karnataka}', 'NULL', 'NULL', 'NULL', 'NULL', 'NULL', 'NULL', 'NULL', 'NULL', 'NULL', 'NULL', 'NULL', 'NULL', 'NULL', 'NULL', 'NULL', 'NULL', 'NULL', 'NULL', 'NULL', 'NULL', 'NULL', 'NULL', 'NULL', 'NULL', 'NULL', 'NULL', '8584', 'NULL', 'NULL', 'NULL', 'NULL', 'NULL', 'NULL', 'NULL', 'NULL', 'NULL', 'NULL', 'NULL', 'Indian Standard Time', 'http://dbpedia.org/resource/Indian_Standard_Time', 'NULL', 'NULL', 'NULL', 'NULL', 'NULL', 'NULL', '+5:30', '17.2 77.35', '{city|place|populated place|municipality|City|Place|_Feature|owl#Thing}', '{http://dbpedia.org/ontology/City|http://dbpedia.org/ontology/Place|http://dbpedia.org/ontology/PopulatedPlace|http://dbpedia.org/ontology/Settlement|http://schema.org/City|http://schema.org/Place|http://www.opengis.net/gml/_Feature|http://www.w3.org/2002/07/owl#Thing}', '17.2', '77.35', 'NULL', 'NULL', 'NULL', 'NULL', 'Kurgunta', 'NULL']\n",
      "----------------------------------------------------------------------------------------------------\n",
      "\n"
     ]
    }
   ],
   "source": [
    "with open(CITIES, 'r') as file:\n",
    "    reader = csv.reader(file)\n",
    "    for i in range(10):\n",
    "        print(next(reader))\n",
    "        print('-'*100)\n",
    "        print()"
   ]
  },
  {
   "cell_type": "code",
   "execution_count": 40,
   "metadata": {},
   "outputs": [],
   "source": [
    "fieldtypes = defaultdict(set)\n",
    "\n",
    "with open(CITIES, 'r') as file:\n",
    "    reader = csv.DictReader(file)\n",
    "    for _ in range(3):\n",
    "        next(reader)\n",
    "    for line in reader:\n",
    "        for f in FIELDS:\n",
    "            if (line[f] == \"NULL\") or (line[f] == \"\"):\n",
    "                fieldtype = type(None)\n",
    "            elif line[f].startswith('{'):\n",
    "                fieldtype = type(list())\n",
    "            else:\n",
    "                try:\n",
    "                    fieldvalue = int(line[f])\n",
    "                    fieldtype = type(int())\n",
    "                except ValueError:\n",
    "                    try:\n",
    "                        fieldvalue = float(line[f])\n",
    "                        fieldtype = type(float())\n",
    "                    except ValueError:\n",
    "                        fieldtype = type(str())\n",
    "            fieldtypes[f].add(fieldtype)\n",
    "fieldtypes = dict(fieldtypes)"
   ]
  },
  {
   "cell_type": "code",
   "execution_count": 26,
   "metadata": {},
   "outputs": [
    {
     "data": {
      "text/plain": [
       "{'name': {NoneType, list, str},\n",
       " 'timeZone_label': {NoneType, list, str},\n",
       " 'utcOffset': {NoneType, float, int, list, str},\n",
       " 'homepage': {NoneType, list, str},\n",
       " 'governmentType_label': {NoneType, list, str},\n",
       " 'isPartOf_label': {NoneType, list, str},\n",
       " 'areaCode': {NoneType, int, list, str},\n",
       " 'populationTotal': {NoneType, int, list, str},\n",
       " 'elevation': {NoneType, float, list, str},\n",
       " 'maximumElevation': {NoneType, float, list, str},\n",
       " 'minimumElevation': {NoneType, float, str},\n",
       " 'populationDensity': {NoneType, float, list, str},\n",
       " 'wgs84_pos#lat': {NoneType, float, list, str},\n",
       " 'wgs84_pos#long': {NoneType, float, list, str},\n",
       " 'areaLand': {NoneType, float, list, str},\n",
       " 'areaMetro': {NoneType, float, list, str},\n",
       " 'areaUrban': {NoneType, float, list, str}}"
      ]
     },
     "execution_count": 26,
     "metadata": {},
     "output_type": "execute_result"
    }
   ],
   "source": [
    "fieldtypes"
   ]
  },
  {
   "cell_type": "code",
   "execution_count": 80,
   "metadata": {},
   "outputs": [],
   "source": [
    "def audit_file(filename, fields):\n",
    "    fieldtypes = defaultdict(set)\n",
    "\n",
    "    with open(filename, 'r') as file:\n",
    "        reader = csv.DictReader(file)\n",
    "        # Skip the first 3 lines\n",
    "        for _ in range(3):\n",
    "            next(reader)\n",
    "        \n",
    "        for line in reader:\n",
    "            for f in fields:\n",
    "                if (line[f] == \"NULL\") or (line[f] == \"\"):\n",
    "                    fieldtype = type(None)\n",
    "                elif line[f].startswith('{'):\n",
    "                    fieldtype = type(list())\n",
    "                else:\n",
    "                    try:\n",
    "                        fieldvalue = int(line[f])\n",
    "                        fieldtype = type(int())\n",
    "                    except ValueError:\n",
    "                        try:\n",
    "                            fieldvalue = float(line[f])\n",
    "                            fieldtype = type(float())\n",
    "                        except ValueError:\n",
    "                            fieldtype = type(str())\n",
    "                fieldtypes[f].add(fieldtype)\n",
    "    fieldtypes = dict(fieldtypes)\n",
    "    \n",
    "    return fieldtypes"
   ]
  },
  {
   "cell_type": "code",
   "execution_count": 81,
   "metadata": {},
   "outputs": [
    {
     "name": "stdout",
     "output_type": "stream",
     "text": [
      "{'areaCode': {<class 'NoneType'>, <class 'str'>, <class 'int'>},\n",
      " 'areaLand': {<class 'NoneType'>, <class 'float'>, <class 'list'>},\n",
      " 'areaMetro': {<class 'NoneType'>, <class 'float'>},\n",
      " 'areaUrban': {<class 'NoneType'>, <class 'float'>},\n",
      " 'elevation': {<class 'NoneType'>, <class 'list'>, <class 'float'>},\n",
      " 'governmentType_label': {<class 'NoneType'>, <class 'str'>},\n",
      " 'homepage': {<class 'NoneType'>, <class 'str'>},\n",
      " 'isPartOf_label': {<class 'NoneType'>, <class 'str'>, <class 'list'>},\n",
      " 'maximumElevation': {<class 'NoneType'>},\n",
      " 'minimumElevation': {<class 'NoneType'>},\n",
      " 'name': {<class 'NoneType'>, <class 'str'>, <class 'list'>},\n",
      " 'populationDensity': {<class 'NoneType'>, <class 'float'>, <class 'list'>},\n",
      " 'populationTotal': {<class 'NoneType'>, <class 'int'>},\n",
      " 'timeZone_label': {<class 'NoneType'>, <class 'str'>},\n",
      " 'utcOffset': {<class 'list'>,\n",
      "               <class 'int'>,\n",
      "               <class 'NoneType'>,\n",
      "               <class 'str'>},\n",
      " 'wgs84_pos#lat': {<class 'float'>},\n",
      " 'wgs84_pos#long': {<class 'float'>}}\n"
     ]
    }
   ],
   "source": [
    "def test():\n",
    "    fieldtypes = audit_file(CITIES, FIELDS)\n",
    "\n",
    "    pprint.pprint(fieldtypes)\n",
    "\n",
    "    assert fieldtypes[\"areaLand\"] == set([type(1.1), type([]), type(None)])\n",
    "    assert fieldtypes['areaMetro'] == set([type(1.1), type(None)])\n",
    "    \n",
    "test()"
   ]
  },
  {
   "cell_type": "markdown",
   "metadata": {},
   "source": [
    "# Quiz 2"
   ]
  },
  {
   "cell_type": "code",
   "execution_count": 82,
   "metadata": {},
   "outputs": [
    {
     "name": "stdout",
     "output_type": "stream",
     "text": [
      "{1.01787e+08|1.019e+08}\n",
      "{3.15979e+07|3.17e+07}\n",
      "{5.51667e+07|5.53e+07}\n",
      "{6.36e+07|6.37137e+07}\n",
      "{3.78138e+07|3.79e+07}\n",
      "{2.02e+07|2.02019e+07}\n",
      "{2.87489e+08|2.875e+08}\n",
      "{2.5355e+07|2.5356e+07}\n",
      "{2.512e+08|2.51229e+08}\n",
      "{8.25e+07|8.26206e+07}\n",
      "{4.48e+06|4.48068e+06}\n",
      "{1.458e+07|1.45816e+07}\n",
      "{1.71198e+07|1.712e+07}\n",
      "{2.07e+06|2.07199e+06}\n",
      "{4.61e+06|4.61018e+06}\n",
      "{3.26e+06|3.26339e+06}\n",
      "{9.057e+07|9.05719e+07}\n",
      "{1.274e+07|1.27427e+07}\n",
      "{3.136e+07|3.13648e+07}\n",
      "{5.31466e+07|5.315e+07}\n",
      "{3.43173e+07|3.432e+07}\n",
      "{5.33538e+06|5.34e+06}\n",
      "{8.184e+07|8.18436e+07}\n",
      "{1.13959e+07|1.14e+07}\n",
      "{2.056e+07|2.05645e+07}\n",
      "{9.782e+07|9.78239e+07}\n",
      "{4.94688e+06|4.95e+06}\n",
      "{1.20175e+07|1.202e+07}\n"
     ]
    }
   ],
   "source": [
    "fieldtypes = defaultdict(set)\n",
    "\n",
    "with open(CITIES, 'r') as file:\n",
    "    reader = csv.DictReader(file)\n",
    "    for _ in range(3):\n",
    "        next(reader)\n",
    "    for line in reader:\n",
    "        for f in FIELDS:\n",
    "            if (line[f] == \"NULL\") or (line[f] == \"\"):\n",
    "                fieldtype = type(None)\n",
    "            elif line[f].startswith('{'):\n",
    "                if f == 'areaLand':\n",
    "                    print(line[f])\n",
    "                fieldtype = type(list())\n",
    "            else:\n",
    "                try:\n",
    "                    fieldvalue = int(line[f])\n",
    "                    fieldtype = type(int())\n",
    "                except ValueError:\n",
    "                    try:\n",
    "                        fieldvalue = float(line[f])\n",
    "                        fieldtype = type(float())\n",
    "                    except ValueError:\n",
    "                        fieldtype = type(str())\n",
    "            fieldtypes[f].add(fieldtype)\n",
    "fieldtypes = dict(fieldtypes)"
   ]
  },
  {
   "cell_type": "markdown",
   "metadata": {},
   "source": [
    "It would be reasonable to keep the value with the most significant digits."
   ]
  },
  {
   "cell_type": "markdown",
   "metadata": {},
   "source": [
    "# Quiz 3"
   ]
  },
  {
   "cell_type": "code",
   "execution_count": 83,
   "metadata": {},
   "outputs": [],
   "source": [
    "\"\"\"\n",
    "In this problem set you work with cities infobox data, audit it, come up with a\n",
    "cleaning idea and then clean it up.\n",
    "\n",
    "Since in the previous quiz you made a decision on which value to keep for the\n",
    "\"areaLand\" field, you now know what has to be done.\n",
    "\n",
    "Finish the function fix_area(). It will receive a string as an input, and it\n",
    "has to return a float representing the value of the area or None.\n",
    "You have to change the function fix_area. You can use extra functions if you\n",
    "like, but changes to process_file will not be taken into account.\n",
    "The rest of the code is just an example on how this function can be used.\n",
    "\"\"\"\n",
    "import codecs\n",
    "import csv\n",
    "import json\n",
    "import pprint\n",
    "\n",
    "CITIES = 'data/cities.csv'"
   ]
  },
  {
   "cell_type": "code",
   "execution_count": 84,
   "metadata": {},
   "outputs": [],
   "source": [
    "area = '{1.20175e+07|1.202e+07}'"
   ]
  },
  {
   "cell_type": "code",
   "execution_count": 85,
   "metadata": {},
   "outputs": [
    {
     "data": {
      "text/plain": [
       "['1.20175e+07', '1.202e+07']"
      ]
     },
     "execution_count": 85,
     "metadata": {},
     "output_type": "execute_result"
    }
   ],
   "source": [
    "area_list = area.strip('{}').split('|')\n",
    "area_list"
   ]
  },
  {
   "cell_type": "code",
   "execution_count": 86,
   "metadata": {},
   "outputs": [
    {
     "data": {
      "text/plain": [
       "'1.20175e+07'"
      ]
     },
     "execution_count": 86,
     "metadata": {},
     "output_type": "execute_result"
    }
   ],
   "source": [
    "area_str = area_list[0]\n",
    "area_str"
   ]
  },
  {
   "cell_type": "code",
   "execution_count": 87,
   "metadata": {},
   "outputs": [
    {
     "data": {
      "text/plain": [
       "'120175'"
      ]
     },
     "execution_count": 87,
     "metadata": {},
     "output_type": "execute_result"
    }
   ],
   "source": [
    "area_str.split('e')[0].rstrip('0').replace('.', '')"
   ]
  },
  {
   "cell_type": "code",
   "execution_count": 88,
   "metadata": {},
   "outputs": [
    {
     "data": {
      "text/plain": [
       "6"
      ]
     },
     "execution_count": 88,
     "metadata": {},
     "output_type": "execute_result"
    }
   ],
   "source": [
    "len(area_str.split('e')[0].rstrip('0').replace('.', ''))"
   ]
  },
  {
   "cell_type": "code",
   "execution_count": 89,
   "metadata": {},
   "outputs": [],
   "source": [
    "def num_significant(area_str):\n",
    "    return len(area_str.split('e')[0].rstrip('0').replace('.', ''))"
   ]
  },
  {
   "cell_type": "code",
   "execution_count": 90,
   "metadata": {},
   "outputs": [],
   "source": [
    "def fix_area(area):\n",
    "    if not area.startswith('{'):\n",
    "        try:\n",
    "            return float(area)\n",
    "        except ValueError:\n",
    "            return None\n",
    "    area_list = area.strip('{}').split('|')\n",
    "    area = None\n",
    "    current_significant = 0\n",
    "    for area_str in area_list:\n",
    "        try:\n",
    "            candidate = float(area_str)\n",
    "            candidate_significant = num_significant(area_str)\n",
    "            if candidate_significant > current_significant:\n",
    "                area = candidate\n",
    "                current_significant = candidate_significant\n",
    "        except ValueError:\n",
    "            pass  # Keep the previous values\n",
    "    return area"
   ]
  },
  {
   "cell_type": "code",
   "execution_count": 91,
   "metadata": {},
   "outputs": [
    {
     "data": {
      "text/plain": [
       "12017500.0"
      ]
     },
     "execution_count": 91,
     "metadata": {},
     "output_type": "execute_result"
    }
   ],
   "source": [
    "fix_area(area)"
   ]
  },
  {
   "cell_type": "code",
   "execution_count": 92,
   "metadata": {},
   "outputs": [
    {
     "name": "stdout",
     "output_type": "stream",
     "text": [
      "Printing three example results:\n",
      "None\n",
      "101787000.0\n",
      "31597900.0\n"
     ]
    }
   ],
   "source": [
    "def process_file(filename):\n",
    "    # CHANGES TO THIS FUNCTION WILL BE IGNORED WHEN YOU SUBMIT THE EXERCISE\n",
    "    data = []\n",
    "\n",
    "    with open(filename, \"r\") as f:\n",
    "        reader = csv.DictReader(f)\n",
    "\n",
    "        #skipping the extra metadata\n",
    "        for i in range(3):\n",
    "            l = next(reader) #.next()\n",
    "\n",
    "        # processing file\n",
    "        for line in reader:\n",
    "            # calling your function to fix the area value\n",
    "            if \"areaLand\" in line:\n",
    "                line[\"areaLand\"] = fix_area(line[\"areaLand\"])\n",
    "            data.append(line)\n",
    "\n",
    "    return data\n",
    "\n",
    "\n",
    "def test():\n",
    "    data = process_file(CITIES)\n",
    "\n",
    "    print(\"Printing three example results:\")\n",
    "    for n in range(5,8):\n",
    "        pprint.pprint(data[n][\"areaLand\"])\n",
    "\n",
    "    assert data[3][\"areaLand\"] == None        \n",
    "    assert data[8][\"areaLand\"] == 55166700.0\n",
    "    assert data[20][\"areaLand\"] == 14581600.0\n",
    "    assert data[33][\"areaLand\"] == 20564500.0    \n",
    "\n",
    "\n",
    "if __name__ == \"__main__\":\n",
    "    test()"
   ]
  },
  {
   "cell_type": "markdown",
   "metadata": {},
   "source": [
    "# Quiz 4"
   ]
  },
  {
   "cell_type": "code",
   "execution_count": 93,
   "metadata": {},
   "outputs": [],
   "source": [
    "interesting = ['name', 'populationTotal', 'areaMetro', 'postalCode']"
   ]
  },
  {
   "cell_type": "code",
   "execution_count": 94,
   "metadata": {},
   "outputs": [
    {
     "name": "stdout",
     "output_type": "stream",
     "text": [
      "{'areaMetro': {<class 'NoneType'>, <class 'float'>},\n",
      " 'name': {<class 'NoneType'>, <class 'str'>, <class 'list'>},\n",
      " 'populationTotal': {<class 'NoneType'>, <class 'int'>},\n",
      " 'postalCode': {<class 'NoneType'>, <class 'str'>, <class 'int'>}}\n"
     ]
    }
   ],
   "source": [
    "fieldtypes = audit_file(CITIES, FIELDS + ['postalCode',])\n",
    "\n",
    "pprint.pprint({k:v for k,v in fieldtypes.items() if k in interesting})"
   ]
  },
  {
   "cell_type": "markdown",
   "metadata": {},
   "source": [
    "# Quiz 5"
   ]
  },
  {
   "cell_type": "code",
   "execution_count": 96,
   "metadata": {},
   "outputs": [],
   "source": [
    "\"\"\"\n",
    "In this problem set you work with cities infobox data, audit it, come up with a\n",
    "cleaning idea and then clean it up.\n",
    "\n",
    "In the previous quiz you recognized that the \"name\" value can be an array (or\n",
    "list in Python terms). It would make it easier to process and query the data\n",
    "later if all values for the name are in a Python list, instead of being\n",
    "just a string separated with special characters, like now.\n",
    "\n",
    "Finish the function fix_name(). It will recieve a string as an input, and it\n",
    "will return a list of all the names. If there is only one name, the list will\n",
    "have only one item in it; if the name is \"NULL\", the list should be empty.\n",
    "The rest of the code is just an example on how this function can be used.\n",
    "\"\"\"\n",
    "import codecs\n",
    "import csv\n",
    "import pprint\n",
    "\n",
    "CITIES = 'data/cities.csv'"
   ]
  },
  {
   "cell_type": "code",
   "execution_count": 102,
   "metadata": {},
   "outputs": [],
   "source": [
    "def fix_name(name):\n",
    "    if name.startswith('{'):\n",
    "        return name.strip('{}').split('|')\n",
    "    if name == 'NULL':\n",
    "        return list()\n",
    "    return [name, ]"
   ]
  },
  {
   "cell_type": "code",
   "execution_count": 103,
   "metadata": {},
   "outputs": [
    {
     "name": "stdout",
     "output_type": "stream",
     "text": [
      "Printing 20 results:\n",
      "['Kud']\n",
      "['Kuju']\n",
      "['Kumbhraj']\n",
      "['Kumhari']\n",
      "['Kunigal']\n",
      "['Kurgunta']\n",
      "['Athens']\n",
      "['Demopolis']\n",
      "['Chelsea Alabama']\n",
      "['Pell City Alabama']\n",
      "['City of Northport']\n",
      "['Sand Point']\n",
      "['Unalaska Alaska']\n",
      "['City of Menlo Park']\n",
      "['Negtemiut', 'Nightmute']\n",
      "['Fairbanks Alaska']\n",
      "['Homer']\n",
      "['Ketchikan Alaska']\n",
      "['Nuniaq', 'Old Harbor']\n",
      "['Rainier Washington']\n"
     ]
    }
   ],
   "source": [
    "def process_file(filename):\n",
    "    data = []\n",
    "    with open(filename, \"r\") as f:\n",
    "        reader = csv.DictReader(f)\n",
    "        #skipping the extra metadata\n",
    "        for i in range(3):\n",
    "            l = next(reader)\n",
    "        # processing file\n",
    "        for line in reader:\n",
    "            # calling your function to fix the area value\n",
    "            if \"name\" in line:\n",
    "                line[\"name\"] = fix_name(line[\"name\"])\n",
    "            data.append(line)\n",
    "    return data\n",
    "\n",
    "\n",
    "def test():\n",
    "    data = process_file(CITIES)\n",
    "\n",
    "    print(\"Printing 20 results:\")\n",
    "    for n in range(20):\n",
    "        pprint.pprint(data[n][\"name\"])\n",
    "\n",
    "    assert data[14][\"name\"] == ['Negtemiut', 'Nightmute']\n",
    "    assert data[9][\"name\"] == ['Pell City Alabama']\n",
    "    assert data[3][\"name\"] == ['Kumhari']\n",
    "\n",
    "if __name__ == \"__main__\":\n",
    "    test()"
   ]
  },
  {
   "cell_type": "markdown",
   "metadata": {},
   "source": [
    "# Quiz 6"
   ]
  },
  {
   "cell_type": "code",
   "execution_count": 104,
   "metadata": {},
   "outputs": [],
   "source": [
    "\"\"\"\n",
    "In this problem set you work with cities infobox data, audit it, come up with a\n",
    "cleaning idea and then clean it up.\n",
    "\n",
    "If you look at the full city data, you will notice that there are couple of\n",
    "values that seem to provide the same information in different formats: \"point\"\n",
    "seems to be the combination of \"wgs84_pos#lat\" and \"wgs84_pos#long\". However,\n",
    "we do not know if that is the case and should check if they are equivalent.\n",
    "\n",
    "Finish the function check_loc(). It will recieve 3 strings: first, the combined\n",
    "value of \"point\" followed by the separate \"wgs84_pos#\" values. You have to\n",
    "extract the lat and long values from the \"point\" argument and compare them to\n",
    "the \"wgs84_pos# values, returning True or False.\n",
    "\n",
    "Note that you do not have to fix the values, only determine if they are\n",
    "consistent. To fix them in this case you would need more information. Feel free\n",
    "to discuss possible strategies for fixing this on the discussion forum.\n",
    "\n",
    "The rest of the code is just an example on how this function can be used.\n",
    "Changes to \"process_file\" function will not be taken into account for grading.\n",
    "\"\"\"\n",
    "import csv\n",
    "import pprint\n",
    "\n",
    "CITIES = 'data/cities.csv'"
   ]
  },
  {
   "cell_type": "code",
   "execution_count": 128,
   "metadata": {},
   "outputs": [],
   "source": [
    "def check_loc(point, lat, longi):\n",
    "    point_list = [float(s) for s in point.split()]\n",
    "    lat = float(lat)\n",
    "    longi = float(longi)\n",
    "    same = (point_list[0] == lat) and (point_list[1] == longi)\n",
    "    #same = (abs(point_list[0] - lat) < 1e-6 * abs(lat))\\\n",
    "    #    and (abs(point_list[1] - longi) < 1e-6 * abs(longi))\n",
    "    return same"
   ]
  },
  {
   "cell_type": "code",
   "execution_count": 129,
   "metadata": {},
   "outputs": [
    {
     "name": "stdout",
     "output_type": "stream",
     "text": [
      "point: 33.08 75.28 - lat: 33.08 - longi: 75.28 \n",
      " Result: True\n",
      "\n",
      "point: 23.72 85.5 - lat: 23.72 - longi: 85.5 \n",
      " Result: True\n",
      "\n",
      "point: 24.37 77.05 - lat: 24.37 - longi: 77.05 \n",
      " Result: True\n",
      "\n",
      "point: 21.27 81.52 - lat: 21.27 - longi: 81.52 \n",
      " Result: True\n",
      "\n",
      "point: 13.02 77.03 - lat: 13.02 - longi: 77.03 \n",
      " Result: True\n",
      "\n",
      "point: 17.2 77.35 - lat: 17.2 - longi: 77.35 \n",
      " Result: True\n",
      "\n",
      "point: 34.789722222222224 -86.96944444444445 - lat: 34.7897 - longi: -86.9694 \n",
      " Result: False\n",
      "\n",
      "point: 32.50944444444445 -87.83722222222222 - lat: 32.5094 - longi: -87.8372 \n",
      " Result: False\n",
      "\n",
      "point: 33.329166666666666 -86.65083333333334 - lat: 33.3292 - longi: -86.6508 \n",
      " Result: False\n",
      "\n",
      "point: 33.57083333333333 -86.27388888888889 - lat: 33.5708 - longi: -86.2739 \n",
      " Result: False\n",
      "\n",
      "point: 33.25388888888889 -87.59222222222222 - lat: 33.2539 - longi: -87.5922 \n",
      " Result: False\n",
      "\n",
      "point: 55.336666666666666 -160.49333333333334 - lat: 55.3367 - longi: -160.493 \n",
      " Result: False\n",
      "\n",
      "point: 53.888888888888886 -166.52722222222224 - lat: 53.8889 - longi: -166.527 \n",
      " Result: False\n",
      "\n",
      "point: 37.454166666666666 -122.17861111111111 - lat: 37.4542 - longi: -122.179 \n",
      " Result: False\n",
      "\n",
      "point: 60.49138888888889 -164.82611111111112 - lat: 60.4914 - longi: -164.826 \n",
      " Result: False\n",
      "\n",
      "point: 64.84361111111112 -147.72305555555556 - lat: 64.8436 - longi: -147.723 \n",
      " Result: False\n",
      "\n",
      "point: 59.643055555555556 -151.52583333333334 - lat: 59.6431 - longi: -151.526 \n",
      " Result: False\n",
      "\n",
      "point: 55.35 -131.67333333333335 - lat: 55.35 - longi: -131.673 \n",
      " Result: False\n",
      "\n",
      "point: 57.19722222222222 -153.30777777777777 - lat: 57.1972 - longi: -153.308 \n",
      " Result: False\n",
      "\n",
      "point: 46.89083333333333 -122.68972222222222 - lat: 46.8908 - longi: -122.69 \n",
      " Result: False\n",
      "\n",
      "point: 48.988055555555555 -122.74361111111111 - lat: 48.9881 - longi: -122.744 \n",
      " Result: False\n",
      "\n",
      "point: 48.84888888888889 -122.59027777777777 - lat: 48.8489 - longi: -122.59 \n",
      " Result: False\n",
      "\n",
      "point: 46.211666666666666 -119.99638888888889 - lat: 46.2117 - longi: -119.996 \n",
      " Result: False\n",
      "\n",
      "point: 46.40361111111111 -120.26083333333334 - lat: 46.4036 - longi: -120.261 \n",
      " Result: False\n",
      "\n",
      "point: 38.39972222222222 -82.57861111111112 - lat: 38.3997 - longi: -82.5786 \n",
      " Result: False\n",
      "\n",
      "point: 43.006388888888885 -89.43138888888889 - lat: 43.0064 - longi: -89.4314 \n",
      " Result: False\n",
      "\n",
      "point: 42.92111111111111 -89.22444444444444 - lat: 42.9211 - longi: -89.2244 \n",
      " Result: False\n",
      "\n",
      "point: 43.2 -88.71666666666667 - lat: 43.2 - longi: -88.7167 \n",
      " Result: False\n",
      "\n",
      "point: 43.81333333333333 -91.23305555555555 - lat: 43.8133 - longi: -91.2331 \n",
      " Result: False\n",
      "\n",
      "point: 43.05888888888889 -88.0261111111111 - lat: 43.0589 - longi: -88.0261 \n",
      " Result: False\n",
      "\n",
      "point: 44.57833333333333 -91.21833333333333 - lat: 44.5783 - longi: -91.2183 \n",
      " Result: False\n",
      "\n",
      "point: 42.90123611111111 -88.1246388888889 - lat: 42.9012 - longi: -88.1246 \n",
      " Result: False\n",
      "\n",
      "point: 44.62416666666667 -88.75805555555556 - lat: 44.6242 - longi: -88.7581 \n",
      " Result: False\n",
      "\n",
      "point: 43.318333333333335 -88.3788888888889 - lat: 43.3183 - longi: -88.3789 \n",
      " Result: False\n",
      "\n",
      "point: 47.67333333333333 -117.23944444444444 - lat: 47.6733 - longi: -117.239 \n",
      " Result: False\n",
      "\n",
      "point: 45.75 126.63333333333334 - lat: 45.75 - longi: 126.633 \n",
      " Result: False\n",
      "\n",
      "point: 51.516666666666666 7.466666666666667 - lat: 51.5167 - longi: 7.46667 \n",
      " Result: False\n",
      "\n",
      "point: 42.270833333333336 -93.92694444444444 - lat: 42.2708 - longi: -93.9269 \n",
      " Result: False\n",
      "\n",
      "point: 43.261944444444445 -93.64027777777778 - lat: 43.2619 - longi: -93.6403 \n",
      " Result: False\n",
      "\n"
     ]
    }
   ],
   "source": [
    "with open(CITIES, 'r') as file:\n",
    "    reader = csv.DictReader(file)\n",
    "    for i in range(3):\n",
    "        next(reader)\n",
    "    for row in reader:\n",
    "        print('point: {} - lat: {} - longi: {} \\n Result: {}\\n'.format(\n",
    "            row['point'],\n",
    "            row['wgs84_pos#lat'],\n",
    "            row['wgs84_pos#long'],\n",
    "            check_loc(row['point'], row['wgs84_pos#lat'], row['wgs84_pos#long'])\n",
    "        ))"
   ]
  },
  {
   "cell_type": "code",
   "execution_count": 130,
   "metadata": {},
   "outputs": [],
   "source": [
    "def process_file(filename):\n",
    "    data = []\n",
    "    with open(filename, \"r\") as f:\n",
    "        reader = csv.DictReader(f)\n",
    "        #skipping the extra matadata\n",
    "        for i in range(3):\n",
    "            l = reader.next()\n",
    "        # processing file\n",
    "        for line in reader:\n",
    "            # calling your function to check the location\n",
    "            result = check_loc(line[\"point\"], line[\"wgs84_pos#lat\"], line[\"wgs84_pos#long\"])\n",
    "            if not result:\n",
    "                print(\"{}: {} != {} {}\".format(line[\"name\"], line[\"point\"], line[\"wgs84_pos#lat\"], line[\"wgs84_pos#long\"]))\n",
    "            data.append(line)\n",
    "\n",
    "    return data\n",
    "\n",
    "\n",
    "def test():\n",
    "    assert check_loc(\"33.08 75.28\", \"33.08\", \"75.28\") == True\n",
    "    assert check_loc(\"44.57833333333333 -91.21833333333333\", \"44.5783\", \"-91.2183\") == False\n",
    "\n",
    "if __name__ == \"__main__\":\n",
    "    test()"
   ]
  },
  {
   "cell_type": "code",
   "execution_count": null,
   "metadata": {},
   "outputs": [],
   "source": []
  },
  {
   "cell_type": "code",
   "execution_count": null,
   "metadata": {},
   "outputs": [],
   "source": []
  },
  {
   "cell_type": "code",
   "execution_count": null,
   "metadata": {},
   "outputs": [],
   "source": []
  }
 ],
 "metadata": {
  "kernelspec": {
   "display_name": "data",
   "language": "python",
   "name": "data"
  },
  "language_info": {
   "codemirror_mode": {
    "name": "ipython",
    "version": 3
   },
   "file_extension": ".py",
   "mimetype": "text/x-python",
   "name": "python",
   "nbconvert_exporter": "python",
   "pygments_lexer": "ipython3",
   "version": "3.6.5"
  }
 },
 "nbformat": 4,
 "nbformat_minor": 2
}
