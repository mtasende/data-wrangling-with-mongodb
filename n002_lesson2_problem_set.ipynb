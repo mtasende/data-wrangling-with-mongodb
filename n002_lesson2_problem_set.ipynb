{
 "cells": [
  {
   "cell_type": "markdown",
   "metadata": {},
   "source": [
    "# Quiz 1"
   ]
  },
  {
   "cell_type": "code",
   "execution_count": 1,
   "metadata": {},
   "outputs": [],
   "source": [
    "\"\"\"\n",
    "Your task is to process the supplied file and use the csv module to extract data from it.\n",
    "The data comes from NREL (National Renewable Energy Laboratory) website. Each file\n",
    "contains information from one meteorological station, in particular - about amount of\n",
    "solar and wind energy for each hour of day.\n",
    "\n",
    "Note that the first line of the datafile is neither data entry, nor header. It is a line\n",
    "describing the data source. You should extract the name of the station from it.\n",
    "\n",
    "The data should be returned as a list of lists (not dictionaries).\n",
    "You can use the csv modules \"reader\" method to get data in such format.\n",
    "Another useful method is next() - to get the next line from the iterator.\n",
    "You should only change the parse_file function.\n",
    "\"\"\"\n",
    "import csv\n",
    "import os\n",
    "\n",
    "DATADIR = \"data\"\n",
    "DATAFILE = \"745090.csv\""
   ]
  },
  {
   "cell_type": "code",
   "execution_count": 2,
   "metadata": {},
   "outputs": [],
   "source": [
    "def parse_file(datafile):\n",
    "    name = \"\"\n",
    "    data = []\n",
    "    \n",
    "    with open(datafile, 'r') as f:\n",
    "        reader = csv.reader(f)\n",
    "        header = next(reader)\n",
    "        colnames = next(reader)\n",
    "        \n",
    "        for d in reader:\n",
    "            data.append(d)\n",
    "    \n",
    "    name = header[1]\n",
    "\n",
    "    # Do not change the line below\n",
    "    return (name, data)"
   ]
  },
  {
   "cell_type": "code",
   "execution_count": 3,
   "metadata": {},
   "outputs": [],
   "source": [
    "def test():\n",
    "    datafile = os.path.join(DATADIR, DATAFILE)\n",
    "    name, data = parse_file(datafile)\n",
    "\n",
    "    assert name == \"MOUNTAIN VIEW MOFFETT FLD NAS\"\n",
    "    assert data[0][1] == \"01:00\"\n",
    "    assert data[2][0] == \"01/01/2005\"\n",
    "    assert data[2][5] == \"2\""
   ]
  },
  {
   "cell_type": "code",
   "execution_count": 4,
   "metadata": {},
   "outputs": [],
   "source": [
    "test()"
   ]
  },
  {
   "cell_type": "markdown",
   "metadata": {},
   "source": [
    "# Quiz 2"
   ]
  },
  {
   "cell_type": "code",
   "execution_count": 12,
   "metadata": {},
   "outputs": [],
   "source": [
    "'''\n",
    "Find the time and value of max load for each of the regions\n",
    "COAST, EAST, FAR_WEST, NORTH, NORTH_C, SOUTHERN, SOUTH_C, WEST\n",
    "and write the result out in a csv file, using pipe character | as the delimiter.\n",
    "\n",
    "An example output can be seen in the \"example.csv\" file.\n",
    "'''\n",
    "\n",
    "import xlrd\n",
    "import os\n",
    "import csv\n",
    "from zipfile import ZipFile\n",
    "\n",
    "datafile = \"data/2013_ERCOT_Hourly_Load_Data.xls\"\n",
    "outfile = \"2013_Max_Loads.csv\""
   ]
  },
  {
   "cell_type": "code",
   "execution_count": 51,
   "metadata": {},
   "outputs": [],
   "source": [
    "def open_zip(datafile):\n",
    "    with ZipFile('{0}.zip'.format(datafile), 'r') as myzip:\n",
    "        myzip.extractall()\n",
    "\n",
    "\n",
    "def parse_file(datafile):\n",
    "    workbook = xlrd.open_workbook(datafile)\n",
    "    sheet = workbook.sheet_by_index(0)\n",
    "    headers = [sheet.cell_value(0, col) for col in range(1, sheet.ncols - 1)]\n",
    "    values = [[sheet.cell_value(row, col) \n",
    "               for row in range(1, sheet.nrows)] \n",
    "              for col in range(sheet.ncols - 1)]\n",
    "    max_values = [max(enumerate(col), key=lambda x: x[1]) for col in values[1:]]\n",
    "    new_headers = ['Station', 'Year', 'Month', 'Day', 'Hour', 'Max Load']\n",
    "    data = [new_headers, ]\n",
    "    data += [[headers[station_idx], ] +\\\n",
    "             list(xlrd.xldate_as_tuple(values[0][max_val[0]], 0)[:4]) +\\\n",
    "             [max_val[1], ] for station_idx, max_val in enumerate(max_values)]\n",
    "    return data\n",
    "\n",
    "def save_file(data, filename):\n",
    "    header = data[0]\n",
    "    with open(filename, 'w') as file:\n",
    "        writer = csv.DictWriter(file, fieldnames=header, delimiter='|')\n",
    "        writer.writeheader()\n",
    "        for row in range(1, len(data)):\n",
    "            writer.writerow({key: val for key, val in zip(header, data[row])})"
   ]
  },
  {
   "cell_type": "code",
   "execution_count": 53,
   "metadata": {},
   "outputs": [],
   "source": [
    "def test():\n",
    "    # open_zip(datafile)\n",
    "    data = parse_file(datafile)\n",
    "    save_file(data, outfile)\n",
    "\n",
    "    number_of_rows = 0\n",
    "    stations = []\n",
    "\n",
    "    ans = {'FAR_WEST': {'Max Load': '2281.2722140000024',\n",
    "                        'Year': '2013',\n",
    "                        'Month': '6',\n",
    "                        'Day': '26',\n",
    "                        'Hour': '17'}}\n",
    "    correct_stations = ['COAST', 'EAST', 'FAR_WEST', 'NORTH',\n",
    "                        'NORTH_C', 'SOUTHERN', 'SOUTH_C', 'WEST']\n",
    "    fields = ['Year', 'Month', 'Day', 'Hour', 'Max Load']\n",
    "\n",
    "    with open(outfile) as of:\n",
    "        csvfile = csv.DictReader(of, delimiter=\"|\")\n",
    "        for line in csvfile:\n",
    "            station = line['Station']\n",
    "            if station == 'FAR_WEST':\n",
    "                for field in fields:\n",
    "                    # Check if 'Max Load' is within .1 of answer\n",
    "                    if field == 'Max Load':\n",
    "                        max_answer = round(float(ans[station][field]), 1)\n",
    "                        max_line = round(float(line[field]), 1)\n",
    "                        assert max_answer == max_line\n",
    "\n",
    "                    # Otherwise check for equality\n",
    "                    else:\n",
    "                        assert ans[station][field] == line[field]\n",
    "\n",
    "            number_of_rows += 1\n",
    "            stations.append(station)\n",
    "\n",
    "        # Output should be 8 lines not including header\n",
    "        assert number_of_rows == 8\n",
    "\n",
    "        # Check Station Names\n",
    "        assert set(stations) == set(correct_stations)\n",
    "\n",
    "        \n",
    "if __name__ == \"__main__\":\n",
    "    test()"
   ]
  },
  {
   "cell_type": "markdown",
   "metadata": {},
   "source": [
    "# Quiz 3"
   ]
  },
  {
   "cell_type": "code",
   "execution_count": 57,
   "metadata": {},
   "outputs": [],
   "source": [
    "\"\"\"\n",
    "This exercise shows some important concepts that you should be aware about:\n",
    "- using codecs module to write unicode files\n",
    "- using authentication with web APIs\n",
    "- using offset when accessing web APIs\n",
    "\n",
    "To run this code locally you have to register at the NYTimes developer site \n",
    "and get your own API key. You will be able to complete this exercise in our UI\n",
    "without doing so, as we have provided a sample result. (See the file \n",
    "'popular-viewed-1.json' from the tabs above.)\n",
    "\n",
    "Your task is to modify the article_overview() function to process the saved\n",
    "file that represents the most popular articles (by view count) from the last\n",
    "day, and return a tuple of variables containing the following data:\n",
    "- labels: list of dictionaries, where the keys are the \"section\" values and\n",
    "  values are the \"title\" values for each of the retrieved articles.\n",
    "- urls: list of URLs for all 'media' entries with \"format\": \"Standard Thumbnail\"\n",
    "\n",
    "All your changes should be in the article_overview() function. See the test() \n",
    "function for examples of the elements of the output lists.\n",
    "The rest of functions are provided for your convenience, if you want to access\n",
    "the API by yourself.\n",
    "\"\"\"\n",
    "import json\n",
    "import codecs\n",
    "import requests\n",
    "\n",
    "URL_MAIN = \"http://api.nytimes.com/svc/\"\n",
    "URL_POPULAR = URL_MAIN + \"mostpopular/v2/\"\n",
    "API_KEY = { \"popular\": \"\",\n",
    "            \"article\": \"\"}\n",
    "\n",
    "\n",
    "def get_from_file(kind, period):\n",
    "    filename = \"data/popular-{0}-{1}.json\".format(kind, period)\n",
    "    with open(filename, \"r\") as f:\n",
    "        return json.loads(f.read())"
   ]
  },
  {
   "cell_type": "code",
   "execution_count": 68,
   "metadata": {},
   "outputs": [],
   "source": [
    "data = get_from_file(\"viewed\", 1)"
   ]
  },
  {
   "cell_type": "code",
   "execution_count": 70,
   "metadata": {},
   "outputs": [
    {
     "data": {
      "text/plain": [
       "{'Opinion': 'A Watchful Eye in Hospitals',\n",
       " 'N.Y. / Region': 'Addicted on Staten Island',\n",
       " 'Fashion & Style': 'For Interns, All Work and No Payoff',\n",
       " 'Sports': 'Hanyu Falls Twice, but Still Wins Gold',\n",
       " 'U.S.': 'Spying by N.S.A. Ally Entangled U.S. Law Firm',\n",
       " 'Business Day': 'Comcast vs. the Cord Cutters',\n",
       " 'Technology': 'Intel’s Sharp-Eyed Social Scientist',\n",
       " 'Movies': 'The Greatest Film Role Ever Cast'}"
      ]
     },
     "execution_count": 70,
     "metadata": {},
     "output_type": "execute_result"
    }
   ],
   "source": [
    "\n",
    "titles"
   ]
  },
  {
   "cell_type": "code",
   "execution_count": 97,
   "metadata": {},
   "outputs": [
    {
     "data": {
      "text/plain": [
       "20"
      ]
     },
     "execution_count": 97,
     "metadata": {},
     "output_type": "execute_result"
    }
   ],
   "source": [
    "len(data)"
   ]
  },
  {
   "cell_type": "code",
   "execution_count": null,
   "metadata": {},
   "outputs": [],
   "source": []
  },
  {
   "cell_type": "code",
   "execution_count": 91,
   "metadata": {},
   "outputs": [
    {
     "data": {
      "text/plain": [
       "30"
      ]
     },
     "execution_count": 91,
     "metadata": {},
     "output_type": "execute_result"
    }
   ],
   "source": [
    "len(urls)"
   ]
  },
  {
   "cell_type": "code",
   "execution_count": 78,
   "metadata": {},
   "outputs": [],
   "source": [
    "d = data[0]"
   ]
  },
  {
   "cell_type": "code",
   "execution_count": 83,
   "metadata": {},
   "outputs": [
    {
     "data": {
      "text/plain": [
       "{'media-metadata': [{'url': 'http://graphics8.nytimes.com/images/2014/02/16/sunday-review/16MARRIAGEJP/16MARRIAGEJP-thumbStandard.jpg',\n",
       "   'width': 75,\n",
       "   'height': 75,\n",
       "   'format': 'Standard Thumbnail'},\n",
       "  {'url': 'http://graphics8.nytimes.com/images/2014/02/16/sunday-review/16MARRIAGEJP/16MARRIAGEJP-superJumbo.jpg',\n",
       "   'width': 2048,\n",
       "   'height': 1815,\n",
       "   'format': 'superJumbo'},\n",
       "  {'url': 'http://graphics8.nytimes.com/images/2014/02/16/sunday-review/16MARRIAGEJP/16MARRIAGEJP-sfSpan.jpg',\n",
       "   'width': 395,\n",
       "   'height': 263,\n",
       "   'format': 'Large'},\n",
       "  {'url': 'http://graphics8.nytimes.com/images/2014/02/16/sunday-review/16MARRIAGEJP/16MARRIAGEJP-thumbLarge.jpg',\n",
       "   'width': 150,\n",
       "   'height': 150,\n",
       "   'format': 'thumbLarge'},\n",
       "  {'url': 'http://graphics8.nytimes.com/images/2014/02/16/sunday-review/16MARRIAGEJP/16MARRIAGEJP-articleInline.jpg',\n",
       "   'width': 190,\n",
       "   'height': 168,\n",
       "   'format': 'Normal'},\n",
       "  {'url': 'http://graphics8.nytimes.com/images/2014/02/16/sunday-review/16MARRIAGEJP/16MARRIAGEJP-square640.jpg',\n",
       "   'width': 640,\n",
       "   'height': 640,\n",
       "   'format': 'square640'},\n",
       "  {'url': 'http://graphics8.nytimes.com/images/2014/02/16/sunday-review/16MARRIAGEJP/16MARRIAGEJP-square320.jpg',\n",
       "   'width': 320,\n",
       "   'height': 320,\n",
       "   'format': 'square320'},\n",
       "  {'url': 'http://graphics8.nytimes.com/images/2014/02/16/sunday-review/16MARRIAGEJP/16MARRIAGEJP-mediumThreeByTwo210.jpg',\n",
       "   'width': 210,\n",
       "   'height': 140,\n",
       "   'format': 'mediumThreeByTwo210'}],\n",
       " 'subtype': 'photo',\n",
       " 'type': 'image',\n",
       " 'copyright': 'Pieter Van Eenoge',\n",
       " 'caption': ''}"
      ]
     },
     "execution_count": 83,
     "metadata": {},
     "output_type": "execute_result"
    }
   ],
   "source": [
    "d['media'][1]"
   ]
  },
  {
   "cell_type": "code",
   "execution_count": 63,
   "metadata": {},
   "outputs": [
    {
     "data": {
      "text/plain": [
       "'The All-or-Nothing Marriage'"
      ]
     },
     "execution_count": 63,
     "metadata": {},
     "output_type": "execute_result"
    }
   ],
   "source": [
    "d['title']"
   ]
  },
  {
   "cell_type": "code",
   "execution_count": 64,
   "metadata": {},
   "outputs": [
    {
     "data": {
      "text/plain": [
       "'Opinion'"
      ]
     },
     "execution_count": 64,
     "metadata": {},
     "output_type": "execute_result"
    }
   ],
   "source": [
    "d['section']"
   ]
  },
  {
   "cell_type": "code",
   "execution_count": 66,
   "metadata": {},
   "outputs": [
    {
     "data": {
      "text/plain": [
       "20"
      ]
     },
     "execution_count": 66,
     "metadata": {},
     "output_type": "execute_result"
    }
   ],
   "source": [
    "len(data)"
   ]
  },
  {
   "cell_type": "code",
   "execution_count": 67,
   "metadata": {},
   "outputs": [
    {
     "data": {
      "text/plain": [
       "[{'media-metadata': [{'url': 'http://graphics8.nytimes.com/images/2014/02/16/sunday-review/16COVER/16COVER-thumbStandard.jpg',\n",
       "    'width': 75,\n",
       "    'height': 75,\n",
       "    'format': 'Standard Thumbnail'},\n",
       "   {'url': 'http://graphics8.nytimes.com/images/2014/02/16/sunday-review/16COVER/16COVER-superJumbo.jpg',\n",
       "    'width': 2048,\n",
       "    'height': 1552,\n",
       "    'format': 'superJumbo'},\n",
       "   {'url': 'http://graphics8.nytimes.com/images/2014/02/16/sunday-review/16COVER/16COVER-sfSpan.jpg',\n",
       "    'width': 395,\n",
       "    'height': 263,\n",
       "    'format': 'Large'},\n",
       "   {'url': 'http://graphics8.nytimes.com/images/2014/02/16/sunday-review/16COVER/16COVER-thumbLarge.jpg',\n",
       "    'width': 150,\n",
       "    'height': 150,\n",
       "    'format': 'thumbLarge'},\n",
       "   {'url': 'http://graphics8.nytimes.com/images/2014/02/16/sunday-review/16COVER/16COVER-articleInline.jpg',\n",
       "    'width': 190,\n",
       "    'height': 144,\n",
       "    'format': 'Normal'},\n",
       "   {'url': 'http://graphics8.nytimes.com/images/2014/02/16/sunday-review/16COVER/16COVER-square640.jpg',\n",
       "    'width': 640,\n",
       "    'height': 640,\n",
       "    'format': 'square640'},\n",
       "   {'url': 'http://graphics8.nytimes.com/images/2014/02/16/sunday-review/16COVER/16COVER-square320.jpg',\n",
       "    'width': 320,\n",
       "    'height': 320,\n",
       "    'format': 'square320'},\n",
       "   {'url': 'http://graphics8.nytimes.com/images/2014/02/16/sunday-review/16COVER/16COVER-mediumThreeByTwo210.jpg',\n",
       "    'width': 210,\n",
       "    'height': 140,\n",
       "    'format': 'mediumThreeByTwo210'}],\n",
       "  'subtype': 'photo',\n",
       "  'type': 'image',\n",
       "  'copyright': 'Pieter Van Eenoge',\n",
       "  'caption': ''},\n",
       " {'media-metadata': [{'url': 'http://graphics8.nytimes.com/images/2014/02/16/sunday-review/16MARRIAGEJP/16MARRIAGEJP-thumbStandard.jpg',\n",
       "    'width': 75,\n",
       "    'height': 75,\n",
       "    'format': 'Standard Thumbnail'},\n",
       "   {'url': 'http://graphics8.nytimes.com/images/2014/02/16/sunday-review/16MARRIAGEJP/16MARRIAGEJP-superJumbo.jpg',\n",
       "    'width': 2048,\n",
       "    'height': 1815,\n",
       "    'format': 'superJumbo'},\n",
       "   {'url': 'http://graphics8.nytimes.com/images/2014/02/16/sunday-review/16MARRIAGEJP/16MARRIAGEJP-sfSpan.jpg',\n",
       "    'width': 395,\n",
       "    'height': 263,\n",
       "    'format': 'Large'},\n",
       "   {'url': 'http://graphics8.nytimes.com/images/2014/02/16/sunday-review/16MARRIAGEJP/16MARRIAGEJP-thumbLarge.jpg',\n",
       "    'width': 150,\n",
       "    'height': 150,\n",
       "    'format': 'thumbLarge'},\n",
       "   {'url': 'http://graphics8.nytimes.com/images/2014/02/16/sunday-review/16MARRIAGEJP/16MARRIAGEJP-articleInline.jpg',\n",
       "    'width': 190,\n",
       "    'height': 168,\n",
       "    'format': 'Normal'},\n",
       "   {'url': 'http://graphics8.nytimes.com/images/2014/02/16/sunday-review/16MARRIAGEJP/16MARRIAGEJP-square640.jpg',\n",
       "    'width': 640,\n",
       "    'height': 640,\n",
       "    'format': 'square640'},\n",
       "   {'url': 'http://graphics8.nytimes.com/images/2014/02/16/sunday-review/16MARRIAGEJP/16MARRIAGEJP-square320.jpg',\n",
       "    'width': 320,\n",
       "    'height': 320,\n",
       "    'format': 'square320'},\n",
       "   {'url': 'http://graphics8.nytimes.com/images/2014/02/16/sunday-review/16MARRIAGEJP/16MARRIAGEJP-mediumThreeByTwo210.jpg',\n",
       "    'width': 210,\n",
       "    'height': 140,\n",
       "    'format': 'mediumThreeByTwo210'}],\n",
       "  'subtype': 'photo',\n",
       "  'type': 'image',\n",
       "  'copyright': 'Pieter Van Eenoge',\n",
       "  'caption': ''}]"
      ]
     },
     "execution_count": 67,
     "metadata": {},
     "output_type": "execute_result"
    }
   ],
   "source": [
    "d['media']"
   ]
  },
  {
   "cell_type": "code",
   "execution_count": 98,
   "metadata": {},
   "outputs": [],
   "source": [
    "def article_overview(kind, period):\n",
    "    data = get_from_file(kind, period)\n",
    "    titles = []\n",
    "    urls =[]\n",
    "    titles = [{d['section']: d['title']} for d in data]\n",
    "    urls = [u['url']\n",
    "        for d in data \n",
    "        for m in d['media'] \n",
    "        for u in m['media-metadata'] \n",
    "        if u['format'] == 'Standard Thumbnail']\n",
    "    \n",
    "    return (titles, urls)"
   ]
  },
  {
   "cell_type": "code",
   "execution_count": 99,
   "metadata": {},
   "outputs": [],
   "source": [
    "def query_site(url, target, offset):\n",
    "    # This will set up the query with the API key and offset\n",
    "    # Web services often use offset paramter to return data in small chunks\n",
    "    # NYTimes returns 20 articles per request, if you want the next 20\n",
    "    # You have to provide the offset parameter\n",
    "    if API_KEY[\"popular\"] == \"\" or API_KEY[\"article\"] == \"\":\n",
    "        print(\"You need to register for NYTimes Developer account to run this program.\")\n",
    "        print(\"See Intructor notes for information\")\n",
    "        return False\n",
    "    params = {\"api-key\": API_KEY[target], \"offset\": offset}\n",
    "    r = requests.get(url, params = params)\n",
    "\n",
    "    if r.status_code == requests.codes.ok:\n",
    "        return r.json()\n",
    "    else:\n",
    "        r.raise_for_status()\n",
    "\n",
    "\n",
    "def get_popular(url, kind, days, section=\"all-sections\", offset=0):\n",
    "    # This function will construct the query according to the requirements of the site\n",
    "    # and return the data, or print an error message if called incorrectly\n",
    "    if days not in [1,7,30]:\n",
    "        print(\"Time period can be 1,7, 30 days only\")\n",
    "        return False\n",
    "    if kind not in [\"viewed\", \"shared\", \"emailed\"]:\n",
    "        print(\"kind can be only one of viewed/shared/emailed\")\n",
    "        return False\n",
    "\n",
    "    url += \"most{0}/{1}/{2}.json\".format(kind, section, days)\n",
    "    data = query_site(url, \"popular\", offset)\n",
    "\n",
    "    return data\n",
    "\n",
    "\n",
    "def save_file(kind, period):\n",
    "    # This will process all results, by calling the API repeatedly with supplied offset value,\n",
    "    # combine the data and then write all results in a file.\n",
    "    data = get_popular(URL_POPULAR, \"viewed\", 1)\n",
    "    num_results = data[\"num_results\"]\n",
    "    full_data = []\n",
    "    with codecs.open(\"popular-{0}-{1}.json\".format(kind, period), encoding='utf-8', mode='w') as v:\n",
    "        for offset in range(0, num_results, 20):        \n",
    "            data = get_popular(URL_POPULAR, kind, period, offset=offset)\n",
    "            full_data += data[\"results\"]\n",
    "        \n",
    "        v.write(json.dumps(full_data, indent=2))\n",
    "\n",
    "\n",
    "def test():\n",
    "    titles, urls = article_overview(\"viewed\", 1)\n",
    "    assert len(titles) == 20\n",
    "    assert len(urls) == 30\n",
    "    assert titles[2] == {'Opinion': 'Professors, We Need You!'}\n",
    "    assert urls[20] == 'http://graphics8.nytimes.com/images/2014/02/17/sports/ICEDANCE/ICEDANCE-thumbStandard.jpg'"
   ]
  },
  {
   "cell_type": "code",
   "execution_count": null,
   "metadata": {},
   "outputs": [],
   "source": []
  }
 ],
 "metadata": {
  "kernelspec": {
   "display_name": "data",
   "language": "python",
   "name": "data"
  },
  "language_info": {
   "codemirror_mode": {
    "name": "ipython",
    "version": 3
   },
   "file_extension": ".py",
   "mimetype": "text/x-python",
   "name": "python",
   "nbconvert_exporter": "python",
   "pygments_lexer": "ipython3",
   "version": "3.6.5"
  }
 },
 "nbformat": 4,
 "nbformat_minor": 2
}
