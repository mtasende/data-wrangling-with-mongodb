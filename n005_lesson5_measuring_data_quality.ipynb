{
 "cells": [
  {
   "cell_type": "markdown",
   "metadata": {},
   "source": [
    "# Measuring Data Quality"
   ]
  },
  {
   "cell_type": "markdown",
   "metadata": {},
   "source": [
    "## Measures of Data Quality\n",
    "\n",
    "- Validity: Conforms to a Schema\n",
    "- Accuracy: Conforms to gold standard\n",
    "- Completeness: All records?\n",
    "- Consistency: Matches other data\n",
    "- Uniformity: Same units"
   ]
  },
  {
   "cell_type": "markdown",
   "metadata": {},
   "source": [
    "## Blueprint for Cleaning Data\n",
    "\n",
    "- Audit your Data\n",
    "- Create a Data Cleaning Plan\n",
    "  - Identify causes\n",
    "  - Define operations\n",
    "  - Test\n",
    "- Execute the plan (run a script)\n",
    "- Manually correct\n",
    "\n",
    "\n",
    "Iterate on the process"
   ]
  },
  {
   "cell_type": "markdown",
   "metadata": {},
   "source": [
    "# Quiz 1"
   ]
  },
  {
   "cell_type": "code",
   "execution_count": 27,
   "metadata": {},
   "outputs": [],
   "source": [
    "\"\"\"\n",
    "Your task is to check the \"productionStartYear\" of the DBPedia autos datafile for valid values.\n",
    "The following things should be done:\n",
    "- check if the field \"productionStartYear\" contains a year\n",
    "- check if the year is in range 1886-2014\n",
    "- convert the value of the field to be just a year (not full datetime)\n",
    "- the rest of the fields and values should stay the same\n",
    "- if the value of the field is a valid year in the range as described above,\n",
    "  write that line to the output_good file\n",
    "- if the value of the field is not a valid year as described above, \n",
    "  write that line to the output_bad file\n",
    "- discard rows (neither write to good nor bad) if the URI is not from dbpedia.org\n",
    "- you should use the provided way of reading and writing data (DictReader and DictWriter)\n",
    "  They will take care of dealing with the header.\n",
    "\n",
    "You can write helper functions for checking the data and writing the files, but we will call only the \n",
    "'process_file' with 3 arguments (inputfile, output_good, output_bad).\n",
    "\"\"\"\n",
    "import csv\n",
    "import pprint\n",
    "import datetime as dt\n",
    "\n",
    "INPUT_FILE = 'data/autos.csv'\n",
    "OUTPUT_GOOD = 'data/autos-valid.csv'\n",
    "OUTPUT_BAD = 'data/FIXME-autos.csv'"
   ]
  },
  {
   "cell_type": "code",
   "execution_count": 28,
   "metadata": {},
   "outputs": [],
   "source": [
    "def get_date(date_str):\n",
    "    try:\n",
    "        return dt.datetime.strptime(date_str[:10], '%Y-%m-%d')\n",
    "    except ValueError:\n",
    "        return None"
   ]
  },
  {
   "cell_type": "code",
   "execution_count": 29,
   "metadata": {},
   "outputs": [],
   "source": [
    "def date_in_range(year):\n",
    "    min_year = 1886\n",
    "    max_year = dt.datetime.now().year\n",
    "    return (min_year <= year) and (year <= max_year)"
   ]
  },
  {
   "cell_type": "code",
   "execution_count": 30,
   "metadata": {},
   "outputs": [],
   "source": [
    "def process_file(input_file, output_good, output_bad):\n",
    "    good_data = list()\n",
    "    bad_data = list()\n",
    "\n",
    "    with open(input_file, \"r\") as f:\n",
    "            reader = csv.DictReader(f)\n",
    "            header = reader.fieldnames\n",
    "            start_year_idx = header.index('productionStartYear')\n",
    "            for row in reader:\n",
    "                # Discard if the URI is not correct\n",
    "                if not row['URI'].startswith('http://dbpedia.org'):\n",
    "                    continue\n",
    "                # Check that it is a date\n",
    "                date = get_date(row['productionStartYear'])\n",
    "                if not date:\n",
    "                    bad_data.append(row)\n",
    "                    continue\n",
    "                # Convert to year alone\n",
    "                year = date.year\n",
    "                row['productionStartYear'] = year\n",
    "                # Check the year's range\n",
    "                if not date_in_range(year):\n",
    "                    bad_data.append(row)\n",
    "                    continue\n",
    "                good_data.append(row)\n",
    "\n",
    "    # Write the output to files\n",
    "    with open(output_good, \"w\") as g:\n",
    "        writer = csv.DictWriter(g, delimiter=\",\", fieldnames= header)\n",
    "        writer.writeheader()\n",
    "        for row in good_data:\n",
    "            writer.writerow(row)\n",
    "\n",
    "    with open(output_bad, \"w\") as g:\n",
    "        writer = csv.DictWriter(g, delimiter=\",\", fieldnames= header)\n",
    "        writer.writeheader()\n",
    "        for row in bad_data:\n",
    "            writer.writerow(row)"
   ]
  },
  {
   "cell_type": "code",
   "execution_count": 32,
   "metadata": {},
   "outputs": [],
   "source": [
    "def test():\n",
    "    process_file(INPUT_FILE, OUTPUT_GOOD, OUTPUT_BAD)\n",
    "\n",
    "\n",
    "test()"
   ]
  }
 ],
 "metadata": {
  "kernelspec": {
   "display_name": "data",
   "language": "python",
   "name": "data"
  },
  "language_info": {
   "codemirror_mode": {
    "name": "ipython",
    "version": 3
   },
   "file_extension": ".py",
   "mimetype": "text/x-python",
   "name": "python",
   "nbconvert_exporter": "python",
   "pygments_lexer": "ipython3",
   "version": "3.6.5"
  }
 },
 "nbformat": 4,
 "nbformat_minor": 2
}
